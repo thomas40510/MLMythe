{
 "nbformat": 4,
 "nbformat_minor": 0,
 "metadata": {
  "colab": {
   "name": "TP1.ipynb",
   "provenance": [],
   "collapsed_sections": []
  },
  "kernelspec": {
   "name": "python3",
   "display_name": "Python 3"
  }
 },
 "cells": [
  {
   "cell_type": "markdown",
   "metadata": {
    "id": "9yBro2t4C094"
   },
   "source": [
    "# **TP1 : le workflow universel du machine learning**"
   ]
  },
  {
   "cell_type": "markdown",
   "metadata": {
    "id": "3FNW770KHG9O"
   },
   "source": [
    "# Context & Objectives\n",
    "\n",
    "This TP aims to familiarize yourself with the \"universal workflow of machine learning\" (this expression is from Chollet et al. (2019) ). This workflow should be used as a step-by-step guideline to reach preliminary results on a new machine learning project. It is composed of the following steps:\n",
    "\n",
    "1.   **Problem definition** : define the machine learning task based on available data, visualize and compute summary statistics on your data to better understand them ;\n",
    "2.   **Dataset preparation** : perform some feature engineering if needed (such as variable selection), format your data in a way that can be fed into a machine-learning model, i.e. as a feature matrix or tensor **X**, and build a vector of labels *y* for supervised tasks, perform feature normalization and selection if needed (done in conjunction with step 3) ;\n",
    "3.   **Evaluation protocol** : split **X** into a train / test partition (we remind you that the goal of this splitting is first to train a classifier by \"fitting\" it on the training subset, and secondly to make this trained classifier predict unseen digits from the test subset), choose performance metrics, define a cross-validation procedure, evaluate a baseline machine learning model (starting with off-the-shelf algorithms adapted to your problem and default model parameters) ;\n",
    "\n",
    "4.   **Model evaluation** : run model training and test w.r.t the evaluation protocol, interpret performance result and re-iterate the worflow from step 2 as necessary.\n",
    "\n",
    "In this TP, we will see how this workflow can be used to achieve first results  towards the development of these two (already existing) industrial products:\n",
    "\n",
    "1.   The [CheckReader™](https://www.a2ia.com/en/a2ia-checkreader-0) system from the company Mitek : it is a global standard for advanced image analysis and intelligent recognition software used to seamlessly, precisely and securely process checks and other payment documentation by banks, financial institutions and other progressive corporations around the world. Here we will focus on the **recognition of handwritten digits from bank checks** ;\n",
    "\n",
    "2.   (BONUS part) The [Faradai Platform](https://faradai.ai/?page=blog&subpage=forecasting-energy-consumption-with-ai) develops SaaS products for energy management. It has various modules to analyze energy usage or energy production ; **Energy Consumption Forecasting** is one of these tools. Forecasting is crucial for energy managers to track the success of energy conservation projects and to calculate the feasibility of energy saving investments. It is also important for energy budget managers to prepare highly accurate budgets for the next quarter or year and to procure cost-effective energy tariffs."
   ]
  },
  {
   "cell_type": "markdown",
   "metadata": {
    "id": "6Wdj-QLarGP4"
   },
   "source": [
    "# 1. Digit recognition from images"
   ]
  },
  {
   "cell_type": "markdown",
   "metadata": {
    "id": "UhHto7DwI_Dc"
   },
   "source": [
    "For this first problem, we will be using the sklearn dataset called `load_digits`, downloaded as follows:"
   ]
  },
  {
   "cell_type": "code",
   "metadata": {
    "id": "uzv5Ng5DUcXj",
    "colab": {
     "base_uri": "https://localhost:8080/"
    },
    "executionInfo": {
     "status": "ok",
     "timestamp": 1648198840415,
     "user_tz": -60,
     "elapsed": 1476,
     "user": {
      "displayName": "Dorian Cazau",
      "photoUrl": "https://lh3.googleusercontent.com/a/default-user=s64",
      "userId": "08552727308627398808"
     }
    },
    "outputId": "c1b0aad6-f77e-45af-eaad-fdbcef165d3a"
   },
   "source": [
    "from sklearn.datasets import load_digits\n",
    "digits = load_digits()\n",
    "print(type(digits))"
   ],
   "execution_count": 1,
   "outputs": [
    {
     "name": "stdout",
     "output_type": "stream",
     "text": [
      "<class 'sklearn.utils.Bunch'>\n"
     ]
    }
   ]
  },
  {
   "cell_type": "code",
   "metadata": {
    "colab": {
     "base_uri": "https://localhost:8080/"
    },
    "id": "GlgvSjIIeSQD",
    "executionInfo": {
     "status": "ok",
     "timestamp": 1648198840416,
     "user_tz": -60,
     "elapsed": 35,
     "user": {
      "displayName": "Dorian Cazau",
      "photoUrl": "https://lh3.googleusercontent.com/a/default-user=s64",
      "userId": "08552727308627398808"
     }
    },
    "outputId": "6e648602-6dca-46eb-dce9-b8a111a1c138"
   },
   "source": [
    "digits['images'].shape"
   ],
   "execution_count": 2,
   "outputs": [
    {
     "data": {
      "text/plain": "(1797, 8, 8)"
     },
     "execution_count": 2,
     "metadata": {},
     "output_type": "execute_result"
    }
   ]
  },
  {
   "cell_type": "code",
   "metadata": {
    "colab": {
     "base_uri": "https://localhost:8080/"
    },
    "id": "XrwRXtG0fijI",
    "executionInfo": {
     "status": "ok",
     "timestamp": 1648198840416,
     "user_tz": -60,
     "elapsed": 27,
     "user": {
      "displayName": "Dorian Cazau",
      "photoUrl": "https://lh3.googleusercontent.com/a/default-user=s64",
      "userId": "08552727308627398808"
     }
    },
    "outputId": "1b9da943-6773-4c2a-b93e-1fa1cf582751"
   },
   "source": [
    "digits['target'].shape"
   ],
   "execution_count": 3,
   "outputs": [
    {
     "data": {
      "text/plain": "(1797,)"
     },
     "execution_count": 3,
     "metadata": {},
     "output_type": "execute_result"
    }
   ]
  },
  {
   "cell_type": "markdown",
   "metadata": {
    "id": "ngKoMb7P5n7e"
   },
   "source": [
    "and here is what a digit looks like:"
   ]
  },
  {
   "cell_type": "code",
   "metadata": {
    "id": "svI0YG55BrrB",
    "colab": {
     "base_uri": "https://localhost:8080/",
     "height": 325
    },
    "executionInfo": {
     "status": "ok",
     "timestamp": 1648127805005,
     "user_tz": -60,
     "elapsed": 720,
     "user": {
      "displayName": "Dorian Cazau",
      "photoUrl": "https://lh3.googleusercontent.com/a/default-user=s64",
      "userId": "08552727308627398808"
     }
    },
    "outputId": "0040994b-2b0a-40f9-f0f1-dd1ae13ae154"
   },
   "source": [
    "from matplotlib import pyplot as plt\n",
    "\n",
    "plt.figure(1, figsize=(10,10))\n",
    "plt.clf()\n",
    "plt.subplots_adjust(left=.01, right=.99, bottom=.01, top=.4)\n",
    "for i in range(10):\n",
    "    plt.subplot(2, 5, i + 1)\n",
    "    plt.imshow(digits.images[10+i], cmap=plt.cm.gray, vmax=16, interpolation='nearest')\n",
    "    plt.xticks(())\n",
    "    plt.yticks(())\n",
    "    plt.title('Digit no: %i' %i)"
   ],
   "execution_count": 4,
   "outputs": [
    {
     "data": {
      "text/plain": "<Figure size 720x720 with 10 Axes>",
      "image/png": "[encoded data removed]"
     },
     "metadata": {},
     "output_type": "display_data"
    }
   ]
  },
  {
   "cell_type": "markdown",
   "metadata": {
    "id": "StZCadEKglgz"
   },
   "source": [
    "The object ```digits``` is a bunch object. If this is the first time you hear about it, it is better you have a quick look to its [documentation](https://pypi.org/project/bunch/) before starting... "
   ]
  },
  {
   "cell_type": "markdown",
   "metadata": {
    "id": "nLVa9GCsa0u4"
   },
   "source": [
    "## Problem definition"
   ]
  },
  {
   "cell_type": "markdown",
   "source": [
    "**Question 1.1** : please answer the following questions about the dataset:\n",
    "\n",
    "1. what is the total number of samples in the dataset ?\n",
    "2. what is the number of classes in the dataset ? and the number of samples per class ? Make comments on the balancedness of your dataset. \n",
    "\n",
    "Based on these information, define a machine learning task relevant to your product development.\n"
   ],
   "metadata": {
    "collapsed": false
   }
  },
  {
   "cell_type": "code",
   "execution_count": 5,
   "outputs": [
    {
     "name": "stdout",
     "output_type": "stream",
     "text": [
      "Total number of samples in the dataset:  1797\n",
      "Number of classes in the dataset:  10\n",
      "Number of samples per class:  Counter({3: 183, 1: 182, 5: 182, 4: 181, 6: 181, 9: 180, 7: 179, 0: 178, 2: 177, 8: 174})\n",
      ">> The dataset is balanced\n"
     ]
    }
   ],
   "source": [
    "# total nbr of samples in the dataset\n",
    "print(\"Total number of samples in the dataset: \", digits['images'].shape[0])\n",
    "# nbr of classes in the dataset\n",
    "print(\"Number of classes in the dataset: \", len(set(digits['target'])))\n",
    "# balancedness of the dataset\n",
    "from collections import Counter\n",
    "print(\"Number of samples per class: \", Counter(digits['target']))\n",
    "print(\">> The dataset is balanced\")"
   ],
   "metadata": {
    "collapsed": false
   }
  },
  {
   "cell_type": "markdown",
   "source": [
    "A relevant machine learning task for this dataset is to predict the digit from the image. This is a classification problem with 10 classes (digits from 0 to 9).\n",
    "=> Multiclass single-label supervised classification problem."
   ],
   "metadata": {
    "collapsed": false
   }
  },
  {
   "cell_type": "markdown",
   "metadata": {
    "id": "8DzIVufmtSsU"
   },
   "source": [
    "**Question 1.2** : please answer the following questions about the images:\n",
    "\n",
    "1.   what is the size of an image ?\n",
    "2.   what is the type of a pixel value ? Comment.\n",
    "3.   what is the image type and bit depth ?"
   ]
  },
  {
   "cell_type": "code",
   "execution_count": 6,
   "outputs": [
    {
     "name": "stdout",
     "output_type": "stream",
     "text": [
      "Size of an image:  (8, 8)\n",
      "Type of a pixel value:  <class 'numpy.float64'>\n",
      ">> The pixel values are integers between 0 and 16\n",
      "Image type:  float64\n",
      "Bit depth:  64\n"
     ]
    }
   ],
   "source": [
    "# size of an image\n",
    "print(\"Size of an image: \", digits['images'][0].shape)\n",
    "# type of a pixel value\n",
    "print(\"Type of a pixel value: \", type(digits['images'][0][0][0]))\n",
    "print(\">> The pixel values are integers between 0 and 16\")\n",
    "# image type and bit depth\n",
    "print(\"Image type: \", digits['images'][0].dtype)\n",
    "print(\"Bit depth: \", digits['images'][0].dtype.itemsize*8)"
   ],
   "metadata": {
    "collapsed": false
   }
  },
  {
   "cell_type": "markdown",
   "metadata": {
    "id": "kpOdMm-YrMY8"
   },
   "source": [
    "## Dataset preparation"
   ]
  },
  {
   "cell_type": "markdown",
   "metadata": {
    "id": "5bzU-yyOKhiu"
   },
   "source": [
    "**Question 1.3** : most standard machine learning algorithms impose a 2D feature matrix **X** as input data. Propose a way to build such a matrix for your dataset. In your code it will be a `np.ndarray` called `X`.\n",
    "\n",
    "*tips: you need to flatten the image, i.e. to reshape all images in a `(total_samples, **nb_features**)` matrix, i.e. bis turning each 2-D array of grayscale values from shape (8, 8) into shape (64,).*"
   ]
  },
  {
   "cell_type": "code",
   "execution_count": 7,
   "outputs": [
    {
     "name": "stdout",
     "output_type": "stream",
     "text": [
      "Shape of X:  (1797, 64)\n"
     ]
    }
   ],
   "source": [
    "# build a 2D feature matrix X\n",
    "import numpy as np\n",
    "def flatten_images(images) -> np.ndarray:\n",
    "    return images.reshape(images.shape[0], -1)\n",
    "\n",
    "X = flatten_images(digits['images'])\n",
    "print(\"Shape of X: \", X.shape)"
   ],
   "metadata": {
    "collapsed": false
   }
  },
  {
   "cell_type": "markdown",
   "metadata": {
    "id": "X5JbRq_CLZEO"
   },
   "source": [
    "## Evaluation protocol"
   ]
  },
  {
   "cell_type": "markdown",
   "metadata": {
    "id": "4OJdr85lLc_y"
   },
   "source": [
    "**Question 1.4** : split `X` into train and test subsets using a 80/20 % train/test ratio. `X` will then be divided into `X_train` and `X_test`, and `y` into the corresponding labels `y_train` and `y_test`. This splitting can be done with the scikit [train_test_split](https://scikit-learn.org/stable/modules/generated/sklearn.model_selection.train_test_split.html) function. Take time to make you familiar with the different parameters of this function, especially the `stratify` parameter.\n",
    "\n",
    "What is the size of the whole training/testing datasets and the size of each class? Comment the splitting results.\n",
    "\n",
    "*tips : use the [Counter](https://docs.python.org/fr/3/library/collections.html#collections.Counter) class from the module collections*"
   ]
  },
  {
   "cell_type": "code",
   "execution_count": 8,
   "outputs": [
    {
     "name": "stdout",
     "output_type": "stream",
     "text": [
      "Size of the whole training dataset:  1437\n"
     ]
    }
   ],
   "source": [
    "# split X into train and test subsets, ratio 80/20\n",
    "from sklearn.model_selection import train_test_split\n",
    "X_train, X_test, y_train, y_test = train_test_split(X, digits['target'],\n",
    "                                                    test_size=0.2, random_state=42,\n",
    "                                                    stratify=digits['target'])\n",
    "\n",
    "print(\"Size of the whole training dataset: \", X_train.shape[0])"
   ],
   "metadata": {
    "collapsed": false
   }
  },
  {
   "cell_type": "markdown",
   "metadata": {
    "id": "YEeSASzJiwto"
   },
   "source": [
    "**Question 1.5** : as evaluation metrics, we will use the n-class confusion matrix and the overall accuracy. This latter is defined as the sum of its diagonal elements divided by the sum of all elements.\n",
    "\n",
    "In a code cell below, write a function `def compute_confusion_matrix(y_test, y_pred), ` where `y_pred` is the predicition by a `classifier` of some target labels `y_test`. We consider that the N classes are labelled with integers from 0 to N-1.\n",
    "\n",
    "To help you, you can compare your function outputs with those from the sklearn function, implemented on the toy example below:"
   ]
  },
  {
   "cell_type": "code",
   "execution_count": 9,
   "outputs": [],
   "source": [
    "def compute_confusion_matrix(y_test, y_pred):\n",
    "    # compute the confusion matrix\n",
    "    confusion_matrix = np.zeros((len(set(y_test)), len(set(y_test))))\n",
    "    for i in range(len(y_test)):\n",
    "        confusion_matrix[y_test[i]][y_pred[i]] += 1\n",
    "    # compute the overall accuracy\n",
    "    overall_accuracy = np.trace(confusion_matrix) / np.sum(confusion_matrix) * 100\n",
    "    return confusion_matrix, overall_accuracy"
   ],
   "metadata": {
    "collapsed": false
   }
  },
  {
   "cell_type": "code",
   "metadata": {
    "id": "INsmiIB0kL76",
    "colab": {
     "base_uri": "https://localhost:8080/"
    },
    "executionInfo": {
     "status": "ok",
     "timestamp": 1648127805988,
     "user_tz": -60,
     "elapsed": 16,
     "user": {
      "displayName": "Dorian Cazau",
      "photoUrl": "https://lh3.googleusercontent.com/a/default-user=s64",
      "userId": "08552727308627398808"
     }
    },
    "outputId": "dcaccd1a-5c29-478a-f313-a2c215443541"
   },
   "source": [
    "from sklearn import metrics\n",
    "\n",
    "# print(metrics.accuracy_score(y_test_example,y_pred_example))\n",
    "\n",
    "y_test_example = [0, 1, 2, 0, 1, 2, 0, 1, 2]\n",
    "y_pred_example = [0, 0, 0, 0, 1, 1, 0, 2, 2]\n",
    "\n",
    "result = metrics.confusion_matrix(y_test_example,y_pred_example)\n",
    "res,ov = compute_confusion_matrix(y_test_example,y_pred_example)\n",
    "\n",
    "print('Custom confusion matrix: \\n',res)\n",
    "print('Sklearn confusion matrix: \\n',result)\n",
    "\n",
    "print('\\n')\n",
    "\n",
    "print('Custom confusion matrix:',ov)\n",
    "print('Sklearn confusion matrix:',metrics.accuracy_score(y_test_example,y_pred_example)*100)"
   ],
   "execution_count": 10,
   "outputs": [
    {
     "name": "stdout",
     "output_type": "stream",
     "text": [
      "Custom confusion matrix: \n",
      " [[3. 0. 0.]\n",
      " [1. 1. 1.]\n",
      " [1. 1. 1.]]\n",
      "Sklearn confusion matrix: \n",
      " [[3 0 0]\n",
      " [1 1 1]\n",
      " [1 1 1]]\n",
      "\n",
      "\n",
      "Custom confusion matrix: 55.55555555555556\n",
      "Sklearn confusion matrix: 55.55555555555556\n"
     ]
    }
   ]
  },
  {
   "cell_type": "markdown",
   "metadata": {
    "id": "3x6EK_L9N4m8"
   },
   "source": [
    "## Model evaluation"
   ]
  },
  {
   "cell_type": "markdown",
   "metadata": {
    "id": "a2TD7vscK_ug"
   },
   "source": [
    "As explained in our introduction, it is good practice to start your evaluation with a simple off-the-shelf model called a baseline. Here we will use a famous classifier called [logistic regression](https://scikit-learn.org/stable/modules/generated/sklearn.linear_model.LogisticRegression.html) (weird name for a classifier, but we will clarify this in the next TP)\n",
    "\n",
    "Let's create it and train it using the `X_train` subset. For this first TP, do not worry about it, here is how this is done using `sklearn` tools:"
   ]
  },
  {
   "cell_type": "code",
   "metadata": {
    "id": "sP98diBcKthq",
    "colab": {
     "base_uri": "https://localhost:8080/"
    },
    "executionInfo": {
     "status": "ok",
     "timestamp": 1648127806733,
     "user_tz": -60,
     "elapsed": 756,
     "user": {
      "displayName": "Dorian Cazau",
      "photoUrl": "https://lh3.googleusercontent.com/a/default-user=s64",
      "userId": "08552727308627398808"
     }
    },
    "outputId": "f0929753-2257-4d6a-b154-6f3afdf96e15"
   },
   "source": [
    "# as we will see in TP2, LogisticRegression is quite tricky to make it optimally converge, this command line ignores warnings related to convergence problem\n",
    "import warnings \n",
    "warnings.filterwarnings('ignore')\n",
    "\n",
    "# Create a classifier: a LogisticRegression\n",
    "from sklearn.linear_model import LogisticRegression\n",
    "model = LogisticRegression()\n",
    "#model = svm.SVC(gamma=0.001)\n",
    "model.fit(X_train, y_train)"
   ],
   "execution_count": 11,
   "outputs": [
    {
     "data": {
      "text/plain": "LogisticRegression()"
     },
     "execution_count": 11,
     "metadata": {},
     "output_type": "execute_result"
    }
   ]
  },
  {
   "cell_type": "markdown",
   "metadata": {
    "id": "xcmk-NIqiZI9"
   },
   "source": [
    "Once trained, your `model` can be directly used to predict your labels on `X_test` as follows:"
   ]
  },
  {
   "cell_type": "code",
   "metadata": {
    "id": "tUwOJ3uGOBA7"
   },
   "source": [
    "predicted = model.predict(X_test)"
   ],
   "execution_count": 12,
   "outputs": []
  },
  {
   "cell_type": "markdown",
   "metadata": {
    "id": "At0rJFBlHrv_"
   },
   "source": [
    "You can verify that this variable has the same shape as `y_test` so they can be directly compared:"
   ]
  },
  {
   "cell_type": "code",
   "metadata": {
    "id": "xxlnmh7WHzfX",
    "colab": {
     "base_uri": "https://localhost:8080/"
    },
    "executionInfo": {
     "status": "ok",
     "timestamp": 1648127806737,
     "user_tz": -60,
     "elapsed": 22,
     "user": {
      "displayName": "Dorian Cazau",
      "photoUrl": "https://lh3.googleusercontent.com/a/default-user=s64",
      "userId": "08552727308627398808"
     }
    },
    "outputId": "b757992e-798d-41e3-83f3-e99b83f968fc"
   },
   "source": [
    "print(y_test.shape)\n",
    "print(predicted.shape)"
   ],
   "execution_count": 13,
   "outputs": [
    {
     "name": "stdout",
     "output_type": "stream",
     "text": [
      "(360,)\n",
      "(360,)\n"
     ]
    }
   ]
  },
  {
   "cell_type": "markdown",
   "metadata": {
    "id": "_w7kXaU3gx9c"
   },
   "source": [
    "Below, you can visualize a few randomly picked images that were either correctly classified (in green) or mis-classified (in red):"
   ]
  },
  {
   "cell_type": "code",
   "metadata": {
    "id": "Vde47lnbcy-w",
    "colab": {
     "base_uri": "https://localhost:8080/",
     "height": 325
    },
    "executionInfo": {
     "status": "ok",
     "timestamp": 1648127807668,
     "user_tz": -60,
     "elapsed": 944,
     "user": {
      "displayName": "Dorian Cazau",
      "photoUrl": "https://lh3.googleusercontent.com/a/default-user=s64",
      "userId": "08552727308627398808"
     }
    },
    "outputId": "0a28ab20-3dfd-4cfb-9c86-e19f05df0e63"
   },
   "source": [
    "plt.figure(1, figsize=(10,10))\n",
    "plt.clf()\n",
    "plt.subplots_adjust(left=.01, right=.99, bottom=.01, top=.4)\n",
    "\n",
    "X_test_CC = X_test[(y_test - predicted == 0)] \n",
    "predicted_CC = predicted[(y_test - predicted == 0)] \n",
    "y_test_CC = y_test[(y_test - predicted == 0)] \n",
    "\n",
    "X_test_MC = X_test[(y_test - predicted != 0)] \n",
    "predicted_MC = predicted[(y_test - predicted != 0)] \n",
    "y_test_MC = y_test[(y_test - predicted != 0)] \n",
    "\n",
    "nber_images=10\n",
    "\n",
    "for i in range(nber_images):\n",
    "\n",
    "    if i <nber_images/2:\n",
    "      ind_test = np.random.randint(0,X_test_CC.shape[0],1)\n",
    "      im = X_test_CC[ind_test,:].reshape(8,8)\n",
    "      pred = predicted_CC[ind_test]\n",
    "      y_t = y_test_CC[ind_test]\n",
    "    else:\n",
    "      ind_test = np.random.randint(0,X_test_MC.shape[0],1)\n",
    "      im = X_test_MC[ind_test,:].reshape(8,8)\n",
    "      pred = predicted_MC[ind_test]\n",
    "      y_t = y_test_MC[ind_test]\n",
    "\n",
    "    ax=plt.subplot(2, nber_images/2, i + 1)\n",
    "    plt.imshow( im , cmap=plt.cm.gray, vmax=16, interpolation='nearest')\n",
    "    plt.xticks(())\n",
    "    plt.yticks(())\n",
    "    if y_t==pred:\n",
    "      ax.set_title('true: {} -> pred: {}'.format(y_t,pred), color='g')\n",
    "    else:\n",
    "      ax.set_title('true: {} -> pred: {}'.format(y_t,pred), color='r')"
   ],
   "execution_count": 14,
   "outputs": [
    {
     "data": {
      "text/plain": "<Figure size 720x720 with 10 Axes>",
      "image/png": "[encoded data removed]"
     },
     "metadata": {},
     "output_type": "display_data"
    }
   ]
  },
  {
   "cell_type": "markdown",
   "metadata": {
    "id": "YgWDpJ_IwWHC"
   },
   "source": [
    "**Question 1.6** : let's now compute quantitative results on the test subset `y_test` using the n-class confusion matrix and overall accuracy implemented above. Evaluate for each class the rate of correct classification and comment the obtained results."
   ]
  },
  {
   "cell_type": "code",
   "execution_count": 15,
   "outputs": [
    {
     "name": "stdout",
     "output_type": "stream",
     "text": [
      "Confusion matrix: \n",
      " [[35.  0.  1.  0.  0.  0.  0.  0.  0.  0.]\n",
      " [ 0. 32.  0.  1.  0.  0.  0.  0.  3.  0.]\n",
      " [ 0.  0. 35.  0.  0.  0.  0.  0.  0.  0.]\n",
      " [ 0.  0.  0. 37.  0.  0.  0.  0.  0.  0.]\n",
      " [ 0.  0.  0.  0. 36.  0.  0.  0.  0.  0.]\n",
      " [ 0.  0.  0.  1.  0. 36.  0.  0.  0.  0.]\n",
      " [ 0.  0.  0.  0.  0.  0. 35.  0.  1.  0.]\n",
      " [ 0.  0.  0.  0.  1.  0.  0. 35.  0.  0.]\n",
      " [ 0.  4.  0.  0.  0.  1.  0.  0. 30.  0.]\n",
      " [ 0.  0.  0.  0.  1.  0.  0.  0.  1. 34.]]\n",
      "Accuracy per class: \n",
      " [0.97222222 0.88888889 1.         1.         1.         0.97297297\n",
      " 0.97222222 0.97222222 0.85714286 0.94444444]\n"
     ]
    }
   ],
   "source": [
    "# quantitative results on the test subset y_test\n",
    "# evaluate correct classification rate for each class\n",
    "\n",
    "def accuracy_per_class(confusion_matrix, y):\n",
    "    accuracy_per_class = np.zeros((len(set(y))))\n",
    "    for i in range(len(set(y))):\n",
    "        accuracy_per_class[i] = confusion_matrix[i][i] / np.sum(confusion_matrix[i])\n",
    "    return accuracy_per_class\n",
    "\n",
    "#n-class confusion matrix\n",
    "confusion_matrix, overall_accuracy = compute_confusion_matrix(y_test, predicted)\n",
    "print('Confusion matrix: \\n',confusion_matrix)\n",
    "\n",
    "print('Accuracy per class: \\n',accuracy_per_class(confusion_matrix, y_test))"
   ],
   "metadata": {
    "collapsed": false
   }
  },
  {
   "cell_type": "markdown",
   "metadata": {
    "id": "2PQXt5iSK3G9"
   },
   "source": [
    "**Question 1.7** : perform the same operations as in Question 1.6 but now using the training subset `y_train`. Comment.\n"
   ]
  },
  {
   "cell_type": "code",
   "execution_count": 16,
   "outputs": [
    {
     "name": "stdout",
     "output_type": "stream",
     "text": [
      "Confusion matrix: \n",
      " [[142.   0.   0.   0.   0.   0.   0.   0.   0.   0.]\n",
      " [  0. 146.   0.   0.   0.   0.   0.   0.   0.   0.]\n",
      " [  0.   0. 142.   0.   0.   0.   0.   0.   0.   0.]\n",
      " [  0.   0.   0. 146.   0.   0.   0.   0.   0.   0.]\n",
      " [  0.   0.   0.   0. 145.   0.   0.   0.   0.   0.]\n",
      " [  0.   0.   0.   0.   0. 145.   0.   0.   0.   0.]\n",
      " [  0.   0.   0.   0.   0.   0. 145.   0.   0.   0.]\n",
      " [  0.   0.   0.   0.   0.   0.   0. 143.   0.   0.]\n",
      " [  0.   0.   0.   0.   0.   0.   0.   0. 139.   0.]\n",
      " [  0.   0.   0.   0.   0.   0.   0.   0.   0. 144.]]\n",
      "Accuracy per class: \n",
      " [1. 1. 1. 1. 1. 1. 1. 1. 1. 1.]\n"
     ]
    }
   ],
   "source": [
    "# quantitative results on the training subset y_train\n",
    "# evaluate correct classification rate for each class\n",
    "\n",
    "#n-class confusion matrix\n",
    "confusion_matrix, overall_accuracy = compute_confusion_matrix(y_train, model.predict(X_train))\n",
    "print('Confusion matrix: \\n',confusion_matrix)\n",
    "\n",
    "print('Accuracy per class: \\n',accuracy_per_class(confusion_matrix, y_train))"
   ],
   "metadata": {
    "collapsed": false
   }
  },
  {
   "cell_type": "markdown",
   "metadata": {
    "id": "Xa_1Nabqxvj4"
   },
   "source": [
    "**Question 1.8** : within a `for` loop, repeat 5 times the splitting and evaluation processes (respectively from questions 1.4 and 1.6), and compute the median and standard deviation of the 5 resulting overall accuracies."
   ]
  },
  {
   "cell_type": "code",
   "execution_count": 17,
   "outputs": [
    {
     "name": "stdout",
     "output_type": "stream",
     "text": [
      "=== Split 0 ===\n",
      "Accuracy per class, split:  [0.97222222 0.88888889 1.         1.         1.         0.97297297\n",
      " 0.97222222 0.97222222 0.85714286 0.94444444]\n",
      "Overall accuracy, split:  95.83333333333334\n",
      "=== Split 1 ===\n",
      "Accuracy per class, split:  [0.97222222 0.88888889 1.         1.         1.         0.97297297\n",
      " 0.97222222 0.97222222 0.85714286 0.94444444]\n",
      "Overall accuracy, split:  95.83333333333334\n",
      "=== Split 2 ===\n",
      "Accuracy per class, split:  [0.97222222 0.88888889 1.         1.         1.         0.97297297\n",
      " 0.97222222 0.97222222 0.85714286 0.94444444]\n",
      "Overall accuracy, split:  95.83333333333334\n",
      "=== Split 3 ===\n",
      "Accuracy per class, split:  [0.97222222 0.88888889 1.         1.         1.         0.97297297\n",
      " 0.97222222 0.97222222 0.85714286 0.94444444]\n",
      "Overall accuracy, split:  95.83333333333334\n",
      "=== Split 4 ===\n",
      "Accuracy per class, split:  [0.97222222 0.88888889 1.         1.         1.         0.97297297\n",
      " 0.97222222 0.97222222 0.85714286 0.94444444]\n",
      "Overall accuracy, split:  95.83333333333334\n",
      "=== Results ===\n",
      "Median accuracy: 95.83333333333334\n",
      "Standard deviation: 0.0\n"
     ]
    }
   ],
   "source": [
    "# do 5 different splits of the data and evaluate the accuracy for each split\n",
    "\n",
    "accuracies = np.zeros(5)\n",
    "for i in range(5):\n",
    "    print(f\"=== Split {i} ===\")\n",
    "    X_train, X_test, y_train, y_test = train_test_split(X, digits['target'],\n",
    "                                                        test_size=0.2, random_state=42,\n",
    "                                                        stratify=digits['target'])\n",
    "    model.fit(X_train, y_train)\n",
    "    predicted = model.predict(X_test)\n",
    "    confusion_matrix, overall_accuracy = compute_confusion_matrix(y_test, predicted)\n",
    "    print(f\"Accuracy per class, split: \", accuracy_per_class(confusion_matrix, y_test))\n",
    "    print(f\"Overall accuracy, split: \", overall_accuracy)\n",
    "    accuracies[i] = overall_accuracy\n",
    "\n",
    "print(\"=== Results ===\")\n",
    "print(f\"Median accuracy: {np.median(accuracies)}\")\n",
    "print(f\"Standard deviation: {np.std(accuracies)}\")"
   ],
   "metadata": {
    "collapsed": false
   }
  },
  {
   "cell_type": "markdown",
   "metadata": {
    "id": "_CXQMDMLQJas"
   },
   "source": [
    "**Question 1.9** : the operation performed in question 1.8 is called a 5-fold cross validation, implemented in `sklearn` with the methods [KFold](https://scikit-learn.org/stable/modules/generated/sklearn.model_selection.KFold.html) and `cross_val_score`. Reproduce your results from question 1.8 using this tool. Compare and comment the results with those of question 1.8."
   ]
  },
  {
   "cell_type": "code",
   "execution_count": 18,
   "outputs": [
    {
     "name": "stdout",
     "output_type": "stream",
     "text": [
      "Median accuracy: 0.9611111111111111\n",
      "Standard deviation: 0.0041929656728311926\n"
     ]
    }
   ],
   "source": [
    "# same as question 1.8 but using KFold and cross_val_score\n",
    "\n",
    "from sklearn.model_selection import KFold, cross_val_score\n",
    "\n",
    "kf = KFold(n_splits=5, shuffle=True, random_state=42)\n",
    "accuracies = cross_val_score(model, X, digits['target'], cv=kf)\n",
    "print(f\"Median accuracy: {np.median(accuracies)}\")\n",
    "print(f\"Standard deviation: {np.std(accuracies)}\")"
   ],
   "metadata": {
    "collapsed": false
   }
  },
  {
   "cell_type": "markdown",
   "source": [
    "**Question 1.10** : as a supplementary evaluation, apply basic transformations (e.g. negative, rotation, contrast reduction ..) to input images and see how it impacts predictive performance of the trained model. Comment some results."
   ],
   "metadata": {
    "collapsed": false
   }
  },
  {
   "cell_type": "code",
   "execution_count": 19,
   "outputs": [],
   "source": [
    "import scipy.ndimage as ndimage\n",
    "\n",
    "def rotate(image, angle):\n",
    "    return ndimage.rotate(image, angle, reshape=False).flatten()\n",
    "\n",
    "def negative(image):\n",
    "    return np.negative(image).flatten()"
   ],
   "metadata": {
    "collapsed": false
   }
  },
  {
   "cell_type": "code",
   "execution_count": 20,
   "outputs": [],
   "source": [
    "# make 2 copies of the test set\n",
    "X_test_neg = X_test.copy()\n",
    "X_test_rot = X_test.copy()\n",
    "\n",
    "# apply transformations to the copies\n",
    "for i in range(X_test.shape[0]):\n",
    "    X_test_neg[i] = negative(X_test[i])\n",
    "    X_test_rot[i] = rotate(X_test[i].reshape(8,8), 90).flatten()"
   ],
   "metadata": {
    "collapsed": false
   }
  },
  {
   "cell_type": "code",
   "execution_count": 21,
   "outputs": [
    {
     "data": {
      "text/plain": "<Figure size 1440x288 with 10 Axes>",
      "image/png": "[encoded data removed]"
     },
     "metadata": {},
     "output_type": "display_data"
    },
    {
     "data": {
      "text/plain": "<Figure size 1440x288 with 10 Axes>",
      "image/png": "[encoded data removed]"
     },
     "metadata": {},
     "output_type": "display_data"
    }
   ],
   "source": [
    "# plot digits 1 to 10 for new sets arrange in right order\n",
    "nber_images = 10\n",
    "plt.figure(figsize=(2 * nber_images, 4))\n",
    "for i in range(nber_images):\n",
    "    ax=plt.subplot(2, nber_images/2, i + 1)\n",
    "    plt.imshow( X_test_neg[i].reshape(8,8) , cmap=plt.cm.gray, vmax=16, interpolation='nearest')\n",
    "    plt.xticks(())\n",
    "    plt.yticks(())\n",
    "    ax.set_title(f\"true: {y_test[i]}\")\n",
    "plt.show()\n",
    "\n",
    "plt.figure(figsize=(2 * nber_images, 4))\n",
    "for i in range(nber_images):\n",
    "    ax=plt.subplot(2, nber_images/2, i + 1)\n",
    "    plt.imshow( X_test_rot[i].reshape(8,8) , cmap=plt.cm.gray, vmax=16, interpolation='nearest')\n",
    "    plt.xticks(())\n",
    "    plt.yticks(())\n",
    "    ax.set_title(f\"true: {y_test[i]}\")\n",
    "plt.show()"
   ],
   "metadata": {
    "collapsed": false
   }
  },
  {
   "cell_type": "markdown",
   "source": [],
   "metadata": {
    "collapsed": false
   }
  },
  {
   "cell_type": "code",
   "execution_count": 22,
   "outputs": [
    {
     "name": "stdout",
     "output_type": "stream",
     "text": [
      "=== Negative ===\n",
      "Confusion matrix: \n",
      "[[ 0. 13.  0. 13.  9.  0.  0.  0.  0.  1.]\n",
      " [16.  0.  2.  6.  0.  0.  5.  7.  0.  0.]\n",
      " [ 2.  0.  0.  0. 25.  1.  1.  6.  0.  0.]\n",
      " [ 0.  0.  0.  0. 31.  0.  6.  0.  0.  0.]\n",
      " [ 0.  0.  8. 14.  0.  1.  0.  0.  0. 13.]\n",
      " [ 0.  2. 23.  0.  6.  0.  5.  1.  0.  0.]\n",
      " [ 1.  0.  1.  0.  0.  0.  0.  7.  0. 27.]\n",
      " [11.  0.  1.  0.  0.  1. 22.  0.  0.  1.]\n",
      " [ 6.  2.  6.  3.  5.  4.  6.  3.  0.  0.]\n",
      " [ 0.  7.  7.  0. 12.  0. 10.  0.  0.  0.]]\n",
      "Accuracy per class: \n",
      "[0. 0. 0. 0. 0. 0. 0. 0. 0. 0.]\n",
      "Overall accuracy: 0.0\n",
      "=== Rotation ===\n",
      "Confusion matrix: \n",
      "[[ 0.  0.  0.  0. 36.  0.  0.  0.  0.  0.]\n",
      " [ 0.  0.  0.  0. 36.  0.  0.  0.  0.  0.]\n",
      " [ 0.  0.  0.  0. 35.  0.  0.  0.  0.  0.]\n",
      " [ 0.  0.  0.  0. 36.  0.  0.  0.  1.  0.]\n",
      " [ 0.  0.  0.  0. 36.  0.  0.  0.  0.  0.]\n",
      " [ 0.  0.  0.  0. 37.  0.  0.  0.  0.  0.]\n",
      " [ 0.  0.  0.  0. 36.  0.  0.  0.  0.  0.]\n",
      " [ 0.  0.  0.  0. 36.  0.  0.  0.  0.  0.]\n",
      " [ 0.  0.  0.  0. 35.  0.  0.  0.  0.  0.]\n",
      " [ 0.  0.  0.  0. 35.  0.  0.  0.  1.  0.]]\n",
      "Accuracy per class: \n",
      "[0. 0. 0. 0. 1. 0. 0. 0. 0. 0.]\n",
      "Overall accuracy: 10.0\n"
     ]
    }
   ],
   "source": [
    "# predict on the new sets\n",
    "predicted_normal = model.predict(X_test)\n",
    "predicted_neg = model.predict(X_test_neg)\n",
    "predicted_rot = model.predict(X_test_rot)\n",
    "\n",
    "# compute confusion matrices\n",
    "confusion_matrix_neg, overall_accuracy_neg = compute_confusion_matrix(y_test, predicted_neg)\n",
    "confusion_matrix_rot, overall_accuracy_rot = compute_confusion_matrix(y_test, predicted_rot)\n",
    "\n",
    "# compute accuracy per class\n",
    "accuracy_per_class_neg = accuracy_per_class(confusion_matrix_neg, y_test)\n",
    "accuracy_per_class_rot = accuracy_per_class(confusion_matrix_rot, y_test)\n",
    "\n",
    "# print results\n",
    "print(\"=== Negative ===\")\n",
    "print(f\"Confusion matrix: \\n{confusion_matrix_neg}\")\n",
    "print(f\"Accuracy per class: \\n{accuracy_per_class_neg}\")\n",
    "print(f\"Overall accuracy: {overall_accuracy_neg}\")\n",
    "\n",
    "print(\"=== Rotation ===\")\n",
    "print(f\"Confusion matrix: \\n{confusion_matrix_rot}\")\n",
    "print(f\"Accuracy per class: \\n{accuracy_per_class_rot}\")\n",
    "print(f\"Overall accuracy: {overall_accuracy_rot}\")"
   ],
   "metadata": {
    "collapsed": false
   }
  },
  {
   "cell_type": "code",
   "execution_count": 23,
   "outputs": [
    {
     "data": {
      "text/plain": "<Figure size 1440x432 with 10 Axes>",
      "image/png": "[encoded data removed]"
     },
     "metadata": {},
     "output_type": "display_data"
    }
   ],
   "source": [
    "# plot guess and true values for the first 10 images of the negative set\n",
    "nber_images = 10\n",
    "plt.figure(figsize=(2 * nber_images, 6))\n",
    "for i in range(nber_images):\n",
    "    ax=plt.subplot(2, nber_images/2, i + 1)\n",
    "    plt.imshow( X_test_neg[i].reshape(8,8) , cmap=plt.cm.gray, vmax=16, interpolation='nearest')\n",
    "    plt.xticks(())\n",
    "    plt.yticks(())\n",
    "    ax.set_title(f\"true: {y_test[i]} \\n guess: {predicted_neg[i]}\")\n",
    "plt.show()\n"
   ],
   "metadata": {
    "collapsed": false
   }
  },
  {
   "cell_type": "code",
   "execution_count": 24,
   "outputs": [
    {
     "data": {
      "text/plain": "<Figure size 1440x432 with 10 Axes>",
      "image/png": "[encoded data removed]"
     },
     "metadata": {},
     "output_type": "display_data"
    }
   ],
   "source": [
    "# plot guess and true values for the first 10 images of the rotation set\n",
    "nber_images = 10\n",
    "plt.figure(figsize=(2 * nber_images, 6))\n",
    "for i in range(nber_images):\n",
    "    ax=plt.subplot(2, nber_images/2, i + 1)\n",
    "    plt.imshow( X_test_rot[i].reshape(8,8) , cmap=plt.cm.gray, vmax=16, interpolation='nearest')\n",
    "    plt.xticks(())\n",
    "    plt.yticks(())\n",
    "    ax.set_title(f\"true: {y_test[i]} \\n guess: {predicted_rot[i]}\")\n",
    "plt.show()"
   ],
   "metadata": {
    "collapsed": false
   }
  },
  {
   "cell_type": "markdown",
   "metadata": {
    "id": "s5PqoAyVyk9I"
   },
   "source": [
    "# SOURCES:\n",
    "\n",
    "*   Chollet, F. (2018) \"[Deep learning with python](https://www.manning.com/books/deep-learning-with-python)\", Manning Publications **(available at the library of ENSTA Bretagne)**\n",
    "\n",
    "*   https://towardsdatascience.com/time-series-modeling-using-scikit-pandas-and-numpy-682e3b8db8d1\n",
    "\n",
    "*   https://petebankhead.gitbooks.io/imagej-intro/content/chapters/bit_depths/bit_depths.html\n",
    "\n"
   ]
  }
 ]
}
