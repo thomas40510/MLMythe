{
  "nbformat": 4,
  "nbformat_minor": 0,
  "metadata": {
    "colab": {
      "name": "TP4.ipynb",
      "provenance": [],
      "collapsed_sections": [
        "Sd23-3AbPiwF",
        "DNquB6IzUH1c",
        "KQS0eklsW9cd",
        "kpcYeLok5xZM",
        "lAMyVFvra5ZD",
        "e-yZ4AkcuY_5"
      ]
    },
    "kernelspec": {
      "display_name": "Python 3",
      "name": "python3"
    },
    "language_info": {
      "name": "python"
    }
  },
  "cells": [
    {
      "cell_type": "markdown",
      "metadata": {
        "id": "8HyF889xO8fp"
      },
      "source": [
        "# **TP4 : premiers vers les réseaux de neurones profonds**\n"
      ]
    },
    {
      "cell_type": "markdown",
      "metadata": {
        "id": "sWOuGHYGPKwC"
      },
      "source": [
        "# Context & Objectives\n",
        "\n",
        "In this TP, we propose to reformulate linear and logistic regression models as one-layered neural networks, and implement them in [Tensorflow](https://www.tensorflow.org/?hl=fr). We will also benchmark performance of several models, from a simple linear regression to a fully-connected deep learning model. \n",
        "\n"
      ]
    },
    {
      "cell_type": "markdown",
      "metadata": {
        "id": "A7jkmmFUgsGg"
      },
      "source": [
        "We will be using the AUTO-MPG dataset, downloaded as follows:"
      ]
    },
    {
      "cell_type": "code",
      "metadata": {
        "colab": {
          "base_uri": "https://localhost:8080/"
        },
        "id": "uWrdZ0l9BkoV",
        "outputId": "81900841-2f23-4643-86d5-bd9da0706584"
      },
      "source": [
        "import matplotlib.pyplot as plt\n",
        "import numpy as np\n",
        "import pandas as pd\n",
        "import seaborn as sns\n",
        "\n",
        "import tensorflow as tf\n",
        "\n",
        "from tensorflow import keras\n",
        "from tensorflow.keras import layers\n",
        "\n",
        "print(tf.__version__)\n"
      ],
      "execution_count": null,
      "outputs": [
        {
          "output_type": "stream",
          "name": "stdout",
          "text": [
            "2.8.0\n"
          ]
        }
      ]
    },
    {
      "cell_type": "code",
      "metadata": {
        "colab": {
          "base_uri": "https://localhost:8080/"
        },
        "id": "pyxsY7VtFGqV",
        "outputId": "f969fe83-04e2-49da-edd5-c787a040e41a"
      },
      "source": [
        "# Load the TensorBoard notebook extension.\n",
        "%load_ext tensorboard\n",
        "\n",
        "from datetime import datetime\n",
        "from packaging import version\n",
        "\n",
        "import tensorflow as tf\n",
        "from tensorflow import keras\n",
        "\n",
        "print(\"TensorFlow version: \", tf.__version__)\n",
        "assert version.parse(tf.__version__).release[0] >= 2, \\\n",
        "    \"This notebook requires TensorFlow 2.0 or above.\"\n",
        "\n",
        "import tensorboard\n",
        "tensorboard.__version__\n",
        "\n",
        "# Clear any logs from previous runs\n",
        "! rm -rf ./logs/\n",
        "\n",
        "# Define the Keras TensorBoard callback.\n",
        "logdir=\"logs/fit/\" + datetime.now().strftime(\"%Y%m%d-%H%M%S\")\n",
        "tensorboard_callback = keras.callbacks.TensorBoard(log_dir=logdir)"
      ],
      "execution_count": null,
      "outputs": [
        {
          "output_type": "stream",
          "name": "stdout",
          "text": [
            "TensorFlow version:  2.8.0\n"
          ]
        }
      ]
    },
    {
      "cell_type": "code",
      "metadata": {
        "colab": {
          "base_uri": "https://localhost:8080/"
        },
        "id": "2wucxMaUv5q2",
        "outputId": "c5c28d6f-721f-47db-9762-b8337a02e5f8"
      },
      "source": [
        "url = 'http://archive.ics.uci.edu/ml/machine-learning-databases/auto-mpg/auto-mpg.data'\n",
        "column_names = ['MPG', 'Cylinders', 'Displacement', 'Horsepower', 'Weight',\n",
        "                'Acceleration', 'Model Year', 'Origin']\n",
        "\n",
        "raw_dataset = pd.read_csv(url, names=column_names,\n",
        "                          na_values='?', comment='\\t',\n",
        "                          sep=' ', skipinitialspace=True)\n",
        "\n",
        "dataset = raw_dataset.copy()\n",
        "\n",
        "dataset.tail()\n",
        "dataset.shape"
      ],
      "execution_count": null,
      "outputs": [
        {
          "output_type": "execute_result",
          "data": {
            "text/plain": [
              "(398, 8)"
            ]
          },
          "metadata": {},
          "execution_count": 3
        }
      ]
    },
    {
      "cell_type": "code",
      "metadata": {
        "colab": {
          "base_uri": "https://localhost:8080/",
          "height": 300
        },
        "id": "SvIvpsIlL1F2",
        "outputId": "07880236-086f-4382-b5a1-318f921a99be"
      },
      "source": [
        "dataset.describe().T[['mean', 'std']]"
      ],
      "execution_count": null,
      "outputs": [
        {
          "output_type": "execute_result",
          "data": {
            "text/plain": [
              "                     mean         std\n",
              "MPG             23.514573    7.815984\n",
              "Cylinders        5.454774    1.701004\n",
              "Displacement   193.425879  104.269838\n",
              "Horsepower     104.469388   38.491160\n",
              "Weight        2970.424623  846.841774\n",
              "Acceleration    15.568090    2.757689\n",
              "Model Year      76.010050    3.697627\n",
              "Origin           1.572864    0.802055"
            ],
            "text/html": [
              "\n",
              "  <div id=\"df-d9a23bd7-931b-465c-bf38-12df43057bdf\">\n",
              "    <div class=\"colab-df-container\">\n",
              "      <div>\n",
              "<style scoped>\n",
              "    .dataframe tbody tr th:only-of-type {\n",
              "        vertical-align: middle;\n",
              "    }\n",
              "\n",
              "    .dataframe tbody tr th {\n",
              "        vertical-align: top;\n",
              "    }\n",
              "\n",
              "    .dataframe thead th {\n",
              "        text-align: right;\n",
              "    }\n",
              "</style>\n",
              "<table border=\"1\" class=\"dataframe\">\n",
              "  <thead>\n",
              "    <tr style=\"text-align: right;\">\n",
              "      <th></th>\n",
              "      <th>mean</th>\n",
              "      <th>std</th>\n",
              "    </tr>\n",
              "  </thead>\n",
              "  <tbody>\n",
              "    <tr>\n",
              "      <th>MPG</th>\n",
              "      <td>23.514573</td>\n",
              "      <td>7.815984</td>\n",
              "    </tr>\n",
              "    <tr>\n",
              "      <th>Cylinders</th>\n",
              "      <td>5.454774</td>\n",
              "      <td>1.701004</td>\n",
              "    </tr>\n",
              "    <tr>\n",
              "      <th>Displacement</th>\n",
              "      <td>193.425879</td>\n",
              "      <td>104.269838</td>\n",
              "    </tr>\n",
              "    <tr>\n",
              "      <th>Horsepower</th>\n",
              "      <td>104.469388</td>\n",
              "      <td>38.491160</td>\n",
              "    </tr>\n",
              "    <tr>\n",
              "      <th>Weight</th>\n",
              "      <td>2970.424623</td>\n",
              "      <td>846.841774</td>\n",
              "    </tr>\n",
              "    <tr>\n",
              "      <th>Acceleration</th>\n",
              "      <td>15.568090</td>\n",
              "      <td>2.757689</td>\n",
              "    </tr>\n",
              "    <tr>\n",
              "      <th>Model Year</th>\n",
              "      <td>76.010050</td>\n",
              "      <td>3.697627</td>\n",
              "    </tr>\n",
              "    <tr>\n",
              "      <th>Origin</th>\n",
              "      <td>1.572864</td>\n",
              "      <td>0.802055</td>\n",
              "    </tr>\n",
              "  </tbody>\n",
              "</table>\n",
              "</div>\n",
              "      <button class=\"colab-df-convert\" onclick=\"convertToInteractive('df-d9a23bd7-931b-465c-bf38-12df43057bdf')\"\n",
              "              title=\"Convert this dataframe to an interactive table.\"\n",
              "              style=\"display:none;\">\n",
              "        \n",
              "  <svg xmlns=\"http://www.w3.org/2000/svg\" height=\"24px\"viewBox=\"0 0 24 24\"\n",
              "       width=\"24px\">\n",
              "    <path d=\"M0 0h24v24H0V0z\" fill=\"none\"/>\n",
              "    <path d=\"M18.56 5.44l.94 2.06.94-2.06 2.06-.94-2.06-.94-.94-2.06-.94 2.06-2.06.94zm-11 1L8.5 8.5l.94-2.06 2.06-.94-2.06-.94L8.5 2.5l-.94 2.06-2.06.94zm10 10l.94 2.06.94-2.06 2.06-.94-2.06-.94-.94-2.06-.94 2.06-2.06.94z\"/><path d=\"M17.41 7.96l-1.37-1.37c-.4-.4-.92-.59-1.43-.59-.52 0-1.04.2-1.43.59L10.3 9.45l-7.72 7.72c-.78.78-.78 2.05 0 2.83L4 21.41c.39.39.9.59 1.41.59.51 0 1.02-.2 1.41-.59l7.78-7.78 2.81-2.81c.8-.78.8-2.07 0-2.86zM5.41 20L4 18.59l7.72-7.72 1.47 1.35L5.41 20z\"/>\n",
              "  </svg>\n",
              "      </button>\n",
              "      \n",
              "  <style>\n",
              "    .colab-df-container {\n",
              "      display:flex;\n",
              "      flex-wrap:wrap;\n",
              "      gap: 12px;\n",
              "    }\n",
              "\n",
              "    .colab-df-convert {\n",
              "      background-color: #E8F0FE;\n",
              "      border: none;\n",
              "      border-radius: 50%;\n",
              "      cursor: pointer;\n",
              "      display: none;\n",
              "      fill: #1967D2;\n",
              "      height: 32px;\n",
              "      padding: 0 0 0 0;\n",
              "      width: 32px;\n",
              "    }\n",
              "\n",
              "    .colab-df-convert:hover {\n",
              "      background-color: #E2EBFA;\n",
              "      box-shadow: 0px 1px 2px rgba(60, 64, 67, 0.3), 0px 1px 3px 1px rgba(60, 64, 67, 0.15);\n",
              "      fill: #174EA6;\n",
              "    }\n",
              "\n",
              "    [theme=dark] .colab-df-convert {\n",
              "      background-color: #3B4455;\n",
              "      fill: #D2E3FC;\n",
              "    }\n",
              "\n",
              "    [theme=dark] .colab-df-convert:hover {\n",
              "      background-color: #434B5C;\n",
              "      box-shadow: 0px 1px 3px 1px rgba(0, 0, 0, 0.15);\n",
              "      filter: drop-shadow(0px 1px 2px rgba(0, 0, 0, 0.3));\n",
              "      fill: #FFFFFF;\n",
              "    }\n",
              "  </style>\n",
              "\n",
              "      <script>\n",
              "        const buttonEl =\n",
              "          document.querySelector('#df-d9a23bd7-931b-465c-bf38-12df43057bdf button.colab-df-convert');\n",
              "        buttonEl.style.display =\n",
              "          google.colab.kernel.accessAllowed ? 'block' : 'none';\n",
              "\n",
              "        async function convertToInteractive(key) {\n",
              "          const element = document.querySelector('#df-d9a23bd7-931b-465c-bf38-12df43057bdf');\n",
              "          const dataTable =\n",
              "            await google.colab.kernel.invokeFunction('convertToInteractive',\n",
              "                                                     [key], {});\n",
              "          if (!dataTable) return;\n",
              "\n",
              "          const docLinkHtml = 'Like what you see? Visit the ' +\n",
              "            '<a target=\"_blank\" href=https://colab.research.google.com/notebooks/data_table.ipynb>data table notebook</a>'\n",
              "            + ' to learn more about interactive tables.';\n",
              "          element.innerHTML = '';\n",
              "          dataTable['output_type'] = 'display_data';\n",
              "          await google.colab.output.renderOutput(dataTable, element);\n",
              "          const docLink = document.createElement('div');\n",
              "          docLink.innerHTML = docLinkHtml;\n",
              "          element.appendChild(docLink);\n",
              "        }\n",
              "      </script>\n",
              "    </div>\n",
              "  </div>\n",
              "  "
            ]
          },
          "metadata": {},
          "execution_count": 4
        }
      ]
    },
    {
      "cell_type": "markdown",
      "metadata": {
        "id": "Sd23-3AbPiwF"
      },
      "source": [
        "# 1. Dataset preparation"
      ]
    },
    {
      "cell_type": "markdown",
      "metadata": {
        "id": "HGCf5x85Pmyx"
      },
      "source": [
        "**Question 1.1 (BONUS, the solution is given..)** : using the pandas library, count and remove all NaN values. Also, the variable `Origin` refers to different countries, ie 1, 2 and 3 correspond to the country names 'USA', 'Europe' and 'Japan'. Replace these numerical values by these names. One-hot encode these values with [pd.get_dummies](https://pandas.pydata.org/docs/reference/api/pandas.get_dummies.html).\n"
      ]
    },
    {
      "cell_type": "code",
      "metadata": {
        "colab": {
          "base_uri": "https://localhost:8080/",
          "height": 423
        },
        "id": "BW20Tv4NP3WP",
        "outputId": "93cc4b39-a682-4f65-e438-821209009580"
      },
      "source": [
        "# here is what a one-hot encoding looks like\n",
        "pd.get_dummies(dataset['Origin'].map({1: 'USA', 2: 'Europe', 3: 'Japan'}), columns=['Origin'], prefix='', prefix_sep='')"
      ],
      "execution_count": null,
      "outputs": [
        {
          "output_type": "execute_result",
          "data": {
            "text/plain": [
              "     Europe  Japan  USA\n",
              "0         0      0    1\n",
              "1         0      0    1\n",
              "2         0      0    1\n",
              "3         0      0    1\n",
              "4         0      0    1\n",
              "..      ...    ...  ...\n",
              "393       0      0    1\n",
              "394       1      0    0\n",
              "395       0      0    1\n",
              "396       0      0    1\n",
              "397       0      0    1\n",
              "\n",
              "[398 rows x 3 columns]"
            ],
            "text/html": [
              "\n",
              "  <div id=\"df-4897392a-0c26-439c-a23c-b47b87cfb6ed\">\n",
              "    <div class=\"colab-df-container\">\n",
              "      <div>\n",
              "<style scoped>\n",
              "    .dataframe tbody tr th:only-of-type {\n",
              "        vertical-align: middle;\n",
              "    }\n",
              "\n",
              "    .dataframe tbody tr th {\n",
              "        vertical-align: top;\n",
              "    }\n",
              "\n",
              "    .dataframe thead th {\n",
              "        text-align: right;\n",
              "    }\n",
              "</style>\n",
              "<table border=\"1\" class=\"dataframe\">\n",
              "  <thead>\n",
              "    <tr style=\"text-align: right;\">\n",
              "      <th></th>\n",
              "      <th>Europe</th>\n",
              "      <th>Japan</th>\n",
              "      <th>USA</th>\n",
              "    </tr>\n",
              "  </thead>\n",
              "  <tbody>\n",
              "    <tr>\n",
              "      <th>0</th>\n",
              "      <td>0</td>\n",
              "      <td>0</td>\n",
              "      <td>1</td>\n",
              "    </tr>\n",
              "    <tr>\n",
              "      <th>1</th>\n",
              "      <td>0</td>\n",
              "      <td>0</td>\n",
              "      <td>1</td>\n",
              "    </tr>\n",
              "    <tr>\n",
              "      <th>2</th>\n",
              "      <td>0</td>\n",
              "      <td>0</td>\n",
              "      <td>1</td>\n",
              "    </tr>\n",
              "    <tr>\n",
              "      <th>3</th>\n",
              "      <td>0</td>\n",
              "      <td>0</td>\n",
              "      <td>1</td>\n",
              "    </tr>\n",
              "    <tr>\n",
              "      <th>4</th>\n",
              "      <td>0</td>\n",
              "      <td>0</td>\n",
              "      <td>1</td>\n",
              "    </tr>\n",
              "    <tr>\n",
              "      <th>...</th>\n",
              "      <td>...</td>\n",
              "      <td>...</td>\n",
              "      <td>...</td>\n",
              "    </tr>\n",
              "    <tr>\n",
              "      <th>393</th>\n",
              "      <td>0</td>\n",
              "      <td>0</td>\n",
              "      <td>1</td>\n",
              "    </tr>\n",
              "    <tr>\n",
              "      <th>394</th>\n",
              "      <td>1</td>\n",
              "      <td>0</td>\n",
              "      <td>0</td>\n",
              "    </tr>\n",
              "    <tr>\n",
              "      <th>395</th>\n",
              "      <td>0</td>\n",
              "      <td>0</td>\n",
              "      <td>1</td>\n",
              "    </tr>\n",
              "    <tr>\n",
              "      <th>396</th>\n",
              "      <td>0</td>\n",
              "      <td>0</td>\n",
              "      <td>1</td>\n",
              "    </tr>\n",
              "    <tr>\n",
              "      <th>397</th>\n",
              "      <td>0</td>\n",
              "      <td>0</td>\n",
              "      <td>1</td>\n",
              "    </tr>\n",
              "  </tbody>\n",
              "</table>\n",
              "<p>398 rows × 3 columns</p>\n",
              "</div>\n",
              "      <button class=\"colab-df-convert\" onclick=\"convertToInteractive('df-4897392a-0c26-439c-a23c-b47b87cfb6ed')\"\n",
              "              title=\"Convert this dataframe to an interactive table.\"\n",
              "              style=\"display:none;\">\n",
              "        \n",
              "  <svg xmlns=\"http://www.w3.org/2000/svg\" height=\"24px\"viewBox=\"0 0 24 24\"\n",
              "       width=\"24px\">\n",
              "    <path d=\"M0 0h24v24H0V0z\" fill=\"none\"/>\n",
              "    <path d=\"M18.56 5.44l.94 2.06.94-2.06 2.06-.94-2.06-.94-.94-2.06-.94 2.06-2.06.94zm-11 1L8.5 8.5l.94-2.06 2.06-.94-2.06-.94L8.5 2.5l-.94 2.06-2.06.94zm10 10l.94 2.06.94-2.06 2.06-.94-2.06-.94-.94-2.06-.94 2.06-2.06.94z\"/><path d=\"M17.41 7.96l-1.37-1.37c-.4-.4-.92-.59-1.43-.59-.52 0-1.04.2-1.43.59L10.3 9.45l-7.72 7.72c-.78.78-.78 2.05 0 2.83L4 21.41c.39.39.9.59 1.41.59.51 0 1.02-.2 1.41-.59l7.78-7.78 2.81-2.81c.8-.78.8-2.07 0-2.86zM5.41 20L4 18.59l7.72-7.72 1.47 1.35L5.41 20z\"/>\n",
              "  </svg>\n",
              "      </button>\n",
              "      \n",
              "  <style>\n",
              "    .colab-df-container {\n",
              "      display:flex;\n",
              "      flex-wrap:wrap;\n",
              "      gap: 12px;\n",
              "    }\n",
              "\n",
              "    .colab-df-convert {\n",
              "      background-color: #E8F0FE;\n",
              "      border: none;\n",
              "      border-radius: 50%;\n",
              "      cursor: pointer;\n",
              "      display: none;\n",
              "      fill: #1967D2;\n",
              "      height: 32px;\n",
              "      padding: 0 0 0 0;\n",
              "      width: 32px;\n",
              "    }\n",
              "\n",
              "    .colab-df-convert:hover {\n",
              "      background-color: #E2EBFA;\n",
              "      box-shadow: 0px 1px 2px rgba(60, 64, 67, 0.3), 0px 1px 3px 1px rgba(60, 64, 67, 0.15);\n",
              "      fill: #174EA6;\n",
              "    }\n",
              "\n",
              "    [theme=dark] .colab-df-convert {\n",
              "      background-color: #3B4455;\n",
              "      fill: #D2E3FC;\n",
              "    }\n",
              "\n",
              "    [theme=dark] .colab-df-convert:hover {\n",
              "      background-color: #434B5C;\n",
              "      box-shadow: 0px 1px 3px 1px rgba(0, 0, 0, 0.15);\n",
              "      filter: drop-shadow(0px 1px 2px rgba(0, 0, 0, 0.3));\n",
              "      fill: #FFFFFF;\n",
              "    }\n",
              "  </style>\n",
              "\n",
              "      <script>\n",
              "        const buttonEl =\n",
              "          document.querySelector('#df-4897392a-0c26-439c-a23c-b47b87cfb6ed button.colab-df-convert');\n",
              "        buttonEl.style.display =\n",
              "          google.colab.kernel.accessAllowed ? 'block' : 'none';\n",
              "\n",
              "        async function convertToInteractive(key) {\n",
              "          const element = document.querySelector('#df-4897392a-0c26-439c-a23c-b47b87cfb6ed');\n",
              "          const dataTable =\n",
              "            await google.colab.kernel.invokeFunction('convertToInteractive',\n",
              "                                                     [key], {});\n",
              "          if (!dataTable) return;\n",
              "\n",
              "          const docLinkHtml = 'Like what you see? Visit the ' +\n",
              "            '<a target=\"_blank\" href=https://colab.research.google.com/notebooks/data_table.ipynb>data table notebook</a>'\n",
              "            + ' to learn more about interactive tables.';\n",
              "          element.innerHTML = '';\n",
              "          dataTable['output_type'] = 'display_data';\n",
              "          await google.colab.output.renderOutput(dataTable, element);\n",
              "          const docLink = document.createElement('div');\n",
              "          docLink.innerHTML = docLinkHtml;\n",
              "          element.appendChild(docLink);\n",
              "        }\n",
              "      </script>\n",
              "    </div>\n",
              "  </div>\n",
              "  "
            ]
          },
          "metadata": {},
          "execution_count": 5
        }
      ]
    },
    {
      "cell_type": "code",
      "metadata": {
        "colab": {
          "base_uri": "https://localhost:8080/"
        },
        "id": "E2_2l-4GQdVl",
        "outputId": "91610831-f2c6-4cef-d854-ac3402a02261"
      },
      "source": [
        "# just count the number of nans in the dataset\n",
        "number_nans = dataset.isna().sum()\n",
        "\n",
        "# remove all rows containing at least one nan\n",
        "dataset = dataset.dropna()\n",
        "\n",
        "# write the names of countries in the variable Origin\n",
        "dataset['Origin'] = dataset['Origin'].map({1: 'USA', 2: 'Europe', 3: 'Japan'})\n",
        "\n",
        "# perform one-hot encoding that replaces the variable Origin\n",
        "dataset = pd.get_dummies(dataset, columns=['Origin'], prefix='', prefix_sep='')"
      ],
      "execution_count": null,
      "outputs": [
        {
          "output_type": "stream",
          "name": "stderr",
          "text": [
            "/usr/local/lib/python3.7/dist-packages/ipykernel_launcher.py:8: SettingWithCopyWarning: \n",
            "A value is trying to be set on a copy of a slice from a DataFrame.\n",
            "Try using .loc[row_indexer,col_indexer] = value instead\n",
            "\n",
            "See the caveats in the documentation: https://pandas.pydata.org/pandas-docs/stable/user_guide/indexing.html#returning-a-view-versus-a-copy\n",
            "  \n"
          ]
        }
      ]
    },
    {
      "cell_type": "markdown",
      "metadata": {
        "id": "1g30X5nyRLO2"
      },
      "source": [
        "**Question 1.2 (BONUS, the solution is given..)** : create the train/test partition with a ratio of 0.8/0.2, using the variable `MPG` as label vector.\n",
        "\n",
        "*tips : to keep working with pandas objects, you can use the [`sample`](https://pandas.pydata.org/pandas-docs/stable/reference/api/pandas.DataFrame.sample.html) method*"
      ]
    },
    {
      "cell_type": "code",
      "metadata": {
        "id": "yZuspU7zB366"
      },
      "source": [
        "train_dataset = dataset.sample(frac=0.8, random_state=0)\n",
        "test_dataset = dataset.drop(train_dataset.index)\n",
        "\n",
        "train_features = train_dataset.copy()\n",
        "test_features = test_dataset.copy()\n",
        "\n",
        "train_labels = train_features.pop('MPG') # this will define train_labels as the column MPG of train_features while removing this column in train_features\n",
        "test_labels = test_features.pop('MPG')"
      ],
      "execution_count": null,
      "outputs": []
    },
    {
      "cell_type": "markdown",
      "metadata": {
        "id": "mQ1UnRr-S6v6"
      },
      "source": [
        "**Question 1.3**: create a numpy array `X` by normalizing your training features using [`tf.keras.layers.Normalization`](https://www.tensorflow.org/api_docs/python/tf/keras/layers/Normalization)\n",
        "\n",
        "In the following, we will not use this variable as this normalization will directly take the form of a neural network layer."
      ]
    },
    {
      "cell_type": "markdown",
      "metadata": {
        "id": "DNquB6IzUH1c"
      },
      "source": [
        "# 2. Linear regression model (using a neural network)\n",
        "\n"
      ]
    },
    {
      "cell_type": "markdown",
      "metadata": {
        "id": "YKdVUjuCUfNs"
      },
      "source": [
        "In this section we will try to predict the variable `MPG` with the single predictive variable `Horsepower`\n",
        "\n"
      ]
    },
    {
      "cell_type": "code",
      "metadata": {
        "id": "DQvzwG6YUeLt"
      },
      "source": [
        "horsepower = np.array(train_features['Horsepower'])[:,np.newaxis]"
      ],
      "execution_count": null,
      "outputs": []
    },
    {
      "cell_type": "markdown",
      "metadata": {
        "id": "xlUrB-Y-Uawy"
      },
      "source": [
        "**Question 2.1**: build a neural network architecture for a linear regression using the `tf.keras.Sequential` tool. Re-use [`tf.keras.layers.Normalization`](https://www.tensorflow.org/api_docs/python/tf/keras/layers/Normalization) to integrate your normalization to the architecture. Visualize the model with the `summary()` method and comment output shapes and numbers of parameters."
      ]
    },
    {
      "cell_type": "markdown",
      "metadata": {
        "id": "g0yC_qQ4VWov"
      },
      "source": [
        "**Question 2.2**: [compile](https://www.tensorflow.org/api_docs/python/tf/keras/Model#compile) the model using a Stochastic Gradient Descent optimizer and a Mean Absolute Error both as loss and accuracy metric. [Fit](https://www.tensorflow.org/api_docs/python/tf/keras/Model#fit) it to your data."
      ]
    },
    {
      "cell_type": "markdown",
      "metadata": {
        "id": "EufH4DTBVsSn"
      },
      "source": [
        "**Question 2.3**: visualize the evolution of your loss function"
      ]
    },
    {
      "cell_type": "markdown",
      "metadata": {
        "id": "NgXpZlUNWGRz"
      },
      "source": [
        "**Question 2.4**: plot the regression line on your data \n",
        "\n",
        "*tips : two possible solutions, 1) based on your model predictions with the method using [predict](https://www.tensorflow.org/api_docs/python/tf/keras/Model#predict), 2) based on your model coefficients using [get_weights](https://www.tensorflow.org/api_docs/python/tf/keras/layers/Layer#get_weights)*\n"
      ]
    },
    {
      "cell_type": "markdown",
      "metadata": {
        "id": "d5fDH33smZ-O"
      },
      "source": [
        "**Question 2.5**: [evaluate](https://www.tensorflow.org/api_docs/python/tf/keras/Model#evaluate) your performance model, and store them into a dictionary having model names as keys"
      ]
    },
    {
      "cell_type": "markdown",
      "metadata": {
        "id": "KQS0eklsW9cd"
      },
      "source": [
        "# 3. Multilinear regression model (using a neural network)"
      ]
    },
    {
      "cell_type": "markdown",
      "metadata": {
        "id": "zyxYzK8cpmuH"
      },
      "source": [
        "**Question 3.1**: answer all previous questions for a multilinear regression model taking as inputs all available variables. Comment optimization and performance results."
      ]
    },
    {
      "cell_type": "markdown",
      "metadata": {
        "id": "kpcYeLok5xZM"
      },
      "source": [
        "# 4. Fully-connected multi-layer neural network model"
      ]
    },
    {
      "cell_type": "markdown",
      "metadata": {
        "id": "A2JoIAjU6KvY"
      },
      "source": [
        "**Question 4.1**: write a function `def build_and_compile_model(input, nber_layer, nber_neurons_per_layer, activation):` able to build a fully-connected multi-layer neural network architecture with `nber_layer` layers, each containing `nber_neurons_per_layer` neurons with an activaton stored in the list `activation`."
      ]
    },
    {
      "cell_type": "markdown",
      "metadata": {
        "id": "aOqrOm7wCYYl"
      },
      "source": [
        "**Question 4.2**: using this fonction, build and compile a DNN model with two layers of 64 and 32 neurons with `relu` activations to predict MPG from all other variables"
      ]
    },
    {
      "cell_type": "markdown",
      "metadata": {
        "id": "gclbtX7hpkaz"
      },
      "source": [
        "**Question 4.3**: display a result table showing the MAE for the two models"
      ]
    },
    {
      "cell_type": "markdown",
      "metadata": {
        "id": "lAMyVFvra5ZD"
      },
      "source": [
        "# 5. Logistic regression model "
      ]
    },
    {
      "cell_type": "markdown",
      "source": [
        "After having performed our model benchmark on a regression task, we will now address a binary classification task using a logistic regression model."
      ],
      "metadata": {
        "id": "tmXH4BwrgrT8"
      }
    },
    {
      "cell_type": "markdown",
      "metadata": {
        "id": "yVQ9Yn_lqlsZ"
      },
      "source": [
        "**Question 5.1**: let's start building a dataset suited for this classification task. From the variable `Cylinders`, build a new binary variable with a value of 0 for cylinders values inferior to 5, and 1 otherwise"
      ]
    },
    {
      "cell_type": "markdown",
      "metadata": {
        "id": "zFLPUjiHvLsb"
      },
      "source": [
        "**Question 5.2**: based on the neural network architecture of a linear regression model (part 2), build a neural network architecture performing a logistic regression model\n",
        "\n",
        "*tips : think about the neuron activation*"
      ]
    },
    {
      "cell_type": "markdown",
      "metadata": {
        "id": "lDxWnxsevxSE"
      },
      "source": [
        "**Question 5.3**: compile and fit your model with the proper [loss](https://keras.io/api/losses/), and visualize the evolutions of loss and accuracy metrics"
      ]
    },
    {
      "cell_type": "markdown",
      "metadata": {
        "id": "e-yZ4AkcuY_5"
      },
      "source": [
        "# 6. Visualizing model graphs with tensorboard (optional)"
      ]
    },
    {
      "cell_type": "markdown",
      "metadata": {
        "id": "tDGN-mlwuiC2"
      },
      "source": [
        "**Question 6:** use [tensorboard](https://www.tensorflow.org/tensorboard/graphs) to examine the graph of your last model"
      ]
    }
  ]
}