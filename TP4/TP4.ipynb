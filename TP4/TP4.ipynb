{
 "cells": [
  {
   "cell_type": "markdown",
   "metadata": {
    "id": "8HyF889xO8fp"
   },
   "source": [
    "# **TP4 : premiers vers les réseaux de neurones profonds**\n"
   ]
  },
  {
   "cell_type": "markdown",
   "metadata": {
    "id": "sWOuGHYGPKwC"
   },
   "source": [
    "# Context & Objectives\n",
    "\n",
    "In this TP, we propose to reformulate linear and logistic regression models as one-layered neural networks, and implement them in [Tensorflow](https://www.tensorflow.org/?hl=fr). We will also benchmark performance of several models, from a simple linear regression to a fully-connected deep learning model. \n",
    "\n"
   ]
  },
  {
   "cell_type": "markdown",
   "metadata": {
    "id": "A7jkmmFUgsGg"
   },
   "source": [
    "We will be using the AUTO-MPG dataset, downloaded as follows:"
   ]
  },
  {
   "cell_type": "code",
   "execution_count": 290,
   "metadata": {
    "ExecuteTime": {
     "start_time": "2023-04-14T11:50:33.044017Z",
     "end_time": "2023-04-14T11:50:33.190422Z"
    }
   },
   "outputs": [],
   "source": [
    "import matplotlib.pyplot as plt\n",
    "import numpy as np\n",
    "import pandas as pd\n",
    "import seaborn as sns"
   ]
  },
  {
   "cell_type": "code",
   "execution_count": 291,
   "metadata": {
    "ExecuteTime": {
     "start_time": "2023-04-14T11:50:33.047058Z",
     "end_time": "2023-04-14T11:50:33.190532Z"
    }
   },
   "outputs": [],
   "source": [
    "import tensorflow as tf"
   ]
  },
  {
   "cell_type": "code",
   "execution_count": 292,
   "metadata": {
    "ExecuteTime": {
     "start_time": "2023-04-14T11:50:33.049292Z",
     "end_time": "2023-04-14T11:50:33.190607Z"
    }
   },
   "outputs": [
    {
     "name": "stdout",
     "output_type": "stream",
     "text": [
      "2.12.0\n"
     ]
    }
   ],
   "source": [
    "from tensorflow import keras\n",
    "from tensorflow.keras import layers\n",
    "\n",
    "print(tf.__version__)"
   ]
  },
  {
   "cell_type": "code",
   "execution_count": 293,
   "metadata": {
    "colab": {
     "base_uri": "https://localhost:8080/"
    },
    "id": "pyxsY7VtFGqV",
    "outputId": "f969fe83-04e2-49da-edd5-c787a040e41a",
    "ExecuteTime": {
     "start_time": "2023-04-14T11:50:33.054618Z",
     "end_time": "2023-04-14T11:50:33.274421Z"
    }
   },
   "outputs": [
    {
     "name": "stdout",
     "output_type": "stream",
     "text": [
      "The tensorboard extension is already loaded. To reload it, use:\n",
      "  %reload_ext tensorboard\n",
      "TensorFlow version:  2.12.0\n"
     ]
    }
   ],
   "source": [
    "# Load the TensorBoard notebook extension.\n",
    "%load_ext tensorboard\n",
    "\n",
    "from datetime import datetime\n",
    "from packaging import version\n",
    "\n",
    "import tensorflow as tf\n",
    "from tensorflow import keras\n",
    "\n",
    "print(\"TensorFlow version: \", tf.__version__)\n",
    "assert version.parse(tf.__version__).release[0] >= 2, \\\n",
    "    \"This notebook requires TensorFlow 2.0 or above.\"\n",
    "\n",
    "import tensorboard\n",
    "tensorboard.__version__\n",
    "\n",
    "# Clear any logs from previous runs\n",
    "! rm -rf ./logs/\n",
    "\n",
    "# Define the Keras TensorBoard callback.\n",
    "logdir=\"logs/fit/\" + datetime.now().strftime(\"%Y%m%d-%H%M%S\")\n",
    "tensorboard_callback = keras.callbacks.TensorBoard(log_dir=logdir)"
   ]
  },
  {
   "cell_type": "code",
   "execution_count": 294,
   "metadata": {
    "colab": {
     "base_uri": "https://localhost:8080/"
    },
    "id": "2wucxMaUv5q2",
    "outputId": "c5c28d6f-721f-47db-9762-b8337a02e5f8",
    "ExecuteTime": {
     "start_time": "2023-04-14T11:50:33.213925Z",
     "end_time": "2023-04-14T11:50:33.773408Z"
    }
   },
   "outputs": [
    {
     "data": {
      "text/plain": "(398, 8)"
     },
     "execution_count": 294,
     "metadata": {},
     "output_type": "execute_result"
    }
   ],
   "source": [
    "url = 'http://archive.ics.uci.edu/ml/machine-learning-databases/auto-mpg/auto-mpg.data'\n",
    "column_names = ['MPG', 'Cylinders', 'Displacement', 'Horsepower', 'Weight',\n",
    "                'Acceleration', 'Model Year', 'Origin']\n",
    "\n",
    "raw_dataset = pd.read_csv(url, names=column_names,\n",
    "                          na_values='?', comment='\\t',\n",
    "                          sep=' ', skipinitialspace=True)\n",
    "\n",
    "dataset = raw_dataset.copy()\n",
    "\n",
    "dataset.tail()\n",
    "dataset.shape"
   ]
  },
  {
   "cell_type": "code",
   "execution_count": 295,
   "metadata": {
    "colab": {
     "base_uri": "https://localhost:8080/",
     "height": 300
    },
    "id": "SvIvpsIlL1F2",
    "outputId": "07880236-086f-4382-b5a1-318f921a99be",
    "ExecuteTime": {
     "start_time": "2023-04-14T11:50:33.775948Z",
     "end_time": "2023-04-14T11:50:33.784872Z"
    }
   },
   "outputs": [
    {
     "data": {
      "text/plain": "                     mean         std\nMPG             23.514573    7.815984\nCylinders        5.454774    1.701004\nDisplacement   193.425879  104.269838\nHorsepower     104.469388   38.491160\nWeight        2970.424623  846.841774\nAcceleration    15.568090    2.757689\nModel Year      76.010050    3.697627\nOrigin           1.572864    0.802055",
      "text/html": "<div>\n<style scoped>\n    .dataframe tbody tr th:only-of-type {\n        vertical-align: middle;\n    }\n\n    .dataframe tbody tr th {\n        vertical-align: top;\n    }\n\n    .dataframe thead th {\n        text-align: right;\n    }\n</style>\n<table border=\"1\" class=\"dataframe\">\n  <thead>\n    <tr style=\"text-align: right;\">\n      <th></th>\n      <th>mean</th>\n      <th>std</th>\n    </tr>\n  </thead>\n  <tbody>\n    <tr>\n      <th>MPG</th>\n      <td>23.514573</td>\n      <td>7.815984</td>\n    </tr>\n    <tr>\n      <th>Cylinders</th>\n      <td>5.454774</td>\n      <td>1.701004</td>\n    </tr>\n    <tr>\n      <th>Displacement</th>\n      <td>193.425879</td>\n      <td>104.269838</td>\n    </tr>\n    <tr>\n      <th>Horsepower</th>\n      <td>104.469388</td>\n      <td>38.491160</td>\n    </tr>\n    <tr>\n      <th>Weight</th>\n      <td>2970.424623</td>\n      <td>846.841774</td>\n    </tr>\n    <tr>\n      <th>Acceleration</th>\n      <td>15.568090</td>\n      <td>2.757689</td>\n    </tr>\n    <tr>\n      <th>Model Year</th>\n      <td>76.010050</td>\n      <td>3.697627</td>\n    </tr>\n    <tr>\n      <th>Origin</th>\n      <td>1.572864</td>\n      <td>0.802055</td>\n    </tr>\n  </tbody>\n</table>\n</div>"
     },
     "execution_count": 295,
     "metadata": {},
     "output_type": "execute_result"
    }
   ],
   "source": [
    "dataset.describe().T[['mean', 'std']]"
   ]
  },
  {
   "cell_type": "markdown",
   "metadata": {
    "id": "Sd23-3AbPiwF"
   },
   "source": [
    "# 1. Dataset preparation"
   ]
  },
  {
   "cell_type": "markdown",
   "metadata": {
    "id": "HGCf5x85Pmyx"
   },
   "source": [
    "**Question 1.1 (BONUS, the solution is given..)** : using the pandas library, count and remove all NaN values. Also, the variable `Origin` refers to different countries, ie 1, 2 and 3 correspond to the country names 'USA', 'Europe' and 'Japan'. Replace these numerical values by these names. One-hot encode these values with [pd.get_dummies](https://pandas.pydata.org/docs/reference/api/pandas.get_dummies.html).\n"
   ]
  },
  {
   "cell_type": "code",
   "execution_count": 296,
   "metadata": {
    "colab": {
     "base_uri": "https://localhost:8080/",
     "height": 423
    },
    "id": "BW20Tv4NP3WP",
    "outputId": "93cc4b39-a682-4f65-e438-821209009580",
    "ExecuteTime": {
     "start_time": "2023-04-14T11:50:33.788633Z",
     "end_time": "2023-04-14T11:50:33.790754Z"
    }
   },
   "outputs": [
    {
     "data": {
      "text/plain": "     Europe  Japan    USA\n0     False  False   True\n1     False  False   True\n2     False  False   True\n3     False  False   True\n4     False  False   True\n..      ...    ...    ...\n393   False  False   True\n394    True  False  False\n395   False  False   True\n396   False  False   True\n397   False  False   True\n\n[398 rows x 3 columns]",
      "text/html": "<div>\n<style scoped>\n    .dataframe tbody tr th:only-of-type {\n        vertical-align: middle;\n    }\n\n    .dataframe tbody tr th {\n        vertical-align: top;\n    }\n\n    .dataframe thead th {\n        text-align: right;\n    }\n</style>\n<table border=\"1\" class=\"dataframe\">\n  <thead>\n    <tr style=\"text-align: right;\">\n      <th></th>\n      <th>Europe</th>\n      <th>Japan</th>\n      <th>USA</th>\n    </tr>\n  </thead>\n  <tbody>\n    <tr>\n      <th>0</th>\n      <td>False</td>\n      <td>False</td>\n      <td>True</td>\n    </tr>\n    <tr>\n      <th>1</th>\n      <td>False</td>\n      <td>False</td>\n      <td>True</td>\n    </tr>\n    <tr>\n      <th>2</th>\n      <td>False</td>\n      <td>False</td>\n      <td>True</td>\n    </tr>\n    <tr>\n      <th>3</th>\n      <td>False</td>\n      <td>False</td>\n      <td>True</td>\n    </tr>\n    <tr>\n      <th>4</th>\n      <td>False</td>\n      <td>False</td>\n      <td>True</td>\n    </tr>\n    <tr>\n      <th>...</th>\n      <td>...</td>\n      <td>...</td>\n      <td>...</td>\n    </tr>\n    <tr>\n      <th>393</th>\n      <td>False</td>\n      <td>False</td>\n      <td>True</td>\n    </tr>\n    <tr>\n      <th>394</th>\n      <td>True</td>\n      <td>False</td>\n      <td>False</td>\n    </tr>\n    <tr>\n      <th>395</th>\n      <td>False</td>\n      <td>False</td>\n      <td>True</td>\n    </tr>\n    <tr>\n      <th>396</th>\n      <td>False</td>\n      <td>False</td>\n      <td>True</td>\n    </tr>\n    <tr>\n      <th>397</th>\n      <td>False</td>\n      <td>False</td>\n      <td>True</td>\n    </tr>\n  </tbody>\n</table>\n<p>398 rows × 3 columns</p>\n</div>"
     },
     "execution_count": 296,
     "metadata": {},
     "output_type": "execute_result"
    }
   ],
   "source": [
    "# here is what a one-hot encoding looks like\n",
    "pd.get_dummies(dataset['Origin'].map({1: 'USA', 2: 'Europe', 3: 'Japan'}), columns=['Origin'], prefix='', prefix_sep='')"
   ]
  },
  {
   "cell_type": "code",
   "execution_count": 297,
   "metadata": {
    "colab": {
     "base_uri": "https://localhost:8080/"
    },
    "id": "E2_2l-4GQdVl",
    "outputId": "91610831-f2c6-4cef-d854-ac3402a02261",
    "ExecuteTime": {
     "start_time": "2023-04-14T11:50:33.792640Z",
     "end_time": "2023-04-14T11:50:33.839966Z"
    }
   },
   "outputs": [
    {
     "data": {
      "text/plain": "      MPG  Cylinders  Displacement  Horsepower  Weight  Acceleration   \n393  27.0          4         140.0        86.0  2790.0          15.6  \\\n394  44.0          4          97.0        52.0  2130.0          24.6   \n395  32.0          4         135.0        84.0  2295.0          11.6   \n396  28.0          4         120.0        79.0  2625.0          18.6   \n397  31.0          4         119.0        82.0  2720.0          19.4   \n\n     Model Year  Europe  Japan    USA  \n393          82   False  False   True  \n394          82    True  False  False  \n395          82   False  False   True  \n396          82   False  False   True  \n397          82   False  False   True  ",
      "text/html": "<div>\n<style scoped>\n    .dataframe tbody tr th:only-of-type {\n        vertical-align: middle;\n    }\n\n    .dataframe tbody tr th {\n        vertical-align: top;\n    }\n\n    .dataframe thead th {\n        text-align: right;\n    }\n</style>\n<table border=\"1\" class=\"dataframe\">\n  <thead>\n    <tr style=\"text-align: right;\">\n      <th></th>\n      <th>MPG</th>\n      <th>Cylinders</th>\n      <th>Displacement</th>\n      <th>Horsepower</th>\n      <th>Weight</th>\n      <th>Acceleration</th>\n      <th>Model Year</th>\n      <th>Europe</th>\n      <th>Japan</th>\n      <th>USA</th>\n    </tr>\n  </thead>\n  <tbody>\n    <tr>\n      <th>393</th>\n      <td>27.0</td>\n      <td>4</td>\n      <td>140.0</td>\n      <td>86.0</td>\n      <td>2790.0</td>\n      <td>15.6</td>\n      <td>82</td>\n      <td>False</td>\n      <td>False</td>\n      <td>True</td>\n    </tr>\n    <tr>\n      <th>394</th>\n      <td>44.0</td>\n      <td>4</td>\n      <td>97.0</td>\n      <td>52.0</td>\n      <td>2130.0</td>\n      <td>24.6</td>\n      <td>82</td>\n      <td>True</td>\n      <td>False</td>\n      <td>False</td>\n    </tr>\n    <tr>\n      <th>395</th>\n      <td>32.0</td>\n      <td>4</td>\n      <td>135.0</td>\n      <td>84.0</td>\n      <td>2295.0</td>\n      <td>11.6</td>\n      <td>82</td>\n      <td>False</td>\n      <td>False</td>\n      <td>True</td>\n    </tr>\n    <tr>\n      <th>396</th>\n      <td>28.0</td>\n      <td>4</td>\n      <td>120.0</td>\n      <td>79.0</td>\n      <td>2625.0</td>\n      <td>18.6</td>\n      <td>82</td>\n      <td>False</td>\n      <td>False</td>\n      <td>True</td>\n    </tr>\n    <tr>\n      <th>397</th>\n      <td>31.0</td>\n      <td>4</td>\n      <td>119.0</td>\n      <td>82.0</td>\n      <td>2720.0</td>\n      <td>19.4</td>\n      <td>82</td>\n      <td>False</td>\n      <td>False</td>\n      <td>True</td>\n    </tr>\n  </tbody>\n</table>\n</div>"
     },
     "execution_count": 297,
     "metadata": {},
     "output_type": "execute_result"
    }
   ],
   "source": [
    "# just count the number of nans in the dataset\n",
    "number_nans = dataset.isna().sum()\n",
    "\n",
    "# remove all rows containing at least one nan\n",
    "dataset = dataset.dropna()\n",
    "\n",
    "# write the names of countries in the variable Origin\n",
    "dataset['Origin'] = dataset['Origin'].map({1: 'USA', 2: 'Europe', 3: 'Japan'})\n",
    "\n",
    "# one-hot encode the variable Origin\n",
    "dataset = pd.get_dummies(dataset, columns=['Origin'], prefix='', prefix_sep='')\n",
    "dataset.tail()"
   ]
  },
  {
   "cell_type": "markdown",
   "metadata": {
    "id": "1g30X5nyRLO2"
   },
   "source": [
    "**Question 1.2 (BONUS, the solution is given..)** : create the train/test partition with a ratio of 0.8/0.2, using the variable `MPG` as label vector.\n",
    "\n",
    "*tips : to keep working with pandas objects, you can use the [`sample`](https://pandas.pydata.org/pandas-docs/stable/reference/api/pandas.DataFrame.sample.html) method*"
   ]
  },
  {
   "cell_type": "code",
   "execution_count": 298,
   "metadata": {
    "id": "yZuspU7zB366",
    "ExecuteTime": {
     "start_time": "2023-04-14T11:50:33.800241Z",
     "end_time": "2023-04-14T11:50:33.870823Z"
    }
   },
   "outputs": [],
   "source": [
    "train_dataset = dataset.sample(frac=0.8, random_state=0)\n",
    "test_dataset = dataset.drop(train_dataset.index)\n",
    "\n",
    "train_features = train_dataset.copy()\n",
    "test_features = test_dataset.copy()\n",
    "\n",
    "train_labels = train_features.pop('MPG') # this will define train_labels as the column MPG of train_features while removing this column in train_features\n",
    "test_labels = test_features.pop('MPG')"
   ]
  },
  {
   "cell_type": "markdown",
   "metadata": {
    "id": "mQ1UnRr-S6v6"
   },
   "source": [
    "**Question 1.3**: create a numpy array `X` by normalizing your training features using [`tf.keras.layers.Normalization`](https://www.tensorflow.org/api_docs/python/tf/keras/layers/Normalization)\n",
    "\n",
    "In the following, we will not use this variable as this normalization will directly take the form of a neural network layer."
   ]
  },
  {
   "cell_type": "code",
   "execution_count": 299,
   "outputs": [],
   "source": [
    "# normalize the training features\n",
    "X = train_features.copy()\n",
    "normalizer = tf.keras.layers.Normalization()\n",
    "normalizer.adapt(np.array(X['Horsepower'])[:,np.newaxis])"
   ],
   "metadata": {
    "collapsed": false,
    "ExecuteTime": {
     "start_time": "2023-04-14T11:50:33.808320Z",
     "end_time": "2023-04-14T11:50:33.959663Z"
    }
   }
  },
  {
   "cell_type": "markdown",
   "metadata": {
    "id": "DNquB6IzUH1c"
   },
   "source": [
    "# 2. Linear regression model (using a neural network)\n",
    "\n"
   ]
  },
  {
   "cell_type": "markdown",
   "metadata": {
    "id": "YKdVUjuCUfNs"
   },
   "source": [
    "In this section we will try to predict the variable `MPG` with the single predictive variable `Horsepower`\n",
    "\n"
   ]
  },
  {
   "cell_type": "code",
   "execution_count": 300,
   "metadata": {
    "id": "DQvzwG6YUeLt",
    "ExecuteTime": {
     "start_time": "2023-04-14T11:50:33.943691Z",
     "end_time": "2023-04-14T11:50:33.959782Z"
    }
   },
   "outputs": [],
   "source": [
    "horsepower = np.array(train_features['Horsepower'])[:,np.newaxis]"
   ]
  },
  {
   "cell_type": "markdown",
   "metadata": {
    "id": "xlUrB-Y-Uawy"
   },
   "source": [
    "**Question 2.1**: build a neural network architecture for a linear regression using the `tf.keras.Sequential` tool. Re-use [`tf.keras.layers.Normalization`](https://www.tensorflow.org/api_docs/python/tf/keras/layers/Normalization) to integrate your normalization to the architecture. Visualize the model with the `summary()` method and comment output shapes and numbers of parameters."
   ]
  },
  {
   "cell_type": "code",
   "execution_count": 301,
   "outputs": [
    {
     "name": "stdout",
     "output_type": "stream",
     "text": [
      "Model: \"sequential_40\"\n",
      "_________________________________________________________________\n",
      " Layer (type)                Output Shape              Param #   \n",
      "=================================================================\n",
      " normalization_76 (Normaliza  (None, 1)                3         \n",
      " tion)                                                           \n",
      "                                                                 \n",
      " dense_43 (Dense)            (None, 1)                 2         \n",
      "                                                                 \n",
      "=================================================================\n",
      "Total params: 5\n",
      "Trainable params: 2\n",
      "Non-trainable params: 3\n",
      "_________________________________________________________________\n"
     ]
    }
   ],
   "source": [
    "# build the model\n",
    "model = tf.keras.Sequential([\n",
    "    tf.keras.layers.Normalization(),\n",
    "    tf.keras.layers.Dense(units=1)\n",
    "])\n",
    "model.build(input_shape=(None, 1))\n",
    "\n",
    "# visualize the model\n",
    "model.summary()"
   ],
   "metadata": {
    "collapsed": false,
    "ExecuteTime": {
     "start_time": "2023-04-14T11:50:33.948767Z",
     "end_time": "2023-04-14T11:50:33.981215Z"
    }
   }
  },
  {
   "cell_type": "markdown",
   "metadata": {
    "id": "g0yC_qQ4VWov"
   },
   "source": [
    "**Question 2.2**: [compile](https://www.tensorflow.org/api_docs/python/tf/keras/Model#compile) the model using a Stochastic Gradient Descent optimizer and a Mean Absolute Error both as loss and accuracy metric. [Fit](https://www.tensorflow.org/api_docs/python/tf/keras/Model#fit) it to your data."
   ]
  },
  {
   "cell_type": "code",
   "execution_count": 302,
   "outputs": [
    {
     "name": "stdout",
     "output_type": "stream",
     "text": [
      "Epoch 1/100\n",
      "10/10 [==============================] - 0s 6ms/step - loss: 53.1191 - mae: 53.1191\n",
      "Epoch 2/100\n",
      "10/10 [==============================] - 0s 4ms/step - loss: 58.8461 - mae: 58.8461\n",
      "Epoch 3/100\n",
      "10/10 [==============================] - 0s 4ms/step - loss: 53.4457 - mae: 53.4457\n",
      "Epoch 4/100\n",
      "10/10 [==============================] - 0s 7ms/step - loss: 53.6380 - mae: 53.6380\n",
      "Epoch 5/100\n",
      "10/10 [==============================] - 0s 4ms/step - loss: 54.8129 - mae: 54.8129\n",
      "Epoch 6/100\n",
      "10/10 [==============================] - 0s 4ms/step - loss: 46.3588 - mae: 46.3588\n",
      "Epoch 7/100\n",
      "10/10 [==============================] - 0s 4ms/step - loss: 55.2685 - mae: 55.2685\n",
      "Epoch 8/100\n",
      "10/10 [==============================] - 0s 4ms/step - loss: 55.8927 - mae: 55.8927\n",
      "Epoch 9/100\n",
      "10/10 [==============================] - 0s 4ms/step - loss: 53.5733 - mae: 53.5733\n",
      "Epoch 10/100\n",
      "10/10 [==============================] - 0s 4ms/step - loss: 54.4534 - mae: 54.4534\n",
      "Epoch 11/100\n",
      "10/10 [==============================] - 0s 4ms/step - loss: 57.6941 - mae: 57.6941\n",
      "Epoch 12/100\n",
      "10/10 [==============================] - 0s 4ms/step - loss: 56.4275 - mae: 56.4275\n",
      "Epoch 13/100\n",
      "10/10 [==============================] - 0s 4ms/step - loss: 52.6062 - mae: 52.6062\n",
      "Epoch 14/100\n",
      "10/10 [==============================] - 0s 4ms/step - loss: 48.9982 - mae: 48.9982\n",
      "Epoch 15/100\n",
      "10/10 [==============================] - 0s 6ms/step - loss: 45.6833 - mae: 45.6833\n",
      "Epoch 16/100\n",
      "10/10 [==============================] - 0s 4ms/step - loss: 54.3737 - mae: 54.3737\n",
      "Epoch 17/100\n",
      "10/10 [==============================] - 0s 4ms/step - loss: 56.5085 - mae: 56.5085\n",
      "Epoch 18/100\n",
      "10/10 [==============================] - 0s 4ms/step - loss: 53.7835 - mae: 53.7835\n",
      "Epoch 19/100\n",
      "10/10 [==============================] - 0s 4ms/step - loss: 58.5806 - mae: 58.5806\n",
      "Epoch 20/100\n",
      "10/10 [==============================] - 0s 4ms/step - loss: 53.2286 - mae: 53.2286\n",
      "Epoch 21/100\n",
      "10/10 [==============================] - 0s 4ms/step - loss: 55.8628 - mae: 55.8628\n",
      "Epoch 22/100\n",
      "10/10 [==============================] - 0s 4ms/step - loss: 50.6176 - mae: 50.6176\n",
      "Epoch 23/100\n",
      "10/10 [==============================] - 0s 4ms/step - loss: 58.3747 - mae: 58.3747\n",
      "Epoch 24/100\n",
      "10/10 [==============================] - 0s 5ms/step - loss: 56.7483 - mae: 56.7483\n",
      "Epoch 25/100\n",
      "10/10 [==============================] - 0s 5ms/step - loss: 48.2718 - mae: 48.2718\n",
      "Epoch 26/100\n",
      "10/10 [==============================] - 0s 5ms/step - loss: 49.9744 - mae: 49.9744\n",
      "Epoch 27/100\n",
      "10/10 [==============================] - 0s 5ms/step - loss: 54.0074 - mae: 54.0074\n",
      "Epoch 28/100\n",
      "10/10 [==============================] - 0s 5ms/step - loss: 55.9352 - mae: 55.9352\n",
      "Epoch 29/100\n",
      "10/10 [==============================] - 0s 4ms/step - loss: 51.7019 - mae: 51.7019\n",
      "Epoch 30/100\n",
      "10/10 [==============================] - 0s 4ms/step - loss: 49.3013 - mae: 49.3013\n",
      "Epoch 31/100\n",
      "10/10 [==============================] - 0s 5ms/step - loss: 52.3162 - mae: 52.3162\n",
      "Epoch 32/100\n",
      "10/10 [==============================] - 0s 5ms/step - loss: 53.3770 - mae: 53.3770\n",
      "Epoch 33/100\n",
      "10/10 [==============================] - 0s 5ms/step - loss: 54.6352 - mae: 54.6352\n",
      "Epoch 34/100\n",
      "10/10 [==============================] - 0s 4ms/step - loss: 51.0776 - mae: 51.0776\n",
      "Epoch 35/100\n",
      "10/10 [==============================] - 0s 4ms/step - loss: 55.3712 - mae: 55.3712\n",
      "Epoch 36/100\n",
      "10/10 [==============================] - 0s 4ms/step - loss: 55.9739 - mae: 55.9739\n",
      "Epoch 37/100\n",
      "10/10 [==============================] - 0s 4ms/step - loss: 55.0685 - mae: 55.0685\n",
      "Epoch 38/100\n",
      "10/10 [==============================] - 0s 4ms/step - loss: 54.7475 - mae: 54.7475\n",
      "Epoch 39/100\n",
      "10/10 [==============================] - 0s 4ms/step - loss: 55.1544 - mae: 55.1544\n",
      "Epoch 40/100\n",
      "10/10 [==============================] - 0s 4ms/step - loss: 54.2568 - mae: 54.2568\n",
      "Epoch 41/100\n",
      "10/10 [==============================] - 0s 4ms/step - loss: 51.9254 - mae: 51.9254\n",
      "Epoch 42/100\n",
      "10/10 [==============================] - 0s 4ms/step - loss: 54.9291 - mae: 54.9291\n",
      "Epoch 43/100\n",
      "10/10 [==============================] - 0s 4ms/step - loss: 54.8636 - mae: 54.8636\n",
      "Epoch 44/100\n",
      "10/10 [==============================] - 0s 4ms/step - loss: 55.1800 - mae: 55.1800\n",
      "Epoch 45/100\n",
      "10/10 [==============================] - 0s 4ms/step - loss: 55.3851 - mae: 55.3851\n",
      "Epoch 46/100\n",
      "10/10 [==============================] - 0s 4ms/step - loss: 55.5643 - mae: 55.5643\n",
      "Epoch 47/100\n",
      "10/10 [==============================] - 0s 4ms/step - loss: 54.4798 - mae: 54.4798\n",
      "Epoch 48/100\n",
      "10/10 [==============================] - 0s 5ms/step - loss: 54.8768 - mae: 54.8768\n",
      "Epoch 49/100\n",
      "10/10 [==============================] - 0s 5ms/step - loss: 55.1398 - mae: 55.1398\n",
      "Epoch 50/100\n",
      "10/10 [==============================] - 0s 5ms/step - loss: 55.2245 - mae: 55.2245\n",
      "Epoch 51/100\n",
      "10/10 [==============================] - 0s 5ms/step - loss: 54.9326 - mae: 54.9326\n",
      "Epoch 52/100\n",
      "10/10 [==============================] - 0s 4ms/step - loss: 55.0764 - mae: 55.0764\n",
      "Epoch 53/100\n",
      "10/10 [==============================] - 0s 4ms/step - loss: 54.6740 - mae: 54.6740\n",
      "Epoch 54/100\n",
      "10/10 [==============================] - 0s 5ms/step - loss: 54.9911 - mae: 54.9911\n",
      "Epoch 55/100\n",
      "10/10 [==============================] - 0s 5ms/step - loss: 54.7753 - mae: 54.7753\n",
      "Epoch 56/100\n",
      "10/10 [==============================] - 0s 5ms/step - loss: 54.9805 - mae: 54.9805\n",
      "Epoch 57/100\n",
      "10/10 [==============================] - 0s 5ms/step - loss: 54.9755 - mae: 54.9755\n",
      "Epoch 58/100\n",
      "10/10 [==============================] - 0s 5ms/step - loss: 54.4247 - mae: 54.4247\n",
      "Epoch 59/100\n",
      "10/10 [==============================] - 0s 5ms/step - loss: 52.8123 - mae: 52.8123\n",
      "Epoch 60/100\n",
      "10/10 [==============================] - 0s 4ms/step - loss: 53.2245 - mae: 53.2245\n",
      "Epoch 61/100\n",
      "10/10 [==============================] - 0s 5ms/step - loss: 53.9159 - mae: 53.9159\n",
      "Epoch 62/100\n",
      "10/10 [==============================] - 0s 6ms/step - loss: 38.3976 - mae: 38.3976\n",
      "Epoch 63/100\n",
      "10/10 [==============================] - 0s 5ms/step - loss: 55.4182 - mae: 55.4182\n",
      "Epoch 64/100\n",
      "10/10 [==============================] - 0s 4ms/step - loss: 55.2773 - mae: 55.2773\n",
      "Epoch 65/100\n",
      "10/10 [==============================] - 0s 4ms/step - loss: 54.9806 - mae: 54.9806\n",
      "Epoch 66/100\n",
      "10/10 [==============================] - 0s 4ms/step - loss: 55.3774 - mae: 55.3774\n",
      "Epoch 67/100\n",
      "10/10 [==============================] - 0s 4ms/step - loss: 54.8974 - mae: 54.8974\n",
      "Epoch 68/100\n",
      "10/10 [==============================] - 0s 4ms/step - loss: 55.2417 - mae: 55.2417\n",
      "Epoch 69/100\n",
      "10/10 [==============================] - 0s 4ms/step - loss: 54.9711 - mae: 54.9711\n",
      "Epoch 70/100\n",
      "10/10 [==============================] - 0s 4ms/step - loss: 55.1542 - mae: 55.1542\n",
      "Epoch 71/100\n",
      "10/10 [==============================] - 0s 4ms/step - loss: 54.3234 - mae: 54.3234\n",
      "Epoch 72/100\n",
      "10/10 [==============================] - 0s 5ms/step - loss: 51.5456 - mae: 51.5456\n",
      "Epoch 73/100\n",
      "10/10 [==============================] - 0s 5ms/step - loss: 54.7101 - mae: 54.7101\n",
      "Epoch 74/100\n",
      "10/10 [==============================] - 0s 5ms/step - loss: 53.3256 - mae: 53.3256\n",
      "Epoch 75/100\n",
      "10/10 [==============================] - 0s 4ms/step - loss: 54.4567 - mae: 54.4567\n",
      "Epoch 76/100\n",
      "10/10 [==============================] - 0s 4ms/step - loss: 55.3299 - mae: 55.3299\n",
      "Epoch 77/100\n",
      "10/10 [==============================] - 0s 4ms/step - loss: 55.0596 - mae: 55.0596\n",
      "Epoch 78/100\n",
      "10/10 [==============================] - 0s 4ms/step - loss: 55.7697 - mae: 55.7697\n",
      "Epoch 79/100\n",
      "10/10 [==============================] - 0s 4ms/step - loss: 46.3004 - mae: 46.3004\n",
      "Epoch 80/100\n",
      "10/10 [==============================] - 0s 4ms/step - loss: 51.6506 - mae: 51.6506\n",
      "Epoch 81/100\n",
      "10/10 [==============================] - 0s 4ms/step - loss: 57.8118 - mae: 57.8118\n",
      "Epoch 82/100\n",
      "10/10 [==============================] - 0s 4ms/step - loss: 54.2543 - mae: 54.2543\n",
      "Epoch 83/100\n",
      "10/10 [==============================] - 0s 4ms/step - loss: 55.6679 - mae: 55.6679\n",
      "Epoch 84/100\n",
      "10/10 [==============================] - 0s 4ms/step - loss: 54.4449 - mae: 54.4449\n",
      "Epoch 85/100\n",
      "10/10 [==============================] - 0s 4ms/step - loss: 54.2960 - mae: 54.2960\n",
      "Epoch 86/100\n",
      "10/10 [==============================] - 0s 4ms/step - loss: 54.2863 - mae: 54.2863\n",
      "Epoch 87/100\n",
      "10/10 [==============================] - 0s 4ms/step - loss: 57.6542 - mae: 57.6542\n",
      "Epoch 88/100\n",
      "10/10 [==============================] - 0s 4ms/step - loss: 47.0613 - mae: 47.0613\n",
      "Epoch 89/100\n",
      "10/10 [==============================] - 0s 4ms/step - loss: 56.1771 - mae: 56.1771\n",
      "Epoch 90/100\n",
      "10/10 [==============================] - 0s 4ms/step - loss: 53.5965 - mae: 53.5965\n",
      "Epoch 91/100\n",
      "10/10 [==============================] - 0s 4ms/step - loss: 53.6510 - mae: 53.6510\n",
      "Epoch 92/100\n",
      "10/10 [==============================] - 0s 4ms/step - loss: 57.1301 - mae: 57.1301\n",
      "Epoch 93/100\n",
      "10/10 [==============================] - 0s 4ms/step - loss: 54.7818 - mae: 54.7818\n",
      "Epoch 94/100\n",
      "10/10 [==============================] - 0s 4ms/step - loss: 53.3190 - mae: 53.3190\n",
      "Epoch 95/100\n",
      "10/10 [==============================] - 0s 4ms/step - loss: 53.5073 - mae: 53.5073\n",
      "Epoch 96/100\n",
      "10/10 [==============================] - 0s 4ms/step - loss: 54.1251 - mae: 54.1251\n",
      "Epoch 97/100\n",
      "10/10 [==============================] - 0s 4ms/step - loss: 52.7887 - mae: 52.7887\n",
      "Epoch 98/100\n",
      "10/10 [==============================] - 0s 4ms/step - loss: 54.6741 - mae: 54.6741\n",
      "Epoch 99/100\n",
      "10/10 [==============================] - 0s 4ms/step - loss: 47.6827 - mae: 47.6827\n",
      "Epoch 100/100\n",
      "10/10 [==============================] - 0s 4ms/step - loss: 54.8364 - mae: 54.8364\n"
     ]
    },
    {
     "data": {
      "text/plain": "<keras.callbacks.History at 0x2caa73580>"
     },
     "execution_count": 302,
     "metadata": {},
     "output_type": "execute_result"
    }
   ],
   "source": [
    "# compile the model\n",
    "model.compile(optimizer='sgd',\n",
    "              loss='mae',\n",
    "              metrics=['mae'])\n",
    "\n",
    "# fit the model\n",
    "model.fit(horsepower, train_labels, epochs=100, callbacks=[tensorboard_callback])"
   ],
   "metadata": {
    "collapsed": false,
    "ExecuteTime": {
     "start_time": "2023-04-14T11:50:33.974545Z",
     "end_time": "2023-04-14T11:50:38.625434Z"
    }
   }
  },
  {
   "cell_type": "markdown",
   "metadata": {
    "id": "EufH4DTBVsSn"
   },
   "source": [
    "**Question 2.3**: visualize the evolution of your loss function"
   ]
  },
  {
   "cell_type": "code",
   "execution_count": 303,
   "outputs": [
    {
     "data": {
      "text/plain": "<Figure size 640x480 with 1 Axes>",
      "image/png": "[encoded data removed]"
     },
     "metadata": {},
     "output_type": "display_data"
    }
   ],
   "source": [
    "# plot the evolution of the loss function\n",
    "plt.plot(model.history.history['loss'])\n",
    "plt.xlabel('Epochs')\n",
    "plt.ylabel('Loss')\n",
    "plt.show()"
   ],
   "metadata": {
    "collapsed": false,
    "ExecuteTime": {
     "start_time": "2023-04-14T11:50:38.742896Z",
     "end_time": "2023-04-14T11:50:38.760571Z"
    }
   }
  },
  {
   "cell_type": "markdown",
   "metadata": {
    "id": "NgXpZlUNWGRz"
   },
   "source": [
    "**Question 2.4**: plot the regression line on your data \n",
    "\n",
    "*tips : two possible solutions, 1) based on your model predictions with the method using [predict](https://www.tensorflow.org/api_docs/python/tf/keras/Model#predict), 2) based on your model coefficients using [get_weights](https://www.tensorflow.org/api_docs/python/tf/keras/layers/Layer#get_weights)*\n"
   ]
  },
  {
   "cell_type": "code",
   "execution_count": 304,
   "outputs": [],
   "source": [
    "def normalize(x):\n",
    "    mean = np.mean(x)\n",
    "    std = np.std(x)\n",
    "    return (x - mean) / std"
   ],
   "metadata": {
    "collapsed": false,
    "ExecuteTime": {
     "start_time": "2023-04-14T11:50:38.766375Z",
     "end_time": "2023-04-14T11:50:38.768406Z"
    }
   }
  },
  {
   "cell_type": "code",
   "execution_count": 305,
   "outputs": [
    {
     "name": "stdout",
     "output_type": "stream",
     "text": [
      "10/10 [==============================] - 0s 4ms/step\n"
     ]
    },
    {
     "data": {
      "text/plain": "<Figure size 640x480 with 1 Axes>",
      "image/png": "[encoded data removed]"
     },
     "metadata": {},
     "output_type": "display_data"
    }
   ],
   "source": [
    "# plot the regression line\n",
    "plt.scatter(horsepower, normalize(train_labels), label='data')\n",
    "plt.plot(horsepower, normalize(model.predict(horsepower)), color='red', label='regression line')\n",
    "plt.xlabel('Horsepower')\n",
    "plt.ylabel('MPG')\n",
    "plt.legend()\n",
    "plt.show()"
   ],
   "metadata": {
    "collapsed": false,
    "ExecuteTime": {
     "start_time": "2023-04-14T11:50:38.791352Z",
     "end_time": "2023-04-14T11:50:38.999959Z"
    }
   }
  },
  {
   "cell_type": "markdown",
   "metadata": {
    "id": "d5fDH33smZ-O"
   },
   "source": [
    "**Question 2.5**: [evaluate](https://www.tensorflow.org/api_docs/python/tf/keras/Model#evaluate) your performance model, and store them into a dictionary having model names as keys"
   ]
  },
  {
   "cell_type": "code",
   "execution_count": 306,
   "outputs": [
    {
     "name": "stdout",
     "output_type": "stream",
     "text": [
      "10/10 - 0s - loss: 28.3738 - mae: 28.3738 - 93ms/epoch - 9ms/step\n",
      "10/10 - 0s - loss: 28.3738 - mae: 28.3738 - 43ms/epoch - 4ms/step\n",
      "{'linear regression': [28.373809814453125, 28.373809814453125]}\n"
     ]
    }
   ],
   "source": [
    "# evaluate the model\n",
    "model.evaluate(horsepower, train_labels, verbose=2)\n",
    "\n",
    "# store the results\n",
    "results = {'linear regression': model.evaluate(horsepower, train_labels, verbose=2)}\n",
    "\n",
    "# print the results\n",
    "print(results)"
   ],
   "metadata": {
    "collapsed": false,
    "ExecuteTime": {
     "start_time": "2023-04-14T11:50:39.000613Z",
     "end_time": "2023-04-14T11:50:39.172519Z"
    }
   }
  },
  {
   "cell_type": "markdown",
   "metadata": {
    "id": "KQS0eklsW9cd"
   },
   "source": [
    "# 3. Multilinear regression model (using a neural network)"
   ]
  },
  {
   "cell_type": "markdown",
   "metadata": {
    "id": "zyxYzK8cpmuH"
   },
   "source": [
    "**Question 3.1**: answer all previous questions for a multilinear regression model taking as inputs all available variables. Comment optimization and performance results."
   ]
  },
  {
   "cell_type": "code",
   "execution_count": 307,
   "outputs": [],
   "source": [
    "## multi-linear regression\n",
    "# take all available variables as input\n",
    "multilinear_features = train_features.copy()\n",
    "multilinear_features = np.array(multilinear_features).astype(np.float32)"
   ],
   "metadata": {
    "collapsed": false,
    "ExecuteTime": {
     "start_time": "2023-04-14T11:50:39.174362Z",
     "end_time": "2023-04-14T11:50:39.175796Z"
    }
   }
  },
  {
   "cell_type": "code",
   "execution_count": 308,
   "outputs": [
    {
     "name": "stdout",
     "output_type": "stream",
     "text": [
      "Epoch 1/100\n",
      "10/10 [==============================] - 0s 5ms/step - loss: 44374.2500 - mae: 44374.2500\n",
      "Epoch 2/100\n",
      "10/10 [==============================] - 0s 4ms/step - loss: 44231.9023 - mae: 44231.9023\n",
      "Epoch 3/100\n",
      "10/10 [==============================] - 0s 4ms/step - loss: 44207.2734 - mae: 44207.2734\n",
      "Epoch 4/100\n",
      "10/10 [==============================] - 0s 4ms/step - loss: 44356.6211 - mae: 44356.6211\n",
      "Epoch 5/100\n",
      "10/10 [==============================] - 0s 4ms/step - loss: 44346.2344 - mae: 44346.2344\n",
      "Epoch 6/100\n",
      "10/10 [==============================] - 0s 4ms/step - loss: 44509.1719 - mae: 44509.1719\n",
      "Epoch 7/100\n",
      "10/10 [==============================] - 0s 4ms/step - loss: 45000.0703 - mae: 45000.0703\n",
      "Epoch 8/100\n",
      "10/10 [==============================] - 0s 4ms/step - loss: 44679.3945 - mae: 44679.3945\n",
      "Epoch 9/100\n",
      "10/10 [==============================] - 0s 4ms/step - loss: 44272.3945 - mae: 44272.3945\n",
      "Epoch 10/100\n",
      "10/10 [==============================] - 0s 4ms/step - loss: 45077.4102 - mae: 45077.4102\n",
      "Epoch 11/100\n",
      "10/10 [==============================] - 0s 4ms/step - loss: 44616.5977 - mae: 44616.5977\n",
      "Epoch 12/100\n",
      "10/10 [==============================] - 0s 4ms/step - loss: 45417.5859 - mae: 45417.5859\n",
      "Epoch 13/100\n",
      "10/10 [==============================] - 0s 4ms/step - loss: 45138.7969 - mae: 45138.7969\n",
      "Epoch 14/100\n",
      "10/10 [==============================] - 0s 4ms/step - loss: 44957.4062 - mae: 44957.4062\n",
      "Epoch 15/100\n",
      "10/10 [==============================] - 0s 4ms/step - loss: 45838.5703 - mae: 45838.5703\n",
      "Epoch 16/100\n",
      "10/10 [==============================] - 0s 4ms/step - loss: 45854.6289 - mae: 45854.6289\n",
      "Epoch 17/100\n",
      "10/10 [==============================] - 0s 4ms/step - loss: 44527.4258 - mae: 44527.4258\n",
      "Epoch 18/100\n",
      "10/10 [==============================] - 0s 4ms/step - loss: 46069.0938 - mae: 46069.0938\n",
      "Epoch 19/100\n",
      "10/10 [==============================] - 0s 4ms/step - loss: 46042.8359 - mae: 46042.8359\n",
      "Epoch 20/100\n",
      "10/10 [==============================] - 0s 4ms/step - loss: 45246.3984 - mae: 45246.3984\n",
      "Epoch 21/100\n",
      "10/10 [==============================] - 0s 4ms/step - loss: 44226.7031 - mae: 44226.7031\n",
      "Epoch 22/100\n",
      "10/10 [==============================] - 0s 4ms/step - loss: 45191.6914 - mae: 45191.6914\n",
      "Epoch 23/100\n",
      "10/10 [==============================] - 0s 4ms/step - loss: 44643.5117 - mae: 44643.5117\n",
      "Epoch 24/100\n",
      "10/10 [==============================] - 0s 4ms/step - loss: 45586.5820 - mae: 45586.5820\n",
      "Epoch 25/100\n",
      "10/10 [==============================] - 0s 4ms/step - loss: 47699.3125 - mae: 47699.3125\n",
      "Epoch 26/100\n",
      "10/10 [==============================] - 0s 4ms/step - loss: 44063.1172 - mae: 44063.1172\n",
      "Epoch 27/100\n",
      "10/10 [==============================] - 0s 4ms/step - loss: 47102.5898 - mae: 47102.5898\n",
      "Epoch 28/100\n",
      "10/10 [==============================] - 0s 4ms/step - loss: 45845.9570 - mae: 45845.9570\n",
      "Epoch 29/100\n",
      "10/10 [==============================] - 0s 4ms/step - loss: 46436.7344 - mae: 46436.7344\n",
      "Epoch 30/100\n",
      "10/10 [==============================] - 0s 4ms/step - loss: 45150.9844 - mae: 45150.9844\n",
      "Epoch 31/100\n",
      "10/10 [==============================] - 0s 4ms/step - loss: 46734.6562 - mae: 46734.6562\n",
      "Epoch 32/100\n",
      "10/10 [==============================] - 0s 4ms/step - loss: 44579.0508 - mae: 44579.0508\n",
      "Epoch 33/100\n",
      "10/10 [==============================] - 0s 4ms/step - loss: 45606.9766 - mae: 45606.9766\n",
      "Epoch 34/100\n",
      "10/10 [==============================] - 0s 4ms/step - loss: 44738.9102 - mae: 44738.9102\n",
      "Epoch 35/100\n",
      "10/10 [==============================] - 0s 4ms/step - loss: 45474.1289 - mae: 45474.1289\n",
      "Epoch 36/100\n",
      "10/10 [==============================] - 0s 4ms/step - loss: 45064.3086 - mae: 45064.3086\n",
      "Epoch 37/100\n",
      "10/10 [==============================] - 0s 4ms/step - loss: 45401.5781 - mae: 45401.5781\n",
      "Epoch 38/100\n",
      "10/10 [==============================] - 0s 4ms/step - loss: 43937.0312 - mae: 43937.0312\n",
      "Epoch 39/100\n",
      "10/10 [==============================] - 0s 4ms/step - loss: 45619.5664 - mae: 45619.5664\n",
      "Epoch 40/100\n",
      "10/10 [==============================] - 0s 4ms/step - loss: 46012.7734 - mae: 46012.7734\n",
      "Epoch 41/100\n",
      "10/10 [==============================] - 0s 4ms/step - loss: 45597.2070 - mae: 45597.2070\n",
      "Epoch 42/100\n",
      "10/10 [==============================] - 0s 4ms/step - loss: 46217.1758 - mae: 46217.1758\n",
      "Epoch 43/100\n",
      "10/10 [==============================] - 0s 4ms/step - loss: 45593.4883 - mae: 45593.4883\n",
      "Epoch 44/100\n",
      "10/10 [==============================] - 0s 4ms/step - loss: 44389.6719 - mae: 44389.6719\n",
      "Epoch 45/100\n",
      "10/10 [==============================] - 0s 4ms/step - loss: 45765.9609 - mae: 45765.9609\n",
      "Epoch 46/100\n",
      "10/10 [==============================] - 0s 4ms/step - loss: 44791.6602 - mae: 44791.6602\n",
      "Epoch 47/100\n",
      "10/10 [==============================] - 0s 4ms/step - loss: 45813.2109 - mae: 45813.2109\n",
      "Epoch 48/100\n",
      "10/10 [==============================] - 0s 4ms/step - loss: 45078.6367 - mae: 45078.6367\n",
      "Epoch 49/100\n",
      "10/10 [==============================] - 0s 4ms/step - loss: 45591.3555 - mae: 45591.3555\n",
      "Epoch 50/100\n",
      "10/10 [==============================] - 0s 4ms/step - loss: 46692.0547 - mae: 46692.0547\n",
      "Epoch 51/100\n",
      "10/10 [==============================] - 0s 4ms/step - loss: 44814.3164 - mae: 44814.3164\n",
      "Epoch 52/100\n",
      "10/10 [==============================] - 0s 4ms/step - loss: 44238.9844 - mae: 44238.9844\n",
      "Epoch 53/100\n",
      "10/10 [==============================] - 0s 4ms/step - loss: 45604.4688 - mae: 45604.4688\n",
      "Epoch 54/100\n",
      "10/10 [==============================] - 0s 4ms/step - loss: 46028.1445 - mae: 46028.1445\n",
      "Epoch 55/100\n",
      "10/10 [==============================] - 0s 4ms/step - loss: 45801.6328 - mae: 45801.6328\n",
      "Epoch 56/100\n",
      "10/10 [==============================] - 0s 4ms/step - loss: 46096.3633 - mae: 46096.3633\n",
      "Epoch 57/100\n",
      "10/10 [==============================] - 0s 4ms/step - loss: 44031.6211 - mae: 44031.6211\n",
      "Epoch 58/100\n",
      "10/10 [==============================] - 0s 4ms/step - loss: 46590.7344 - mae: 46590.7344\n",
      "Epoch 59/100\n",
      "10/10 [==============================] - 0s 4ms/step - loss: 46234.9062 - mae: 46234.9062\n",
      "Epoch 60/100\n",
      "10/10 [==============================] - 0s 4ms/step - loss: 45193.9609 - mae: 45193.9609\n",
      "Epoch 61/100\n",
      "10/10 [==============================] - 0s 4ms/step - loss: 44840.2695 - mae: 44840.2695\n",
      "Epoch 62/100\n",
      "10/10 [==============================] - 0s 4ms/step - loss: 46046.0898 - mae: 46046.0898\n",
      "Epoch 63/100\n",
      "10/10 [==============================] - 0s 4ms/step - loss: 45873.8164 - mae: 45873.8164\n",
      "Epoch 64/100\n",
      "10/10 [==============================] - 0s 4ms/step - loss: 45556.0508 - mae: 45556.0508\n",
      "Epoch 65/100\n",
      "10/10 [==============================] - 0s 4ms/step - loss: 44971.8125 - mae: 44971.8125\n",
      "Epoch 66/100\n",
      "10/10 [==============================] - 0s 4ms/step - loss: 44417.7695 - mae: 44417.7695\n",
      "Epoch 67/100\n",
      "10/10 [==============================] - 0s 4ms/step - loss: 44357.6562 - mae: 44357.6562\n",
      "Epoch 68/100\n",
      "10/10 [==============================] - 0s 4ms/step - loss: 44832.3555 - mae: 44832.3555\n",
      "Epoch 69/100\n",
      "10/10 [==============================] - 0s 4ms/step - loss: 43872.0117 - mae: 43872.0117\n",
      "Epoch 70/100\n",
      "10/10 [==============================] - 0s 4ms/step - loss: 45591.9023 - mae: 45591.9023\n",
      "Epoch 71/100\n",
      "10/10 [==============================] - 0s 4ms/step - loss: 45812.3828 - mae: 45812.3828\n",
      "Epoch 72/100\n",
      "10/10 [==============================] - 0s 4ms/step - loss: 44935.3242 - mae: 44935.3242\n",
      "Epoch 73/100\n",
      "10/10 [==============================] - 0s 4ms/step - loss: 45268.2578 - mae: 45268.2578\n",
      "Epoch 74/100\n",
      "10/10 [==============================] - 0s 4ms/step - loss: 45207.4062 - mae: 45207.4062\n",
      "Epoch 75/100\n",
      "10/10 [==============================] - 0s 4ms/step - loss: 44725.4414 - mae: 44725.4414\n",
      "Epoch 76/100\n",
      "10/10 [==============================] - 0s 4ms/step - loss: 44306.1172 - mae: 44306.1172\n",
      "Epoch 77/100\n",
      "10/10 [==============================] - 0s 4ms/step - loss: 45013.5625 - mae: 45013.5625\n",
      "Epoch 78/100\n",
      "10/10 [==============================] - 0s 4ms/step - loss: 44796.8477 - mae: 44796.8477\n",
      "Epoch 79/100\n",
      "10/10 [==============================] - 0s 4ms/step - loss: 47333.0312 - mae: 47333.0273\n",
      "Epoch 80/100\n",
      "10/10 [==============================] - 0s 4ms/step - loss: 45290.4414 - mae: 45290.4414\n",
      "Epoch 81/100\n",
      "10/10 [==============================] - 0s 4ms/step - loss: 45856.8359 - mae: 45856.8359\n",
      "Epoch 82/100\n",
      "10/10 [==============================] - 0s 4ms/step - loss: 45237.3906 - mae: 45237.3906\n",
      "Epoch 83/100\n",
      "10/10 [==============================] - 0s 4ms/step - loss: 44429.3672 - mae: 44429.3672\n",
      "Epoch 84/100\n",
      "10/10 [==============================] - 0s 4ms/step - loss: 44105.1211 - mae: 44105.1211\n",
      "Epoch 85/100\n",
      "10/10 [==============================] - 0s 4ms/step - loss: 44453.8750 - mae: 44453.8750\n",
      "Epoch 86/100\n",
      "10/10 [==============================] - 0s 4ms/step - loss: 44319.6836 - mae: 44319.6836\n",
      "Epoch 87/100\n",
      "10/10 [==============================] - 0s 4ms/step - loss: 44708.2891 - mae: 44708.2891\n",
      "Epoch 88/100\n",
      "10/10 [==============================] - 0s 4ms/step - loss: 45140.3125 - mae: 45140.3125\n",
      "Epoch 89/100\n",
      "10/10 [==============================] - 0s 4ms/step - loss: 44322.1445 - mae: 44322.1445\n",
      "Epoch 90/100\n",
      "10/10 [==============================] - 0s 4ms/step - loss: 44496.2383 - mae: 44496.2383\n",
      "Epoch 91/100\n",
      "10/10 [==============================] - 0s 4ms/step - loss: 44241.3203 - mae: 44241.3203\n",
      "Epoch 92/100\n",
      "10/10 [==============================] - 0s 4ms/step - loss: 44348.7070 - mae: 44348.7070\n",
      "Epoch 93/100\n",
      "10/10 [==============================] - 0s 4ms/step - loss: 44448.1562 - mae: 44448.1562\n",
      "Epoch 94/100\n",
      "10/10 [==============================] - 0s 4ms/step - loss: 44435.6680 - mae: 44435.6680\n",
      "Epoch 95/100\n",
      "10/10 [==============================] - 0s 4ms/step - loss: 44615.1250 - mae: 44615.1250\n",
      "Epoch 96/100\n",
      "10/10 [==============================] - 0s 4ms/step - loss: 44380.5781 - mae: 44380.5781\n",
      "Epoch 97/100\n",
      "10/10 [==============================] - 0s 4ms/step - loss: 44827.6953 - mae: 44827.6953\n",
      "Epoch 98/100\n",
      "10/10 [==============================] - 0s 4ms/step - loss: 45156.7383 - mae: 45156.7383\n",
      "Epoch 99/100\n",
      "10/10 [==============================] - 0s 4ms/step - loss: 44382.1562 - mae: 44382.1562\n",
      "Epoch 100/100\n",
      "10/10 [==============================] - 0s 4ms/step - loss: 45039.2188 - mae: 45039.2188\n"
     ]
    },
    {
     "data": {
      "text/plain": "<Figure size 640x480 with 1 Axes>",
      "image/png": "[encoded data removed]"
     },
     "metadata": {},
     "output_type": "display_data"
    },
    {
     "name": "stdout",
     "output_type": "stream",
     "text": [
      "10/10 - 0s - loss: 35947.6914 - mae: 35947.6914 - 88ms/epoch - 9ms/step\n",
      "{'linear regression': [28.373809814453125, 28.373809814453125], 'multilinear regression': [35947.69140625, 35947.69140625]}\n"
     ]
    }
   ],
   "source": [
    "# build the model\n",
    "model = tf.keras.Sequential([\n",
    "    tf.keras.layers.Dense(units=1)\n",
    "])\n",
    "\n",
    "# compile the model\n",
    "model.compile(optimizer='sgd',\n",
    "              loss='mae',\n",
    "              metrics=['mae'])\n",
    "\n",
    "# fit the model\n",
    "model.fit(multilinear_features, train_labels, epochs=100, callbacks=[tensorboard_callback])\n",
    "\n",
    "# plot the evolution of the loss function\n",
    "plt.plot(model.history.history['loss'])\n",
    "plt.xlabel('Epochs')\n",
    "plt.ylabel('Loss')\n",
    "plt.show()\n",
    "\n",
    "# evaluate the model\n",
    "results['multilinear regression'] = model.evaluate(multilinear_features, train_labels, verbose=2)\n",
    "\n",
    "# print the results\n",
    "print(results)"
   ],
   "metadata": {
    "collapsed": false,
    "ExecuteTime": {
     "start_time": "2023-04-14T11:50:39.178526Z",
     "end_time": "2023-04-14T11:50:43.592200Z"
    }
   }
  },
  {
   "cell_type": "code",
   "execution_count": 309,
   "outputs": [
    {
     "name": "stdout",
     "output_type": "stream",
     "text": [
      "===== Optimization results =====\n",
      "Linear regression:  28.373809814453125\n",
      "Multilinear regression:  35947.69140625\n",
      "===== Performance results =====\n",
      "Linear regression:  28.373809814453125\n",
      "Multilinear regression:  35947.69140625\n"
     ]
    }
   ],
   "source": [
    "# optimization\n",
    "print('===== Optimization results =====')\n",
    "print('Linear regression: ', results['linear regression'][1])\n",
    "print('Multilinear regression: ', results['multilinear regression'][1])\n",
    "print('===== Performance results =====')\n",
    "print('Linear regression: ', results['linear regression'][0])\n",
    "print('Multilinear regression: ', results['multilinear regression'][0])"
   ],
   "metadata": {
    "collapsed": false,
    "ExecuteTime": {
     "start_time": "2023-04-14T11:50:43.592650Z",
     "end_time": "2023-04-14T11:50:43.593421Z"
    }
   }
  },
  {
   "cell_type": "markdown",
   "metadata": {
    "id": "kpcYeLok5xZM"
   },
   "source": [
    "# 4. Fully-connected multi-layer neural network model"
   ]
  },
  {
   "cell_type": "markdown",
   "metadata": {
    "id": "A2JoIAjU6KvY"
   },
   "source": [
    "**Question 4.1**: write a function `def build_and_compile_model(input, nber_layer, nber_neurons_per_layer, activation):` able to build a fully-connected multi-layer neural network architecture with `nber_layer` layers, each containing `nber_neurons_per_layer` neurons with an activaton stored in the list `activation`."
   ]
  },
  {
   "cell_type": "code",
   "execution_count": 310,
   "outputs": [],
   "source": [
    "def build_and_compile_model(input, nber_layer, nber_neurons_per_layer, activation):\n",
    "    # build a fully-connected multi-layer neural network architecture\n",
    "    model = tf.keras.Sequential()\n",
    "    model.add(tf.keras.layers.Dense(nber_neurons_per_layer, activation=activation, input_shape=(input,)))\n",
    "    for i in range(nber_layer-1):\n",
    "        model.add(tf.keras.layers.Dense(nber_neurons_per_layer, activation=activation))\n",
    "    model.add(tf.keras.layers.Dense(1))\n",
    "    model.compile(optimizer='sgd',\n",
    "                  loss='mae',\n",
    "                  metrics=['mae'])\n",
    "    return model"
   ],
   "metadata": {
    "collapsed": false,
    "ExecuteTime": {
     "start_time": "2023-04-14T11:50:43.592727Z",
     "end_time": "2023-04-14T11:50:43.637422Z"
    }
   }
  },
  {
   "cell_type": "markdown",
   "metadata": {
    "id": "aOqrOm7wCYYl"
   },
   "source": [
    "**Question 4.2**: using this fonction, build and compile a DNN model with two layers of 64 and 32 neurons with `relu` activations to predict MPG from all other variables"
   ]
  },
  {
   "cell_type": "code",
   "execution_count": 311,
   "outputs": [],
   "source": [
    "# build and compile the model (2 layers of 64 and 32 neurons with relu activations)\n",
    "model = build_and_compile_model(multilinear_features.shape[1], 2, 64, 'relu')"
   ],
   "metadata": {
    "collapsed": false,
    "ExecuteTime": {
     "start_time": "2023-04-14T11:50:43.637351Z",
     "end_time": "2023-04-14T11:50:43.678760Z"
    }
   }
  },
  {
   "cell_type": "markdown",
   "metadata": {
    "id": "gclbtX7hpkaz"
   },
   "source": [
    "**Question 4.3**: display a result table showing the MAE for the two models"
   ]
  },
  {
   "cell_type": "code",
   "execution_count": 312,
   "outputs": [
    {
     "name": "stdout",
     "output_type": "stream",
     "text": [
      "Epoch 1/100\n",
      "10/10 [==============================] - 0s 7ms/step - loss: 185660.7188 - mae: 185660.7188\n",
      "Epoch 2/100\n",
      "10/10 [==============================] - 0s 5ms/step - loss: 23.1864 - mae: 23.1864\n",
      "Epoch 3/100\n",
      "10/10 [==============================] - 0s 5ms/step - loss: 23.0864 - mae: 23.0864\n",
      "Epoch 4/100\n",
      "10/10 [==============================] - 0s 5ms/step - loss: 22.9864 - mae: 22.9864\n",
      "Epoch 5/100\n",
      "10/10 [==============================] - 0s 5ms/step - loss: 22.8864 - mae: 22.8864\n",
      "Epoch 6/100\n",
      "10/10 [==============================] - 0s 5ms/step - loss: 22.7864 - mae: 22.7864\n",
      "Epoch 7/100\n",
      "10/10 [==============================] - 0s 5ms/step - loss: 22.6864 - mae: 22.6864\n",
      "Epoch 8/100\n",
      "10/10 [==============================] - 0s 4ms/step - loss: 22.5864 - mae: 22.5864\n",
      "Epoch 9/100\n",
      "10/10 [==============================] - 0s 4ms/step - loss: 22.4864 - mae: 22.4864\n",
      "Epoch 10/100\n",
      "10/10 [==============================] - 0s 5ms/step - loss: 22.3864 - mae: 22.3864\n",
      "Epoch 11/100\n",
      "10/10 [==============================] - 0s 4ms/step - loss: 22.2864 - mae: 22.2864\n",
      "Epoch 12/100\n",
      "10/10 [==============================] - 0s 4ms/step - loss: 22.1864 - mae: 22.1864\n",
      "Epoch 13/100\n",
      "10/10 [==============================] - 0s 4ms/step - loss: 22.0864 - mae: 22.0864\n",
      "Epoch 14/100\n",
      "10/10 [==============================] - 0s 4ms/step - loss: 21.9864 - mae: 21.9864\n",
      "Epoch 15/100\n",
      "10/10 [==============================] - 0s 4ms/step - loss: 21.8864 - mae: 21.8864\n",
      "Epoch 16/100\n",
      "10/10 [==============================] - 0s 4ms/step - loss: 21.7864 - mae: 21.7864\n",
      "Epoch 17/100\n",
      "10/10 [==============================] - 0s 4ms/step - loss: 21.6864 - mae: 21.6864\n",
      "Epoch 18/100\n",
      "10/10 [==============================] - 0s 4ms/step - loss: 21.5864 - mae: 21.5864\n",
      "Epoch 19/100\n",
      "10/10 [==============================] - 0s 5ms/step - loss: 21.4864 - mae: 21.4864\n",
      "Epoch 20/100\n",
      "10/10 [==============================] - 0s 5ms/step - loss: 21.3864 - mae: 21.3864\n",
      "Epoch 21/100\n",
      "10/10 [==============================] - 0s 5ms/step - loss: 21.2864 - mae: 21.2864\n",
      "Epoch 22/100\n",
      "10/10 [==============================] - 0s 5ms/step - loss: 21.1864 - mae: 21.1864\n",
      "Epoch 23/100\n",
      "10/10 [==============================] - 0s 4ms/step - loss: 21.0864 - mae: 21.0864\n",
      "Epoch 24/100\n",
      "10/10 [==============================] - 0s 4ms/step - loss: 20.9864 - mae: 20.9864\n",
      "Epoch 25/100\n",
      "10/10 [==============================] - 0s 4ms/step - loss: 20.8864 - mae: 20.8864\n",
      "Epoch 26/100\n",
      "10/10 [==============================] - 0s 4ms/step - loss: 20.7864 - mae: 20.7864\n",
      "Epoch 27/100\n",
      "10/10 [==============================] - 0s 4ms/step - loss: 20.6864 - mae: 20.6864\n",
      "Epoch 28/100\n",
      "10/10 [==============================] - 0s 4ms/step - loss: 20.5864 - mae: 20.5864\n",
      "Epoch 29/100\n",
      "10/10 [==============================] - 0s 4ms/step - loss: 20.4864 - mae: 20.4864\n",
      "Epoch 30/100\n",
      "10/10 [==============================] - 0s 4ms/step - loss: 20.3864 - mae: 20.3864\n",
      "Epoch 31/100\n",
      "10/10 [==============================] - 0s 4ms/step - loss: 20.2864 - mae: 20.2864\n",
      "Epoch 32/100\n",
      "10/10 [==============================] - 0s 4ms/step - loss: 20.1864 - mae: 20.1864\n",
      "Epoch 33/100\n",
      "10/10 [==============================] - 0s 4ms/step - loss: 20.0864 - mae: 20.0864\n",
      "Epoch 34/100\n",
      "10/10 [==============================] - 0s 4ms/step - loss: 19.9864 - mae: 19.9864\n",
      "Epoch 35/100\n",
      "10/10 [==============================] - 0s 4ms/step - loss: 19.8864 - mae: 19.8864\n",
      "Epoch 36/100\n",
      "10/10 [==============================] - 0s 4ms/step - loss: 19.7864 - mae: 19.7864\n",
      "Epoch 37/100\n",
      "10/10 [==============================] - 0s 4ms/step - loss: 19.6864 - mae: 19.6864\n",
      "Epoch 38/100\n",
      "10/10 [==============================] - 0s 4ms/step - loss: 19.5864 - mae: 19.5864\n",
      "Epoch 39/100\n",
      "10/10 [==============================] - 0s 4ms/step - loss: 19.4864 - mae: 19.4864\n",
      "Epoch 40/100\n",
      "10/10 [==============================] - 0s 4ms/step - loss: 19.3864 - mae: 19.3864\n",
      "Epoch 41/100\n",
      "10/10 [==============================] - 0s 4ms/step - loss: 19.2864 - mae: 19.2864\n",
      "Epoch 42/100\n",
      "10/10 [==============================] - 0s 4ms/step - loss: 19.1864 - mae: 19.1864\n",
      "Epoch 43/100\n",
      "10/10 [==============================] - 0s 5ms/step - loss: 19.0864 - mae: 19.0864\n",
      "Epoch 44/100\n",
      "10/10 [==============================] - 0s 5ms/step - loss: 18.9864 - mae: 18.9864\n",
      "Epoch 45/100\n",
      "10/10 [==============================] - 0s 4ms/step - loss: 18.8864 - mae: 18.8864\n",
      "Epoch 46/100\n",
      "10/10 [==============================] - 0s 4ms/step - loss: 18.7864 - mae: 18.7864\n",
      "Epoch 47/100\n",
      "10/10 [==============================] - 0s 4ms/step - loss: 18.6864 - mae: 18.6864\n",
      "Epoch 48/100\n",
      "10/10 [==============================] - 0s 4ms/step - loss: 18.5864 - mae: 18.5864\n",
      "Epoch 49/100\n",
      "10/10 [==============================] - 0s 4ms/step - loss: 18.4864 - mae: 18.4864\n",
      "Epoch 50/100\n",
      "10/10 [==============================] - 0s 4ms/step - loss: 18.3864 - mae: 18.3864\n",
      "Epoch 51/100\n",
      "10/10 [==============================] - 0s 4ms/step - loss: 18.2863 - mae: 18.2863\n",
      "Epoch 52/100\n",
      "10/10 [==============================] - 0s 4ms/step - loss: 18.1863 - mae: 18.1863\n",
      "Epoch 53/100\n",
      "10/10 [==============================] - 0s 4ms/step - loss: 18.0863 - mae: 18.0863\n",
      "Epoch 54/100\n",
      "10/10 [==============================] - 0s 5ms/step - loss: 17.9863 - mae: 17.9863\n",
      "Epoch 55/100\n",
      "10/10 [==============================] - 0s 4ms/step - loss: 17.8863 - mae: 17.8863\n",
      "Epoch 56/100\n",
      "10/10 [==============================] - 0s 4ms/step - loss: 17.7863 - mae: 17.7863\n",
      "Epoch 57/100\n",
      "10/10 [==============================] - 0s 4ms/step - loss: 17.6863 - mae: 17.6863\n",
      "Epoch 58/100\n",
      "10/10 [==============================] - 0s 4ms/step - loss: 17.5863 - mae: 17.5863\n",
      "Epoch 59/100\n",
      "10/10 [==============================] - 0s 4ms/step - loss: 17.4863 - mae: 17.4863\n",
      "Epoch 60/100\n",
      "10/10 [==============================] - 0s 4ms/step - loss: 17.3863 - mae: 17.3863\n",
      "Epoch 61/100\n",
      "10/10 [==============================] - 0s 4ms/step - loss: 17.2863 - mae: 17.2863\n",
      "Epoch 62/100\n",
      "10/10 [==============================] - 0s 4ms/step - loss: 17.1863 - mae: 17.1863\n",
      "Epoch 63/100\n",
      "10/10 [==============================] - 0s 4ms/step - loss: 17.0863 - mae: 17.0863\n",
      "Epoch 64/100\n",
      "10/10 [==============================] - 0s 4ms/step - loss: 16.9863 - mae: 16.9863\n",
      "Epoch 65/100\n",
      "10/10 [==============================] - 0s 5ms/step - loss: 16.8863 - mae: 16.8863\n",
      "Epoch 66/100\n",
      "10/10 [==============================] - 0s 4ms/step - loss: 16.7863 - mae: 16.7863\n",
      "Epoch 67/100\n",
      "10/10 [==============================] - 0s 4ms/step - loss: 16.6863 - mae: 16.6863\n",
      "Epoch 68/100\n",
      "10/10 [==============================] - 0s 4ms/step - loss: 16.5863 - mae: 16.5863\n",
      "Epoch 69/100\n",
      "10/10 [==============================] - 0s 4ms/step - loss: 16.4863 - mae: 16.4863\n",
      "Epoch 70/100\n",
      "10/10 [==============================] - 0s 4ms/step - loss: 16.3863 - mae: 16.3863\n",
      "Epoch 71/100\n",
      "10/10 [==============================] - 0s 4ms/step - loss: 16.2863 - mae: 16.2863\n",
      "Epoch 72/100\n",
      "10/10 [==============================] - 0s 4ms/step - loss: 16.1863 - mae: 16.1863\n",
      "Epoch 73/100\n",
      "10/10 [==============================] - 0s 4ms/step - loss: 16.0863 - mae: 16.0863\n",
      "Epoch 74/100\n",
      "10/10 [==============================] - 0s 4ms/step - loss: 15.9863 - mae: 15.9863\n",
      "Epoch 75/100\n",
      "10/10 [==============================] - 0s 4ms/step - loss: 15.8863 - mae: 15.8863\n",
      "Epoch 76/100\n",
      "10/10 [==============================] - 0s 4ms/step - loss: 15.7863 - mae: 15.7863\n",
      "Epoch 77/100\n",
      "10/10 [==============================] - 0s 4ms/step - loss: 15.6863 - mae: 15.6863\n",
      "Epoch 78/100\n",
      "10/10 [==============================] - 0s 4ms/step - loss: 15.5863 - mae: 15.5863\n",
      "Epoch 79/100\n",
      "10/10 [==============================] - 0s 4ms/step - loss: 15.4863 - mae: 15.4863\n",
      "Epoch 80/100\n",
      "10/10 [==============================] - 0s 4ms/step - loss: 15.3863 - mae: 15.3863\n",
      "Epoch 81/100\n",
      "10/10 [==============================] - 0s 4ms/step - loss: 15.2863 - mae: 15.2863\n",
      "Epoch 82/100\n",
      "10/10 [==============================] - 0s 4ms/step - loss: 15.1863 - mae: 15.1863\n",
      "Epoch 83/100\n",
      "10/10 [==============================] - 0s 4ms/step - loss: 15.0863 - mae: 15.0863\n",
      "Epoch 84/100\n",
      "10/10 [==============================] - 0s 4ms/step - loss: 14.9863 - mae: 14.9863\n",
      "Epoch 85/100\n",
      "10/10 [==============================] - 0s 4ms/step - loss: 14.8863 - mae: 14.8863\n",
      "Epoch 86/100\n",
      "10/10 [==============================] - 0s 4ms/step - loss: 14.7863 - mae: 14.7863\n",
      "Epoch 87/100\n",
      "10/10 [==============================] - 0s 5ms/step - loss: 14.6863 - mae: 14.6863\n",
      "Epoch 88/100\n",
      "10/10 [==============================] - 0s 5ms/step - loss: 14.5863 - mae: 14.5863\n",
      "Epoch 89/100\n",
      "10/10 [==============================] - 0s 4ms/step - loss: 14.4863 - mae: 14.4863\n",
      "Epoch 90/100\n",
      "10/10 [==============================] - 0s 4ms/step - loss: 14.3863 - mae: 14.3863\n",
      "Epoch 91/100\n",
      "10/10 [==============================] - 0s 4ms/step - loss: 14.2863 - mae: 14.2863\n",
      "Epoch 92/100\n",
      "10/10 [==============================] - 0s 4ms/step - loss: 14.1863 - mae: 14.1863\n",
      "Epoch 93/100\n",
      "10/10 [==============================] - 0s 4ms/step - loss: 14.0863 - mae: 14.0863\n",
      "Epoch 94/100\n",
      "10/10 [==============================] - 0s 4ms/step - loss: 13.9863 - mae: 13.9863\n",
      "Epoch 95/100\n",
      "10/10 [==============================] - 0s 4ms/step - loss: 13.8862 - mae: 13.8862\n",
      "Epoch 96/100\n",
      "10/10 [==============================] - 0s 4ms/step - loss: 13.7862 - mae: 13.7862\n",
      "Epoch 97/100\n",
      "10/10 [==============================] - 0s 4ms/step - loss: 13.6862 - mae: 13.6862\n",
      "Epoch 98/100\n",
      "10/10 [==============================] - 0s 4ms/step - loss: 13.5862 - mae: 13.5862\n",
      "Epoch 99/100\n",
      "10/10 [==============================] - 0s 4ms/step - loss: 13.4862 - mae: 13.4862\n",
      "Epoch 100/100\n",
      "10/10 [==============================] - 0s 4ms/step - loss: 13.3862 - mae: 13.3862\n"
     ]
    },
    {
     "data": {
      "text/plain": "<Figure size 640x480 with 1 Axes>",
      "image/png": "[encoded data removed]"
     },
     "metadata": {},
     "output_type": "display_data"
    },
    {
     "name": "stdout",
     "output_type": "stream",
     "text": [
      "10/10 - 0s - loss: 13.3304 - mae: 13.3304 - 99ms/epoch - 10ms/step\n",
      "{'linear regression': [28.373809814453125, 28.373809814453125], 'multilinear regression': [35947.69140625, 35947.69140625], 'DNN': [13.330376625061035, 13.330376625061035]}\n"
     ]
    }
   ],
   "source": [
    "# fit the model\n",
    "model.fit(multilinear_features, train_labels, epochs=100, callbacks=[tensorboard_callback])\n",
    "\n",
    "# plot the evolution of the loss function\n",
    "plt.plot(model.history.history['loss'])\n",
    "plt.xlabel('Epochs')\n",
    "plt.ylabel('Loss')\n",
    "plt.show()\n",
    "\n",
    "# evaluate the model\n",
    "results['DNN'] = model.evaluate(multilinear_features, train_labels, verbose=2)\n",
    "\n",
    "# print the results\n",
    "print(results)"
   ],
   "metadata": {
    "collapsed": false,
    "ExecuteTime": {
     "start_time": "2023-04-14T11:50:43.681445Z",
     "end_time": "2023-04-14T11:50:48.621176Z"
    }
   }
  },
  {
   "cell_type": "markdown",
   "metadata": {
    "id": "lAMyVFvra5ZD"
   },
   "source": [
    "# 5. Logistic regression model "
   ]
  },
  {
   "cell_type": "markdown",
   "metadata": {
    "id": "tmXH4BwrgrT8"
   },
   "source": [
    "After having performed our model benchmark on a regression task, we will now address a binary classification task using a logistic regression model."
   ]
  },
  {
   "cell_type": "markdown",
   "metadata": {
    "id": "yVQ9Yn_lqlsZ"
   },
   "source": [
    "**Question 5.1**: let's start building a dataset suited for this classification task. From the variable `Cylinders`, build a new binary variable with a value of 0 for cylinders values inferior to 5, and 1 otherwise"
   ]
  },
  {
   "cell_type": "code",
   "execution_count": 313,
   "outputs": [],
   "source": [
    "# build a binary variable from the variable Cylinders\n",
    "binary_cylinders = np.where(train_features['Cylinders'] < 5, 0, 1)"
   ],
   "metadata": {
    "collapsed": false,
    "ExecuteTime": {
     "start_time": "2023-04-14T11:50:48.622136Z",
     "end_time": "2023-04-14T11:50:48.624220Z"
    }
   }
  },
  {
   "cell_type": "markdown",
   "metadata": {
    "id": "zFLPUjiHvLsb"
   },
   "source": [
    "**Question 5.2**: based on the neural network architecture of a linear regression model (part 2), build a neural network architecture performing a logistic regression model\n",
    "\n",
    "*tips : think about the neuron activation*"
   ]
  },
  {
   "cell_type": "code",
   "execution_count": 314,
   "outputs": [],
   "source": [
    "# build the model\n",
    "model = tf.keras.Sequential([\n",
    "    tf.keras.layers.Dense(units=1, activation='sigmoid')\n",
    "])\n"
   ],
   "metadata": {
    "collapsed": false,
    "ExecuteTime": {
     "start_time": "2023-04-14T11:50:48.626708Z",
     "end_time": "2023-04-14T11:50:48.628833Z"
    }
   }
  },
  {
   "cell_type": "markdown",
   "metadata": {
    "id": "lDxWnxsevxSE"
   },
   "source": [
    "**Question 5.3**: compile and fit your model with the proper [loss](https://keras.io/api/losses/), and visualize the evolutions of loss and accuracy metrics"
   ]
  },
  {
   "cell_type": "code",
   "execution_count": 315,
   "outputs": [
    {
     "name": "stdout",
     "output_type": "stream",
     "text": [
      "Epoch 1/100\n",
      "10/10 [==============================] - 0s 10ms/step - loss: 16.3212 - accuracy: 0.4682\n",
      "Epoch 2/100\n",
      "10/10 [==============================] - 0s 5ms/step - loss: 13.8059 - accuracy: 0.4936\n",
      "Epoch 3/100\n",
      "10/10 [==============================] - 0s 5ms/step - loss: 9.9181 - accuracy: 0.5510\n",
      "Epoch 4/100\n",
      "10/10 [==============================] - 0s 5ms/step - loss: 12.3568 - accuracy: 0.4809\n",
      "Epoch 5/100\n",
      "10/10 [==============================] - 0s 5ms/step - loss: 14.2561 - accuracy: 0.4682\n",
      "Epoch 6/100\n",
      "10/10 [==============================] - 0s 5ms/step - loss: 13.0974 - accuracy: 0.5000\n",
      "Epoch 7/100\n",
      "10/10 [==============================] - 0s 5ms/step - loss: 14.7182 - accuracy: 0.4745\n",
      "Epoch 8/100\n",
      "10/10 [==============================] - 0s 4ms/step - loss: 12.3568 - accuracy: 0.5064\n",
      "Epoch 9/100\n",
      "10/10 [==============================] - 0s 5ms/step - loss: 9.1541 - accuracy: 0.5191\n",
      "Epoch 10/100\n",
      "10/10 [==============================] - 0s 5ms/step - loss: 13.4144 - accuracy: 0.4936\n",
      "Epoch 11/100\n",
      "10/10 [==============================] - 0s 5ms/step - loss: 11.9605 - accuracy: 0.5064\n",
      "Epoch 12/100\n",
      "10/10 [==============================] - 0s 5ms/step - loss: 14.5842 - accuracy: 0.4618\n",
      "Epoch 13/100\n",
      "10/10 [==============================] - 0s 4ms/step - loss: 14.8725 - accuracy: 0.4682\n",
      "Epoch 14/100\n",
      "10/10 [==============================] - 0s 4ms/step - loss: 13.6028 - accuracy: 0.4809\n",
      "Epoch 15/100\n",
      "10/10 [==============================] - 0s 4ms/step - loss: 11.9854 - accuracy: 0.5191\n",
      "Epoch 16/100\n",
      "10/10 [==============================] - 0s 4ms/step - loss: 11.1501 - accuracy: 0.5446\n",
      "Epoch 17/100\n",
      "10/10 [==============================] - 0s 5ms/step - loss: 13.3740 - accuracy: 0.4873\n",
      "Epoch 18/100\n",
      "10/10 [==============================] - 0s 4ms/step - loss: 12.3331 - accuracy: 0.5064\n",
      "Epoch 19/100\n",
      "10/10 [==============================] - 0s 4ms/step - loss: 14.1006 - accuracy: 0.4745\n",
      "Epoch 20/100\n",
      "10/10 [==============================] - 0s 5ms/step - loss: 13.2154 - accuracy: 0.4873\n",
      "Epoch 21/100\n",
      "10/10 [==============================] - 0s 5ms/step - loss: 11.0689 - accuracy: 0.5064\n",
      "Epoch 22/100\n",
      "10/10 [==============================] - 0s 5ms/step - loss: 15.5604 - accuracy: 0.4682\n",
      "Epoch 23/100\n",
      "10/10 [==============================] - 0s 5ms/step - loss: 12.8513 - accuracy: 0.5127\n",
      "Epoch 24/100\n",
      "10/10 [==============================] - 0s 4ms/step - loss: 11.4754 - accuracy: 0.4936\n",
      "Epoch 25/100\n",
      "10/10 [==============================] - 0s 5ms/step - loss: 10.5698 - accuracy: 0.5510\n",
      "Epoch 26/100\n",
      "10/10 [==============================] - 0s 5ms/step - loss: 14.5046 - accuracy: 0.4873\n",
      "Epoch 27/100\n",
      "10/10 [==============================] - 0s 4ms/step - loss: 14.4428 - accuracy: 0.4873\n",
      "Epoch 28/100\n",
      "10/10 [==============================] - 0s 5ms/step - loss: 14.7088 - accuracy: 0.4682\n",
      "Epoch 29/100\n",
      "10/10 [==============================] - 0s 5ms/step - loss: 12.1409 - accuracy: 0.5255\n",
      "Epoch 30/100\n",
      "10/10 [==============================] - 0s 5ms/step - loss: 14.4851 - accuracy: 0.4554\n",
      "Epoch 31/100\n",
      "10/10 [==============================] - 0s 4ms/step - loss: 12.5632 - accuracy: 0.5255\n",
      "Epoch 32/100\n",
      "10/10 [==============================] - 0s 5ms/step - loss: 13.9940 - accuracy: 0.4873\n",
      "Epoch 33/100\n",
      "10/10 [==============================] - 0s 4ms/step - loss: 12.6627 - accuracy: 0.4777\n",
      "Epoch 34/100\n",
      "10/10 [==============================] - 0s 4ms/step - loss: 12.1256 - accuracy: 0.5064\n",
      "Epoch 35/100\n",
      "10/10 [==============================] - 0s 4ms/step - loss: 14.5795 - accuracy: 0.4682\n",
      "Epoch 36/100\n",
      "10/10 [==============================] - 0s 4ms/step - loss: 11.6348 - accuracy: 0.5255\n",
      "Epoch 37/100\n",
      "10/10 [==============================] - 0s 4ms/step - loss: 13.8731 - accuracy: 0.4618\n",
      "Epoch 38/100\n",
      "10/10 [==============================] - 0s 4ms/step - loss: 12.6706 - accuracy: 0.4936\n",
      "Epoch 39/100\n",
      "10/10 [==============================] - 0s 4ms/step - loss: 12.3632 - accuracy: 0.5318\n",
      "Epoch 40/100\n",
      "10/10 [==============================] - 0s 4ms/step - loss: 11.9477 - accuracy: 0.5318\n",
      "Epoch 41/100\n",
      "10/10 [==============================] - 0s 4ms/step - loss: 11.5476 - accuracy: 0.5064\n",
      "Epoch 42/100\n",
      "10/10 [==============================] - 0s 4ms/step - loss: 15.4584 - accuracy: 0.4618\n",
      "Epoch 43/100\n",
      "10/10 [==============================] - 0s 4ms/step - loss: 16.3787 - accuracy: 0.4490\n",
      "Epoch 44/100\n",
      "10/10 [==============================] - 0s 4ms/step - loss: 13.7897 - accuracy: 0.4682\n",
      "Epoch 45/100\n",
      "10/10 [==============================] - 0s 5ms/step - loss: 12.6886 - accuracy: 0.4809\n",
      "Epoch 46/100\n",
      "10/10 [==============================] - 0s 4ms/step - loss: 15.6011 - accuracy: 0.4682\n",
      "Epoch 47/100\n",
      "10/10 [==============================] - 0s 4ms/step - loss: 14.7289 - accuracy: 0.4873\n",
      "Epoch 48/100\n",
      "10/10 [==============================] - 0s 4ms/step - loss: 15.3255 - accuracy: 0.4490\n",
      "Epoch 49/100\n",
      "10/10 [==============================] - 0s 4ms/step - loss: 12.2118 - accuracy: 0.4618\n",
      "Epoch 50/100\n",
      "10/10 [==============================] - 0s 5ms/step - loss: 15.9334 - accuracy: 0.4682\n",
      "Epoch 51/100\n",
      "10/10 [==============================] - 0s 5ms/step - loss: 15.0973 - accuracy: 0.4682\n",
      "Epoch 52/100\n",
      "10/10 [==============================] - 0s 5ms/step - loss: 11.0264 - accuracy: 0.5382\n",
      "Epoch 53/100\n",
      "10/10 [==============================] - 0s 5ms/step - loss: 16.6000 - accuracy: 0.4427\n",
      "Epoch 54/100\n",
      "10/10 [==============================] - 0s 4ms/step - loss: 10.1969 - accuracy: 0.5127\n",
      "Epoch 55/100\n",
      "10/10 [==============================] - 0s 5ms/step - loss: 12.6739 - accuracy: 0.5127\n",
      "Epoch 56/100\n",
      "10/10 [==============================] - 0s 4ms/step - loss: 13.6248 - accuracy: 0.4873\n",
      "Epoch 57/100\n",
      "10/10 [==============================] - 0s 4ms/step - loss: 12.5136 - accuracy: 0.5000\n",
      "Epoch 58/100\n",
      "10/10 [==============================] - 0s 4ms/step - loss: 14.4211 - accuracy: 0.4936\n",
      "Epoch 59/100\n",
      "10/10 [==============================] - 0s 4ms/step - loss: 13.5473 - accuracy: 0.4936\n",
      "Epoch 60/100\n",
      "10/10 [==============================] - 0s 4ms/step - loss: 14.1010 - accuracy: 0.4682\n",
      "Epoch 61/100\n",
      "10/10 [==============================] - 0s 4ms/step - loss: 12.4708 - accuracy: 0.4936\n",
      "Epoch 62/100\n",
      "10/10 [==============================] - 0s 4ms/step - loss: 15.0635 - accuracy: 0.4682\n",
      "Epoch 63/100\n",
      "10/10 [==============================] - 0s 5ms/step - loss: 12.0088 - accuracy: 0.5318\n",
      "Epoch 64/100\n",
      "10/10 [==============================] - 0s 4ms/step - loss: 11.8552 - accuracy: 0.5191\n",
      "Epoch 65/100\n",
      "10/10 [==============================] - 0s 5ms/step - loss: 10.3075 - accuracy: 0.4936\n",
      "Epoch 66/100\n",
      "10/10 [==============================] - 0s 4ms/step - loss: 11.6587 - accuracy: 0.5318\n",
      "Epoch 67/100\n",
      "10/10 [==============================] - 0s 5ms/step - loss: 12.4000 - accuracy: 0.5000\n",
      "Epoch 68/100\n",
      "10/10 [==============================] - 0s 5ms/step - loss: 12.1332 - accuracy: 0.5191\n",
      "Epoch 69/100\n",
      "10/10 [==============================] - 0s 4ms/step - loss: 14.4989 - accuracy: 0.4618\n",
      "Epoch 70/100\n",
      "10/10 [==============================] - 0s 5ms/step - loss: 12.9477 - accuracy: 0.5064\n",
      "Epoch 71/100\n",
      "10/10 [==============================] - 0s 4ms/step - loss: 10.2614 - accuracy: 0.5382\n",
      "Epoch 72/100\n",
      "10/10 [==============================] - 0s 4ms/step - loss: 14.6161 - accuracy: 0.4490\n",
      "Epoch 73/100\n",
      "10/10 [==============================] - 0s 5ms/step - loss: 10.7003 - accuracy: 0.5318\n",
      "Epoch 74/100\n",
      "10/10 [==============================] - 0s 4ms/step - loss: 13.3384 - accuracy: 0.4873\n",
      "Epoch 75/100\n",
      "10/10 [==============================] - 0s 5ms/step - loss: 14.2217 - accuracy: 0.4618\n",
      "Epoch 76/100\n",
      "10/10 [==============================] - 0s 5ms/step - loss: 13.4226 - accuracy: 0.5127\n",
      "Epoch 77/100\n",
      "10/10 [==============================] - 0s 4ms/step - loss: 11.7723 - accuracy: 0.5191\n",
      "Epoch 78/100\n",
      "10/10 [==============================] - 0s 4ms/step - loss: 13.0383 - accuracy: 0.4618\n",
      "Epoch 79/100\n",
      "10/10 [==============================] - 0s 5ms/step - loss: 16.5111 - accuracy: 0.4554\n",
      "Epoch 80/100\n",
      "10/10 [==============================] - 0s 5ms/step - loss: 11.7725 - accuracy: 0.5318\n",
      "Epoch 81/100\n",
      "10/10 [==============================] - 0s 5ms/step - loss: 9.1505 - accuracy: 0.5510\n",
      "Epoch 82/100\n",
      "10/10 [==============================] - 0s 5ms/step - loss: 13.0424 - accuracy: 0.4873\n",
      "Epoch 83/100\n",
      "10/10 [==============================] - 0s 4ms/step - loss: 13.9363 - accuracy: 0.4936\n",
      "Epoch 84/100\n",
      "10/10 [==============================] - 0s 5ms/step - loss: 15.4035 - accuracy: 0.4618\n",
      "Epoch 85/100\n",
      "10/10 [==============================] - 0s 4ms/step - loss: 12.4572 - accuracy: 0.5064\n",
      "Epoch 86/100\n",
      "10/10 [==============================] - 0s 5ms/step - loss: 12.5725 - accuracy: 0.5000\n",
      "Epoch 87/100\n",
      "10/10 [==============================] - 0s 4ms/step - loss: 13.9675 - accuracy: 0.4936\n",
      "Epoch 88/100\n",
      "10/10 [==============================] - 0s 5ms/step - loss: 13.6041 - accuracy: 0.4618\n",
      "Epoch 89/100\n",
      "10/10 [==============================] - 0s 4ms/step - loss: 15.3461 - accuracy: 0.4682\n",
      "Epoch 90/100\n",
      "10/10 [==============================] - 0s 4ms/step - loss: 11.2061 - accuracy: 0.5191\n",
      "Epoch 91/100\n",
      "10/10 [==============================] - 0s 5ms/step - loss: 11.0539 - accuracy: 0.4936\n",
      "Epoch 92/100\n",
      "10/10 [==============================] - 0s 4ms/step - loss: 15.2079 - accuracy: 0.4745\n",
      "Epoch 93/100\n",
      "10/10 [==============================] - 0s 4ms/step - loss: 14.5840 - accuracy: 0.4809\n",
      "Epoch 94/100\n",
      "10/10 [==============================] - 0s 5ms/step - loss: 10.9048 - accuracy: 0.5223\n",
      "Epoch 95/100\n",
      "10/10 [==============================] - 0s 5ms/step - loss: 13.2302 - accuracy: 0.4936\n",
      "Epoch 96/100\n",
      "10/10 [==============================] - 0s 4ms/step - loss: 13.2189 - accuracy: 0.4745\n",
      "Epoch 97/100\n",
      "10/10 [==============================] - 0s 4ms/step - loss: 11.0508 - accuracy: 0.5223\n",
      "Epoch 98/100\n",
      "10/10 [==============================] - 0s 4ms/step - loss: 12.7488 - accuracy: 0.4936\n",
      "Epoch 99/100\n",
      "10/10 [==============================] - 0s 5ms/step - loss: 12.3847 - accuracy: 0.5064\n",
      "Epoch 100/100\n",
      "10/10 [==============================] - 0s 4ms/step - loss: 15.3173 - accuracy: 0.4554\n"
     ]
    },
    {
     "data": {
      "text/plain": "<Figure size 640x480 with 1 Axes>",
      "image/png": "[encoded data removed]"
     },
     "metadata": {},
     "output_type": "display_data"
    },
    {
     "name": "stdout",
     "output_type": "stream",
     "text": [
      "10/10 - 0s - loss: 17.8507 - accuracy: 0.4873 - 130ms/epoch - 13ms/step\n",
      "{'linear regression': [28.373809814453125, 28.373809814453125], 'multilinear regression': [35947.69140625, 35947.69140625], 'DNN': [13.330376625061035, 13.330376625061035], 'logistic regression': [17.850717544555664, 0.4872611463069916]}\n"
     ]
    }
   ],
   "source": [
    "# compile the model\n",
    "model.compile(optimizer='sgd',\n",
    "              loss='binary_crossentropy',\n",
    "              metrics=['accuracy'])\n",
    "\n",
    "# fit the model\n",
    "model.fit(horsepower, binary_cylinders, epochs=100, callbacks=[tensorboard_callback])\n",
    "\n",
    "# plot the evolution of the loss function\n",
    "plt.plot(model.history.history['loss'])\n",
    "plt.xlabel('Epochs')\n",
    "plt.ylabel('Loss')\n",
    "plt.show()\n",
    "\n",
    "# evaluate the model\n",
    "results['logistic regression'] = model.evaluate(horsepower, binary_cylinders, verbose=2)\n",
    "\n",
    "# print the results\n",
    "print(results)"
   ],
   "metadata": {
    "collapsed": false,
    "ExecuteTime": {
     "start_time": "2023-04-14T11:50:48.632405Z",
     "end_time": "2023-04-14T11:50:53.844457Z"
    }
   }
  },
  {
   "cell_type": "markdown",
   "metadata": {
    "id": "e-yZ4AkcuY_5"
   },
   "source": [
    "# 6. Visualizing model graphs with tensorboard (optional)"
   ]
  },
  {
   "cell_type": "code",
   "execution_count": 316,
   "outputs": [],
   "source": [
    "#%load_ext tensorboard"
   ],
   "metadata": {
    "collapsed": false,
    "ExecuteTime": {
     "start_time": "2023-04-14T11:50:53.846608Z",
     "end_time": "2023-04-14T11:50:53.851467Z"
    }
   }
  },
  {
   "cell_type": "markdown",
   "metadata": {
    "id": "tDGN-mlwuiC2"
   },
   "source": [
    "**Question 6:** use [tensorboard](https://www.tensorflow.org/tensorboard/graphs) to examine the graph of your last model"
   ]
  },
  {
   "cell_type": "code",
   "execution_count": 317,
   "outputs": [],
   "source": [
    "#%tensorboard --logdir logs"
   ],
   "metadata": {
    "collapsed": false,
    "ExecuteTime": {
     "start_time": "2023-04-14T11:50:53.850385Z",
     "end_time": "2023-04-14T11:50:53.852718Z"
    }
   }
  },
  {
   "cell_type": "code",
   "execution_count": 317,
   "outputs": [],
   "source": [],
   "metadata": {
    "collapsed": false,
    "ExecuteTime": {
     "start_time": "2023-04-14T11:50:53.854063Z",
     "end_time": "2023-04-14T11:50:53.855270Z"
    }
   }
  }
 ],
 "metadata": {
  "@webio": {
   "lastCommId": null,
   "lastKernelId": null
  },
  "colab": {
   "collapsed_sections": [
    "Sd23-3AbPiwF",
    "DNquB6IzUH1c",
    "KQS0eklsW9cd",
    "kpcYeLok5xZM",
    "lAMyVFvra5ZD",
    "e-yZ4AkcuY_5"
   ],
   "name": "TP4.ipynb",
   "provenance": []
  },
  "kernelspec": {
   "display_name": "Python 3",
   "language": "python",
   "name": "python3"
  },
  "language_info": {
   "codemirror_mode": {
    "name": "ipython",
    "version": 3
   },
   "file_extension": ".py",
   "mimetype": "text/x-python",
   "name": "python",
   "nbconvert_exporter": "python",
   "pygments_lexer": "ipython3",
   "version": "3.8.8"
  }
 },
 "nbformat": 4,
 "nbformat_minor": 1
}
