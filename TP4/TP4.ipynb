{
 "cells": [
  {
   "cell_type": "markdown",
   "metadata": {
    "id": "8HyF889xO8fp"
   },
   "source": [
    "# **TP4 : premiers vers les réseaux de neurones profonds**\n"
   ]
  },
  {
   "cell_type": "markdown",
   "metadata": {
    "id": "sWOuGHYGPKwC"
   },
   "source": [
    "# Context & Objectives\n",
    "\n",
    "In this TP, we propose to reformulate linear and logistic regression models as one-layered neural networks, and implement them in [Tensorflow](https://www.tensorflow.org/?hl=fr). We will also benchmark performance of several models, from a simple linear regression to a fully-connected deep learning model. \n",
    "\n"
   ]
  },
  {
   "cell_type": "markdown",
   "metadata": {
    "id": "A7jkmmFUgsGg"
   },
   "source": [
    "We will be using the AUTO-MPG dataset, downloaded as follows:"
   ]
  },
  {
   "cell_type": "code",
   "execution_count": 1,
   "metadata": {
    "ExecuteTime": {
     "start_time": "2023-04-14T11:53:45.254855Z",
     "end_time": "2023-04-14T11:53:45.394790Z"
    }
   },
   "outputs": [],
   "source": [
    "import matplotlib.pyplot as plt\n",
    "import numpy as np\n",
    "import pandas as pd\n",
    "import seaborn as sns"
   ]
  },
  {
   "cell_type": "code",
   "execution_count": 2,
   "metadata": {
    "ExecuteTime": {
     "start_time": "2023-04-14T11:53:45.259272Z",
     "end_time": "2023-04-14T11:53:47.348556Z"
    }
   },
   "outputs": [],
   "source": [
    "import tensorflow as tf"
   ]
  },
  {
   "cell_type": "code",
   "execution_count": 3,
   "metadata": {
    "ExecuteTime": {
     "start_time": "2023-04-14T11:53:47.349578Z",
     "end_time": "2023-04-14T11:53:47.351611Z"
    }
   },
   "outputs": [
    {
     "name": "stdout",
     "output_type": "stream",
     "text": [
      "2.12.0\n"
     ]
    }
   ],
   "source": [
    "from tensorflow import keras\n",
    "from tensorflow.keras import layers\n",
    "\n",
    "print(tf.__version__)"
   ]
  },
  {
   "cell_type": "code",
   "execution_count": 4,
   "metadata": {
    "colab": {
     "base_uri": "https://localhost:8080/"
    },
    "id": "pyxsY7VtFGqV",
    "outputId": "f969fe83-04e2-49da-edd5-c787a040e41a",
    "ExecuteTime": {
     "start_time": "2023-04-14T11:53:47.354070Z",
     "end_time": "2023-04-14T11:53:47.477723Z"
    }
   },
   "outputs": [
    {
     "name": "stdout",
     "output_type": "stream",
     "text": [
      "TensorFlow version:  2.12.0\n"
     ]
    }
   ],
   "source": [
    "# Load the TensorBoard notebook extension.\n",
    "%load_ext tensorboard\n",
    "\n",
    "from datetime import datetime\n",
    "from packaging import version\n",
    "\n",
    "import tensorflow as tf\n",
    "from tensorflow import keras\n",
    "\n",
    "print(\"TensorFlow version: \", tf.__version__)\n",
    "assert version.parse(tf.__version__).release[0] >= 2, \\\n",
    "    \"This notebook requires TensorFlow 2.0 or above.\"\n",
    "\n",
    "import tensorboard\n",
    "tensorboard.__version__\n",
    "\n",
    "# Clear any logs from previous runs\n",
    "! rm -rf ./logs/\n",
    "\n",
    "# Define the Keras TensorBoard callback.\n",
    "logdir=\"logs/fit/\" + datetime.now().strftime(\"%Y%m%d-%H%M%S\")\n",
    "tensorboard_callback = keras.callbacks.TensorBoard(log_dir=logdir)"
   ]
  },
  {
   "cell_type": "code",
   "execution_count": 5,
   "metadata": {
    "colab": {
     "base_uri": "https://localhost:8080/"
    },
    "id": "2wucxMaUv5q2",
    "outputId": "c5c28d6f-721f-47db-9762-b8337a02e5f8",
    "ExecuteTime": {
     "start_time": "2023-04-14T11:53:47.477939Z",
     "end_time": "2023-04-14T11:53:48.033840Z"
    }
   },
   "outputs": [
    {
     "data": {
      "text/plain": "(398, 8)"
     },
     "execution_count": 5,
     "metadata": {},
     "output_type": "execute_result"
    }
   ],
   "source": [
    "url = 'http://archive.ics.uci.edu/ml/machine-learning-databases/auto-mpg/auto-mpg.data'\n",
    "column_names = ['MPG', 'Cylinders', 'Displacement', 'Horsepower', 'Weight',\n",
    "                'Acceleration', 'Model Year', 'Origin']\n",
    "\n",
    "raw_dataset = pd.read_csv(url, names=column_names,\n",
    "                          na_values='?', comment='\\t',\n",
    "                          sep=' ', skipinitialspace=True)\n",
    "\n",
    "dataset = raw_dataset.copy()\n",
    "\n",
    "dataset.tail()\n",
    "dataset.shape"
   ]
  },
  {
   "cell_type": "code",
   "execution_count": 6,
   "metadata": {
    "colab": {
     "base_uri": "https://localhost:8080/",
     "height": 300
    },
    "id": "SvIvpsIlL1F2",
    "outputId": "07880236-086f-4382-b5a1-318f921a99be",
    "ExecuteTime": {
     "start_time": "2023-04-14T11:53:48.039286Z",
     "end_time": "2023-04-14T11:53:48.047736Z"
    }
   },
   "outputs": [
    {
     "data": {
      "text/plain": "                     mean         std\nMPG             23.514573    7.815984\nCylinders        5.454774    1.701004\nDisplacement   193.425879  104.269838\nHorsepower     104.469388   38.491160\nWeight        2970.424623  846.841774\nAcceleration    15.568090    2.757689\nModel Year      76.010050    3.697627\nOrigin           1.572864    0.802055",
      "text/html": "<div>\n<style scoped>\n    .dataframe tbody tr th:only-of-type {\n        vertical-align: middle;\n    }\n\n    .dataframe tbody tr th {\n        vertical-align: top;\n    }\n\n    .dataframe thead th {\n        text-align: right;\n    }\n</style>\n<table border=\"1\" class=\"dataframe\">\n  <thead>\n    <tr style=\"text-align: right;\">\n      <th></th>\n      <th>mean</th>\n      <th>std</th>\n    </tr>\n  </thead>\n  <tbody>\n    <tr>\n      <th>MPG</th>\n      <td>23.514573</td>\n      <td>7.815984</td>\n    </tr>\n    <tr>\n      <th>Cylinders</th>\n      <td>5.454774</td>\n      <td>1.701004</td>\n    </tr>\n    <tr>\n      <th>Displacement</th>\n      <td>193.425879</td>\n      <td>104.269838</td>\n    </tr>\n    <tr>\n      <th>Horsepower</th>\n      <td>104.469388</td>\n      <td>38.491160</td>\n    </tr>\n    <tr>\n      <th>Weight</th>\n      <td>2970.424623</td>\n      <td>846.841774</td>\n    </tr>\n    <tr>\n      <th>Acceleration</th>\n      <td>15.568090</td>\n      <td>2.757689</td>\n    </tr>\n    <tr>\n      <th>Model Year</th>\n      <td>76.010050</td>\n      <td>3.697627</td>\n    </tr>\n    <tr>\n      <th>Origin</th>\n      <td>1.572864</td>\n      <td>0.802055</td>\n    </tr>\n  </tbody>\n</table>\n</div>"
     },
     "execution_count": 6,
     "metadata": {},
     "output_type": "execute_result"
    }
   ],
   "source": [
    "dataset.describe().T[['mean', 'std']]"
   ]
  },
  {
   "cell_type": "markdown",
   "metadata": {
    "id": "Sd23-3AbPiwF"
   },
   "source": [
    "# 1. Dataset preparation"
   ]
  },
  {
   "cell_type": "markdown",
   "metadata": {
    "id": "HGCf5x85Pmyx"
   },
   "source": [
    "**Question 1.1 (BONUS, the solution is given..)** : using the pandas library, count and remove all NaN values. Also, the variable `Origin` refers to different countries, ie 1, 2 and 3 correspond to the country names 'USA', 'Europe' and 'Japan'. Replace these numerical values by these names. One-hot encode these values with [pd.get_dummies](https://pandas.pydata.org/docs/reference/api/pandas.get_dummies.html).\n"
   ]
  },
  {
   "cell_type": "code",
   "execution_count": 7,
   "metadata": {
    "colab": {
     "base_uri": "https://localhost:8080/",
     "height": 423
    },
    "id": "BW20Tv4NP3WP",
    "outputId": "93cc4b39-a682-4f65-e438-821209009580",
    "ExecuteTime": {
     "start_time": "2023-04-14T11:53:48.049448Z",
     "end_time": "2023-04-14T11:53:48.075773Z"
    }
   },
   "outputs": [
    {
     "data": {
      "text/plain": "     Europe  Japan    USA\n0     False  False   True\n1     False  False   True\n2     False  False   True\n3     False  False   True\n4     False  False   True\n..      ...    ...    ...\n393   False  False   True\n394    True  False  False\n395   False  False   True\n396   False  False   True\n397   False  False   True\n\n[398 rows x 3 columns]",
      "text/html": "<div>\n<style scoped>\n    .dataframe tbody tr th:only-of-type {\n        vertical-align: middle;\n    }\n\n    .dataframe tbody tr th {\n        vertical-align: top;\n    }\n\n    .dataframe thead th {\n        text-align: right;\n    }\n</style>\n<table border=\"1\" class=\"dataframe\">\n  <thead>\n    <tr style=\"text-align: right;\">\n      <th></th>\n      <th>Europe</th>\n      <th>Japan</th>\n      <th>USA</th>\n    </tr>\n  </thead>\n  <tbody>\n    <tr>\n      <th>0</th>\n      <td>False</td>\n      <td>False</td>\n      <td>True</td>\n    </tr>\n    <tr>\n      <th>1</th>\n      <td>False</td>\n      <td>False</td>\n      <td>True</td>\n    </tr>\n    <tr>\n      <th>2</th>\n      <td>False</td>\n      <td>False</td>\n      <td>True</td>\n    </tr>\n    <tr>\n      <th>3</th>\n      <td>False</td>\n      <td>False</td>\n      <td>True</td>\n    </tr>\n    <tr>\n      <th>4</th>\n      <td>False</td>\n      <td>False</td>\n      <td>True</td>\n    </tr>\n    <tr>\n      <th>...</th>\n      <td>...</td>\n      <td>...</td>\n      <td>...</td>\n    </tr>\n    <tr>\n      <th>393</th>\n      <td>False</td>\n      <td>False</td>\n      <td>True</td>\n    </tr>\n    <tr>\n      <th>394</th>\n      <td>True</td>\n      <td>False</td>\n      <td>False</td>\n    </tr>\n    <tr>\n      <th>395</th>\n      <td>False</td>\n      <td>False</td>\n      <td>True</td>\n    </tr>\n    <tr>\n      <th>396</th>\n      <td>False</td>\n      <td>False</td>\n      <td>True</td>\n    </tr>\n    <tr>\n      <th>397</th>\n      <td>False</td>\n      <td>False</td>\n      <td>True</td>\n    </tr>\n  </tbody>\n</table>\n<p>398 rows × 3 columns</p>\n</div>"
     },
     "execution_count": 7,
     "metadata": {},
     "output_type": "execute_result"
    }
   ],
   "source": [
    "# here is what a one-hot encoding looks like\n",
    "pd.get_dummies(dataset['Origin'].map({1: 'USA', 2: 'Europe', 3: 'Japan'}), columns=['Origin'], prefix='', prefix_sep='')"
   ]
  },
  {
   "cell_type": "code",
   "execution_count": 8,
   "metadata": {
    "colab": {
     "base_uri": "https://localhost:8080/"
    },
    "id": "E2_2l-4GQdVl",
    "outputId": "91610831-f2c6-4cef-d854-ac3402a02261",
    "ExecuteTime": {
     "start_time": "2023-04-14T11:53:48.057550Z",
     "end_time": "2023-04-14T11:53:48.119977Z"
    }
   },
   "outputs": [
    {
     "data": {
      "text/plain": "      MPG  Cylinders  Displacement  Horsepower  Weight  Acceleration   \n393  27.0          4         140.0        86.0  2790.0          15.6  \\\n394  44.0          4          97.0        52.0  2130.0          24.6   \n395  32.0          4         135.0        84.0  2295.0          11.6   \n396  28.0          4         120.0        79.0  2625.0          18.6   \n397  31.0          4         119.0        82.0  2720.0          19.4   \n\n     Model Year  Europe  Japan    USA  \n393          82   False  False   True  \n394          82    True  False  False  \n395          82   False  False   True  \n396          82   False  False   True  \n397          82   False  False   True  ",
      "text/html": "<div>\n<style scoped>\n    .dataframe tbody tr th:only-of-type {\n        vertical-align: middle;\n    }\n\n    .dataframe tbody tr th {\n        vertical-align: top;\n    }\n\n    .dataframe thead th {\n        text-align: right;\n    }\n</style>\n<table border=\"1\" class=\"dataframe\">\n  <thead>\n    <tr style=\"text-align: right;\">\n      <th></th>\n      <th>MPG</th>\n      <th>Cylinders</th>\n      <th>Displacement</th>\n      <th>Horsepower</th>\n      <th>Weight</th>\n      <th>Acceleration</th>\n      <th>Model Year</th>\n      <th>Europe</th>\n      <th>Japan</th>\n      <th>USA</th>\n    </tr>\n  </thead>\n  <tbody>\n    <tr>\n      <th>393</th>\n      <td>27.0</td>\n      <td>4</td>\n      <td>140.0</td>\n      <td>86.0</td>\n      <td>2790.0</td>\n      <td>15.6</td>\n      <td>82</td>\n      <td>False</td>\n      <td>False</td>\n      <td>True</td>\n    </tr>\n    <tr>\n      <th>394</th>\n      <td>44.0</td>\n      <td>4</td>\n      <td>97.0</td>\n      <td>52.0</td>\n      <td>2130.0</td>\n      <td>24.6</td>\n      <td>82</td>\n      <td>True</td>\n      <td>False</td>\n      <td>False</td>\n    </tr>\n    <tr>\n      <th>395</th>\n      <td>32.0</td>\n      <td>4</td>\n      <td>135.0</td>\n      <td>84.0</td>\n      <td>2295.0</td>\n      <td>11.6</td>\n      <td>82</td>\n      <td>False</td>\n      <td>False</td>\n      <td>True</td>\n    </tr>\n    <tr>\n      <th>396</th>\n      <td>28.0</td>\n      <td>4</td>\n      <td>120.0</td>\n      <td>79.0</td>\n      <td>2625.0</td>\n      <td>18.6</td>\n      <td>82</td>\n      <td>False</td>\n      <td>False</td>\n      <td>True</td>\n    </tr>\n    <tr>\n      <th>397</th>\n      <td>31.0</td>\n      <td>4</td>\n      <td>119.0</td>\n      <td>82.0</td>\n      <td>2720.0</td>\n      <td>19.4</td>\n      <td>82</td>\n      <td>False</td>\n      <td>False</td>\n      <td>True</td>\n    </tr>\n  </tbody>\n</table>\n</div>"
     },
     "execution_count": 8,
     "metadata": {},
     "output_type": "execute_result"
    }
   ],
   "source": [
    "# just count the number of nans in the dataset\n",
    "number_nans = dataset.isna().sum()\n",
    "\n",
    "# remove all rows containing at least one nan\n",
    "dataset = dataset.dropna()\n",
    "\n",
    "# write the names of countries in the variable Origin\n",
    "dataset['Origin'] = dataset['Origin'].map({1: 'USA', 2: 'Europe', 3: 'Japan'})\n",
    "\n",
    "# one-hot encode the variable Origin\n",
    "dataset = pd.get_dummies(dataset, columns=['Origin'], prefix='', prefix_sep='')\n",
    "dataset.tail()"
   ]
  },
  {
   "cell_type": "markdown",
   "metadata": {
    "id": "1g30X5nyRLO2"
   },
   "source": [
    "**Question 1.2 (BONUS, the solution is given..)** : create the train/test partition with a ratio of 0.8/0.2, using the variable `MPG` as label vector.\n",
    "\n",
    "*tips : to keep working with pandas objects, you can use the [`sample`](https://pandas.pydata.org/pandas-docs/stable/reference/api/pandas.DataFrame.sample.html) method*"
   ]
  },
  {
   "cell_type": "code",
   "execution_count": 9,
   "metadata": {
    "id": "yZuspU7zB366",
    "ExecuteTime": {
     "start_time": "2023-04-14T11:53:48.065551Z",
     "end_time": "2023-04-14T11:53:48.120116Z"
    }
   },
   "outputs": [],
   "source": [
    "train_dataset = dataset.sample(frac=0.8, random_state=0)\n",
    "test_dataset = dataset.drop(train_dataset.index)\n",
    "\n",
    "train_features = train_dataset.copy()\n",
    "test_features = test_dataset.copy()\n",
    "\n",
    "train_labels = train_features.pop('MPG') # this will define train_labels as the column MPG of train_features while removing this column in train_features\n",
    "test_labels = test_features.pop('MPG')"
   ]
  },
  {
   "cell_type": "markdown",
   "metadata": {
    "id": "mQ1UnRr-S6v6"
   },
   "source": [
    "**Question 1.3**: create a numpy array `X` by normalizing your training features using [`tf.keras.layers.Normalization`](https://www.tensorflow.org/api_docs/python/tf/keras/layers/Normalization)\n",
    "\n",
    "In the following, we will not use this variable as this normalization will directly take the form of a neural network layer."
   ]
  },
  {
   "cell_type": "code",
   "execution_count": 10,
   "outputs": [
    {
     "name": "stdout",
     "output_type": "stream",
     "text": [
      "Metal device set to: Apple M1\n"
     ]
    },
    {
     "name": "stderr",
     "output_type": "stream",
     "text": [
      "2023-04-14 11:53:48.106733: W tensorflow/tsl/platform/profile_utils/cpu_utils.cc:128] Failed to get CPU frequency: 0 Hz\n"
     ]
    }
   ],
   "source": [
    "# normalize the training features\n",
    "X = train_features.copy()\n",
    "normalizer = tf.keras.layers.Normalization()\n",
    "normalizer.adapt(np.array(X['Horsepower'])[:,np.newaxis])"
   ],
   "metadata": {
    "collapsed": false,
    "ExecuteTime": {
     "start_time": "2023-04-14T11:53:48.070609Z",
     "end_time": "2023-04-14T11:53:48.257591Z"
    }
   }
  },
  {
   "cell_type": "markdown",
   "metadata": {
    "id": "DNquB6IzUH1c"
   },
   "source": [
    "# 2. Linear regression model (using a neural network)\n",
    "\n"
   ]
  },
  {
   "cell_type": "markdown",
   "metadata": {
    "id": "YKdVUjuCUfNs"
   },
   "source": [
    "In this section we will try to predict the variable `MPG` with the single predictive variable `Horsepower`\n",
    "\n"
   ]
  },
  {
   "cell_type": "code",
   "execution_count": 11,
   "metadata": {
    "id": "DQvzwG6YUeLt",
    "ExecuteTime": {
     "start_time": "2023-04-14T11:53:48.258996Z",
     "end_time": "2023-04-14T11:53:48.260441Z"
    }
   },
   "outputs": [],
   "source": [
    "horsepower = np.array(train_features['Horsepower'])[:,np.newaxis]"
   ]
  },
  {
   "cell_type": "markdown",
   "metadata": {
    "id": "xlUrB-Y-Uawy"
   },
   "source": [
    "**Question 2.1**: build a neural network architecture for a linear regression using the `tf.keras.Sequential` tool. Re-use [`tf.keras.layers.Normalization`](https://www.tensorflow.org/api_docs/python/tf/keras/layers/Normalization) to integrate your normalization to the architecture. Visualize the model with the `summary()` method and comment output shapes and numbers of parameters."
   ]
  },
  {
   "cell_type": "code",
   "execution_count": 12,
   "outputs": [
    {
     "name": "stdout",
     "output_type": "stream",
     "text": [
      "Model: \"sequential\"\n",
      "_________________________________________________________________\n",
      " Layer (type)                Output Shape              Param #   \n",
      "=================================================================\n",
      " normalization_1 (Normalizat  (None, 1)                3         \n",
      " ion)                                                            \n",
      "                                                                 \n",
      " dense (Dense)               (None, 1)                 2         \n",
      "                                                                 \n",
      "=================================================================\n",
      "Total params: 5\n",
      "Trainable params: 2\n",
      "Non-trainable params: 3\n",
      "_________________________________________________________________\n"
     ]
    }
   ],
   "source": [
    "# build the model\n",
    "model = tf.keras.Sequential([\n",
    "    tf.keras.layers.Normalization(),\n",
    "    tf.keras.layers.Dense(units=1)\n",
    "])\n",
    "model.build(input_shape=(None, 1))\n",
    "\n",
    "# visualize the model\n",
    "model.summary()"
   ],
   "metadata": {
    "collapsed": false,
    "ExecuteTime": {
     "start_time": "2023-04-14T11:53:48.264202Z",
     "end_time": "2023-04-14T11:53:48.299263Z"
    }
   }
  },
  {
   "cell_type": "markdown",
   "metadata": {
    "id": "g0yC_qQ4VWov"
   },
   "source": [
    "**Question 2.2**: [compile](https://www.tensorflow.org/api_docs/python/tf/keras/Model#compile) the model using a Stochastic Gradient Descent optimizer and a Mean Absolute Error both as loss and accuracy metric. [Fit](https://www.tensorflow.org/api_docs/python/tf/keras/Model#fit) it to your data."
   ]
  },
  {
   "cell_type": "code",
   "execution_count": 13,
   "outputs": [
    {
     "name": "stdout",
     "output_type": "stream",
     "text": [
      "Epoch 1/100\n",
      "10/10 [==============================] - 0s 6ms/step - loss: 50.7935 - mae: 50.7935\n",
      "Epoch 2/100\n",
      "10/10 [==============================] - 0s 6ms/step - loss: 46.9554 - mae: 46.9554\n",
      "Epoch 3/100\n",
      "10/10 [==============================] - 0s 5ms/step - loss: 54.5061 - mae: 54.5061\n",
      "Epoch 4/100\n",
      "10/10 [==============================] - 0s 4ms/step - loss: 54.9874 - mae: 54.9874\n",
      "Epoch 5/100\n",
      "10/10 [==============================] - 0s 5ms/step - loss: 48.9641 - mae: 48.9641\n",
      "Epoch 6/100\n",
      "10/10 [==============================] - 0s 4ms/step - loss: 54.9988 - mae: 54.9988\n",
      "Epoch 7/100\n",
      "10/10 [==============================] - 0s 4ms/step - loss: 54.8151 - mae: 54.8151\n",
      "Epoch 8/100\n",
      "10/10 [==============================] - 0s 4ms/step - loss: 49.9601 - mae: 49.9601\n",
      "Epoch 9/100\n",
      "10/10 [==============================] - 0s 4ms/step - loss: 54.4572 - mae: 54.4572\n",
      "Epoch 10/100\n",
      "10/10 [==============================] - 0s 4ms/step - loss: 54.9875 - mae: 54.9875\n",
      "Epoch 11/100\n",
      "10/10 [==============================] - 0s 4ms/step - loss: 54.7362 - mae: 54.7362\n",
      "Epoch 12/100\n",
      "10/10 [==============================] - 0s 4ms/step - loss: 55.5593 - mae: 55.5593\n",
      "Epoch 13/100\n",
      "10/10 [==============================] - 0s 4ms/step - loss: 55.3238 - mae: 55.3238\n",
      "Epoch 14/100\n",
      "10/10 [==============================] - 0s 4ms/step - loss: 55.0237 - mae: 55.0237\n",
      "Epoch 15/100\n",
      "10/10 [==============================] - 0s 4ms/step - loss: 53.9878 - mae: 53.9878\n",
      "Epoch 16/100\n",
      "10/10 [==============================] - 0s 4ms/step - loss: 46.8635 - mae: 46.8635\n",
      "Epoch 17/100\n",
      "10/10 [==============================] - 0s 4ms/step - loss: 54.9811 - mae: 54.9811\n",
      "Epoch 18/100\n",
      "10/10 [==============================] - 0s 4ms/step - loss: 55.0998 - mae: 55.0998\n",
      "Epoch 19/100\n",
      "10/10 [==============================] - 0s 4ms/step - loss: 54.9077 - mae: 54.9077\n",
      "Epoch 20/100\n",
      "10/10 [==============================] - 0s 4ms/step - loss: 55.4058 - mae: 55.4058\n",
      "Epoch 21/100\n",
      "10/10 [==============================] - 0s 4ms/step - loss: 55.1034 - mae: 55.1034\n",
      "Epoch 22/100\n",
      "10/10 [==============================] - 0s 4ms/step - loss: 54.2011 - mae: 54.2011\n",
      "Epoch 23/100\n",
      "10/10 [==============================] - 0s 4ms/step - loss: 49.7256 - mae: 49.7256\n",
      "Epoch 24/100\n",
      "10/10 [==============================] - 0s 4ms/step - loss: 54.3543 - mae: 54.3543\n",
      "Epoch 25/100\n",
      "10/10 [==============================] - 0s 4ms/step - loss: 55.2409 - mae: 55.2409\n",
      "Epoch 26/100\n",
      "10/10 [==============================] - 0s 4ms/step - loss: 54.6598 - mae: 54.6598\n",
      "Epoch 27/100\n",
      "10/10 [==============================] - 0s 4ms/step - loss: 46.7634 - mae: 46.7634\n",
      "Epoch 28/100\n",
      "10/10 [==============================] - 0s 5ms/step - loss: 55.2213 - mae: 55.2213\n",
      "Epoch 29/100\n",
      "10/10 [==============================] - 0s 4ms/step - loss: 55.6248 - mae: 55.6248\n",
      "Epoch 30/100\n",
      "10/10 [==============================] - 0s 4ms/step - loss: 55.4556 - mae: 55.4556\n",
      "Epoch 31/100\n",
      "10/10 [==============================] - 0s 4ms/step - loss: 47.6917 - mae: 47.6917\n",
      "Epoch 32/100\n",
      "10/10 [==============================] - 0s 4ms/step - loss: 55.2902 - mae: 55.2902\n",
      "Epoch 33/100\n",
      "10/10 [==============================] - 0s 4ms/step - loss: 55.4963 - mae: 55.4963\n",
      "Epoch 34/100\n",
      "10/10 [==============================] - 0s 4ms/step - loss: 54.1220 - mae: 54.1220\n",
      "Epoch 35/100\n",
      "10/10 [==============================] - 0s 4ms/step - loss: 54.8254 - mae: 54.8254\n",
      "Epoch 36/100\n",
      "10/10 [==============================] - 0s 4ms/step - loss: 54.9811 - mae: 54.9811\n",
      "Epoch 37/100\n",
      "10/10 [==============================] - 0s 4ms/step - loss: 55.7748 - mae: 55.7748\n",
      "Epoch 38/100\n",
      "10/10 [==============================] - 0s 4ms/step - loss: 55.0778 - mae: 55.0778\n",
      "Epoch 39/100\n",
      "10/10 [==============================] - 0s 4ms/step - loss: 55.6654 - mae: 55.6654\n",
      "Epoch 40/100\n",
      "10/10 [==============================] - 0s 4ms/step - loss: 54.4966 - mae: 54.4966\n",
      "Epoch 41/100\n",
      "10/10 [==============================] - 0s 4ms/step - loss: 55.2377 - mae: 55.2377\n",
      "Epoch 42/100\n",
      "10/10 [==============================] - 0s 4ms/step - loss: 54.5180 - mae: 54.5180\n",
      "Epoch 43/100\n",
      "10/10 [==============================] - 0s 4ms/step - loss: 55.3316 - mae: 55.3316\n",
      "Epoch 44/100\n",
      "10/10 [==============================] - 0s 4ms/step - loss: 55.4406 - mae: 55.4406\n",
      "Epoch 45/100\n",
      "10/10 [==============================] - 0s 4ms/step - loss: 53.5108 - mae: 53.5108\n",
      "Epoch 46/100\n",
      "10/10 [==============================] - 0s 4ms/step - loss: 48.0891 - mae: 48.0891\n",
      "Epoch 47/100\n",
      "10/10 [==============================] - 0s 4ms/step - loss: 54.8638 - mae: 54.8638\n",
      "Epoch 48/100\n",
      "10/10 [==============================] - 0s 4ms/step - loss: 55.2256 - mae: 55.2256\n",
      "Epoch 49/100\n",
      "10/10 [==============================] - 0s 4ms/step - loss: 55.4636 - mae: 55.4636\n",
      "Epoch 50/100\n",
      "10/10 [==============================] - 0s 4ms/step - loss: 55.0428 - mae: 55.0428\n",
      "Epoch 51/100\n",
      "10/10 [==============================] - 0s 5ms/step - loss: 47.5348 - mae: 47.5348\n",
      "Epoch 52/100\n",
      "10/10 [==============================] - 0s 4ms/step - loss: 53.9017 - mae: 53.9017\n",
      "Epoch 53/100\n",
      "10/10 [==============================] - 0s 4ms/step - loss: 49.8847 - mae: 49.8847\n",
      "Epoch 54/100\n",
      "10/10 [==============================] - 0s 4ms/step - loss: 55.0299 - mae: 55.0299\n",
      "Epoch 55/100\n",
      "10/10 [==============================] - 0s 4ms/step - loss: 54.5253 - mae: 54.5253\n",
      "Epoch 56/100\n",
      "10/10 [==============================] - 0s 4ms/step - loss: 52.9403 - mae: 52.9403\n",
      "Epoch 57/100\n",
      "10/10 [==============================] - 0s 4ms/step - loss: 54.6003 - mae: 54.6003\n",
      "Epoch 58/100\n",
      "10/10 [==============================] - 0s 4ms/step - loss: 54.9149 - mae: 54.9149\n",
      "Epoch 59/100\n",
      "10/10 [==============================] - 0s 4ms/step - loss: 56.1833 - mae: 56.1832\n",
      "Epoch 60/100\n",
      "10/10 [==============================] - 0s 4ms/step - loss: 48.8787 - mae: 48.8787\n",
      "Epoch 61/100\n",
      "10/10 [==============================] - 0s 4ms/step - loss: 55.1082 - mae: 55.1082\n",
      "Epoch 62/100\n",
      "10/10 [==============================] - 0s 4ms/step - loss: 54.7867 - mae: 54.7867\n",
      "Epoch 63/100\n",
      "10/10 [==============================] - 0s 4ms/step - loss: 55.6211 - mae: 55.6211\n",
      "Epoch 64/100\n",
      "10/10 [==============================] - 0s 5ms/step - loss: 47.5739 - mae: 47.5739\n",
      "Epoch 65/100\n",
      "10/10 [==============================] - 0s 4ms/step - loss: 54.7292 - mae: 54.7292\n",
      "Epoch 66/100\n",
      "10/10 [==============================] - 0s 4ms/step - loss: 54.4382 - mae: 54.4382\n",
      "Epoch 67/100\n",
      "10/10 [==============================] - 0s 5ms/step - loss: 52.3089 - mae: 52.3089\n",
      "Epoch 68/100\n",
      "10/10 [==============================] - 0s 4ms/step - loss: 54.6795 - mae: 54.6795\n",
      "Epoch 69/100\n",
      "10/10 [==============================] - 0s 4ms/step - loss: 55.1014 - mae: 55.1014\n",
      "Epoch 70/100\n",
      "10/10 [==============================] - 0s 4ms/step - loss: 54.6253 - mae: 54.6253\n",
      "Epoch 71/100\n",
      "10/10 [==============================] - 0s 4ms/step - loss: 48.0615 - mae: 48.0615\n",
      "Epoch 72/100\n",
      "10/10 [==============================] - 0s 4ms/step - loss: 52.0166 - mae: 52.0166\n",
      "Epoch 73/100\n",
      "10/10 [==============================] - 0s 4ms/step - loss: 55.0828 - mae: 55.0828\n",
      "Epoch 74/100\n",
      "10/10 [==============================] - 0s 4ms/step - loss: 54.1988 - mae: 54.1988\n",
      "Epoch 75/100\n",
      "10/10 [==============================] - 0s 4ms/step - loss: 55.6037 - mae: 55.6037\n",
      "Epoch 76/100\n",
      "10/10 [==============================] - 0s 4ms/step - loss: 54.5239 - mae: 54.5239\n",
      "Epoch 77/100\n",
      "10/10 [==============================] - 0s 4ms/step - loss: 52.7842 - mae: 52.7842\n",
      "Epoch 78/100\n",
      "10/10 [==============================] - 0s 4ms/step - loss: 52.7486 - mae: 52.7486\n",
      "Epoch 79/100\n",
      "10/10 [==============================] - 0s 4ms/step - loss: 47.4712 - mae: 47.4712\n",
      "Epoch 80/100\n",
      "10/10 [==============================] - 0s 4ms/step - loss: 55.1644 - mae: 55.1644\n",
      "Epoch 81/100\n",
      "10/10 [==============================] - 0s 4ms/step - loss: 55.1798 - mae: 55.1798\n",
      "Epoch 82/100\n",
      "10/10 [==============================] - 0s 4ms/step - loss: 54.0302 - mae: 54.0302\n",
      "Epoch 83/100\n",
      "10/10 [==============================] - 0s 4ms/step - loss: 55.3981 - mae: 55.3981\n",
      "Epoch 84/100\n",
      "10/10 [==============================] - 0s 4ms/step - loss: 55.6231 - mae: 55.6231\n",
      "Epoch 85/100\n",
      "10/10 [==============================] - 0s 4ms/step - loss: 53.1139 - mae: 53.1139\n",
      "Epoch 86/100\n",
      "10/10 [==============================] - 0s 4ms/step - loss: 55.4169 - mae: 55.4169\n",
      "Epoch 87/100\n",
      "10/10 [==============================] - 0s 4ms/step - loss: 54.9314 - mae: 54.9314\n",
      "Epoch 88/100\n",
      "10/10 [==============================] - 0s 4ms/step - loss: 54.9752 - mae: 54.9752\n",
      "Epoch 89/100\n",
      "10/10 [==============================] - 0s 4ms/step - loss: 55.3902 - mae: 55.3902\n",
      "Epoch 90/100\n",
      "10/10 [==============================] - 0s 4ms/step - loss: 54.9330 - mae: 54.9330\n",
      "Epoch 91/100\n",
      "10/10 [==============================] - 0s 4ms/step - loss: 54.5887 - mae: 54.5887\n",
      "Epoch 92/100\n",
      "10/10 [==============================] - 0s 4ms/step - loss: 47.0283 - mae: 47.0283\n",
      "Epoch 93/100\n",
      "10/10 [==============================] - 0s 4ms/step - loss: 55.6902 - mae: 55.6902\n",
      "Epoch 94/100\n",
      "10/10 [==============================] - 0s 4ms/step - loss: 54.8131 - mae: 54.8131\n",
      "Epoch 95/100\n",
      "10/10 [==============================] - 0s 4ms/step - loss: 55.0241 - mae: 55.0241\n",
      "Epoch 96/100\n",
      "10/10 [==============================] - 0s 4ms/step - loss: 53.9400 - mae: 53.9400\n",
      "Epoch 97/100\n",
      "10/10 [==============================] - 0s 4ms/step - loss: 49.2255 - mae: 49.2255\n",
      "Epoch 98/100\n",
      "10/10 [==============================] - 0s 4ms/step - loss: 54.7428 - mae: 54.7428\n",
      "Epoch 99/100\n",
      "10/10 [==============================] - 0s 4ms/step - loss: 55.3922 - mae: 55.3922\n",
      "Epoch 100/100\n",
      "10/10 [==============================] - 0s 4ms/step - loss: 54.8450 - mae: 54.8450\n"
     ]
    },
    {
     "data": {
      "text/plain": "<keras.callbacks.History at 0x28ee93fd0>"
     },
     "execution_count": 13,
     "metadata": {},
     "output_type": "execute_result"
    }
   ],
   "source": [
    "# compile the model\n",
    "model.compile(optimizer='sgd',\n",
    "              loss='mae',\n",
    "              metrics=['mae'])\n",
    "\n",
    "# fit the model\n",
    "model.fit(horsepower, train_labels, epochs=100, callbacks=[tensorboard_callback])"
   ],
   "metadata": {
    "collapsed": false,
    "ExecuteTime": {
     "start_time": "2023-04-14T11:53:48.302208Z",
     "end_time": "2023-04-14T11:53:52.778988Z"
    }
   }
  },
  {
   "cell_type": "markdown",
   "metadata": {
    "id": "EufH4DTBVsSn"
   },
   "source": [
    "**Question 2.3**: visualize the evolution of your loss function"
   ]
  },
  {
   "cell_type": "code",
   "execution_count": 14,
   "outputs": [
    {
     "data": {
      "text/plain": "<Figure size 640x480 with 1 Axes>",
      "image/png": "[encoded data removed]"
     },
     "metadata": {},
     "output_type": "display_data"
    }
   ],
   "source": [
    "# plot the evolution of the loss function\n",
    "plt.plot(model.history.history['loss'])\n",
    "plt.xlabel('Epochs')\n",
    "plt.ylabel('Loss')\n",
    "plt.show()"
   ],
   "metadata": {
    "collapsed": false,
    "ExecuteTime": {
     "start_time": "2023-04-14T11:53:52.782633Z",
     "end_time": "2023-04-14T11:53:52.932764Z"
    }
   }
  },
  {
   "cell_type": "markdown",
   "metadata": {
    "id": "NgXpZlUNWGRz"
   },
   "source": [
    "**Question 2.4**: plot the regression line on your data \n",
    "\n",
    "*tips : two possible solutions, 1) based on your model predictions with the method using [predict](https://www.tensorflow.org/api_docs/python/tf/keras/Model#predict), 2) based on your model coefficients using [get_weights](https://www.tensorflow.org/api_docs/python/tf/keras/layers/Layer#get_weights)*\n"
   ]
  },
  {
   "cell_type": "code",
   "execution_count": 15,
   "outputs": [],
   "source": [
    "def normalize(x):\n",
    "    mean = np.mean(x)\n",
    "    std = np.std(x)\n",
    "    return (x - mean) / std"
   ],
   "metadata": {
    "collapsed": false,
    "ExecuteTime": {
     "start_time": "2023-04-14T11:53:52.933171Z",
     "end_time": "2023-04-14T11:53:52.936156Z"
    }
   }
  },
  {
   "cell_type": "code",
   "execution_count": 16,
   "outputs": [
    {
     "name": "stdout",
     "output_type": "stream",
     "text": [
      "10/10 [==============================] - 0s 2ms/step\n"
     ]
    },
    {
     "data": {
      "text/plain": "<Figure size 640x480 with 1 Axes>",
      "image/png": "[encoded data removed]"
     },
     "metadata": {},
     "output_type": "display_data"
    }
   ],
   "source": [
    "# plot the regression line\n",
    "plt.scatter(horsepower, normalize(train_labels), label='data')\n",
    "plt.plot(horsepower, normalize(model.predict(horsepower)), color='red', label='regression line')\n",
    "plt.xlabel('Horsepower')\n",
    "plt.ylabel('MPG')\n",
    "plt.legend()\n",
    "plt.show()"
   ],
   "metadata": {
    "collapsed": false,
    "ExecuteTime": {
     "start_time": "2023-04-14T11:53:52.954653Z",
     "end_time": "2023-04-14T11:53:53.178756Z"
    }
   }
  },
  {
   "cell_type": "markdown",
   "metadata": {
    "id": "d5fDH33smZ-O"
   },
   "source": [
    "**Question 2.5**: [evaluate](https://www.tensorflow.org/api_docs/python/tf/keras/Model#evaluate) your performance model, and store them into a dictionary having model names as keys"
   ]
  },
  {
   "cell_type": "code",
   "execution_count": 17,
   "outputs": [
    {
     "name": "stdout",
     "output_type": "stream",
     "text": [
      "10/10 - 0s - loss: 67.9937 - mae: 67.9937 - 95ms/epoch - 9ms/step\n",
      "10/10 - 0s - loss: 67.9937 - mae: 67.9937 - 42ms/epoch - 4ms/step\n",
      "{'linear regression': [67.99369049072266, 67.99369049072266]}\n"
     ]
    }
   ],
   "source": [
    "# evaluate the model\n",
    "model.evaluate(horsepower, train_labels, verbose=2)\n",
    "\n",
    "# store the results\n",
    "results = {'linear regression': model.evaluate(horsepower, train_labels, verbose=2)}\n",
    "\n",
    "# print the results\n",
    "print(results)"
   ],
   "metadata": {
    "collapsed": false,
    "ExecuteTime": {
     "start_time": "2023-04-14T11:53:53.182754Z",
     "end_time": "2023-04-14T11:53:53.351736Z"
    }
   }
  },
  {
   "cell_type": "markdown",
   "metadata": {
    "id": "KQS0eklsW9cd"
   },
   "source": [
    "# 3. Multilinear regression model (using a neural network)"
   ]
  },
  {
   "cell_type": "markdown",
   "metadata": {
    "id": "zyxYzK8cpmuH"
   },
   "source": [
    "**Question 3.1**: answer all previous questions for a multilinear regression model taking as inputs all available variables. Comment optimization and performance results."
   ]
  },
  {
   "cell_type": "code",
   "execution_count": 18,
   "outputs": [],
   "source": [
    "## multi-linear regression\n",
    "# take all available variables as input\n",
    "multilinear_features = train_features.copy()\n",
    "multilinear_features = np.array(multilinear_features).astype(np.float32)"
   ],
   "metadata": {
    "collapsed": false,
    "ExecuteTime": {
     "start_time": "2023-04-14T11:53:53.352135Z",
     "end_time": "2023-04-14T11:53:53.355258Z"
    }
   }
  },
  {
   "cell_type": "code",
   "execution_count": 19,
   "outputs": [
    {
     "name": "stdout",
     "output_type": "stream",
     "text": [
      "Epoch 1/100\n",
      "10/10 [==============================] - 0s 5ms/step - loss: 44494.7266 - mae: 44494.7266\n",
      "Epoch 2/100\n",
      "10/10 [==============================] - 0s 4ms/step - loss: 44603.8789 - mae: 44603.8789\n",
      "Epoch 3/100\n",
      "10/10 [==============================] - 0s 4ms/step - loss: 44446.0469 - mae: 44446.0469\n",
      "Epoch 4/100\n",
      "10/10 [==============================] - 0s 5ms/step - loss: 44572.3008 - mae: 44572.3008\n",
      "Epoch 5/100\n",
      "10/10 [==============================] - 0s 4ms/step - loss: 44377.4219 - mae: 44377.4219\n",
      "Epoch 6/100\n",
      "10/10 [==============================] - 0s 4ms/step - loss: 44310.2227 - mae: 44310.2227\n",
      "Epoch 7/100\n",
      "10/10 [==============================] - 0s 4ms/step - loss: 44230.5820 - mae: 44230.5820\n",
      "Epoch 8/100\n",
      "10/10 [==============================] - 0s 4ms/step - loss: 44778.0898 - mae: 44778.0898\n",
      "Epoch 9/100\n",
      "10/10 [==============================] - 0s 4ms/step - loss: 44640.3203 - mae: 44640.3203\n",
      "Epoch 10/100\n",
      "10/10 [==============================] - 0s 4ms/step - loss: 44559.4727 - mae: 44559.4727\n",
      "Epoch 11/100\n",
      "10/10 [==============================] - 0s 4ms/step - loss: 44813.1523 - mae: 44813.1523\n",
      "Epoch 12/100\n",
      "10/10 [==============================] - 0s 4ms/step - loss: 43840.6680 - mae: 43840.6680\n",
      "Epoch 13/100\n",
      "10/10 [==============================] - 0s 4ms/step - loss: 44542.2695 - mae: 44542.2695\n",
      "Epoch 14/100\n",
      "10/10 [==============================] - 0s 4ms/step - loss: 46097.3750 - mae: 46097.3750\n",
      "Epoch 15/100\n",
      "10/10 [==============================] - 0s 4ms/step - loss: 45530.8906 - mae: 45530.8906\n",
      "Epoch 16/100\n",
      "10/10 [==============================] - 0s 4ms/step - loss: 45593.8750 - mae: 45593.8750\n",
      "Epoch 17/100\n",
      "10/10 [==============================] - 0s 4ms/step - loss: 45299.5586 - mae: 45299.5586\n",
      "Epoch 18/100\n",
      "10/10 [==============================] - 0s 4ms/step - loss: 44175.5117 - mae: 44175.5117\n",
      "Epoch 19/100\n",
      "10/10 [==============================] - 0s 4ms/step - loss: 44974.1953 - mae: 44974.1953\n",
      "Epoch 20/100\n",
      "10/10 [==============================] - 0s 4ms/step - loss: 45163.0117 - mae: 45163.0117\n",
      "Epoch 21/100\n",
      "10/10 [==============================] - 0s 4ms/step - loss: 45009.3086 - mae: 45009.3086\n",
      "Epoch 22/100\n",
      "10/10 [==============================] - 0s 4ms/step - loss: 45621.6758 - mae: 45621.6758\n",
      "Epoch 23/100\n",
      "10/10 [==============================] - 0s 4ms/step - loss: 42367.6602 - mae: 42367.6602\n",
      "Epoch 24/100\n",
      "10/10 [==============================] - 0s 4ms/step - loss: 47219.9961 - mae: 47219.9961\n",
      "Epoch 25/100\n",
      "10/10 [==============================] - 0s 4ms/step - loss: 46137.5391 - mae: 46137.5391\n",
      "Epoch 26/100\n",
      "10/10 [==============================] - 0s 4ms/step - loss: 45046.8516 - mae: 45046.8516\n",
      "Epoch 27/100\n",
      "10/10 [==============================] - 0s 4ms/step - loss: 45500.8984 - mae: 45500.8984\n",
      "Epoch 28/100\n",
      "10/10 [==============================] - 0s 4ms/step - loss: 44573.5938 - mae: 44573.5938\n",
      "Epoch 29/100\n",
      "10/10 [==============================] - 0s 4ms/step - loss: 44423.8398 - mae: 44423.8398\n",
      "Epoch 30/100\n",
      "10/10 [==============================] - 0s 4ms/step - loss: 44390.3711 - mae: 44390.3711\n",
      "Epoch 31/100\n",
      "10/10 [==============================] - 0s 4ms/step - loss: 44179.0430 - mae: 44179.0430\n",
      "Epoch 32/100\n",
      "10/10 [==============================] - 0s 4ms/step - loss: 45145.5781 - mae: 45145.5781\n",
      "Epoch 33/100\n",
      "10/10 [==============================] - 0s 4ms/step - loss: 44551.1094 - mae: 44551.1094\n",
      "Epoch 34/100\n",
      "10/10 [==============================] - 0s 4ms/step - loss: 44706.5703 - mae: 44706.5703\n",
      "Epoch 35/100\n",
      "10/10 [==============================] - 0s 4ms/step - loss: 45160.1797 - mae: 45160.1797\n",
      "Epoch 36/100\n",
      "10/10 [==============================] - 0s 4ms/step - loss: 45754.5117 - mae: 45754.5117\n",
      "Epoch 37/100\n",
      "10/10 [==============================] - 0s 4ms/step - loss: 45566.6250 - mae: 45566.6250\n",
      "Epoch 38/100\n",
      "10/10 [==============================] - 0s 4ms/step - loss: 45305.4453 - mae: 45305.4453\n",
      "Epoch 39/100\n",
      "10/10 [==============================] - 0s 4ms/step - loss: 45234.5391 - mae: 45234.5391\n",
      "Epoch 40/100\n",
      "10/10 [==============================] - 0s 4ms/step - loss: 44235.8242 - mae: 44235.8242\n",
      "Epoch 41/100\n",
      "10/10 [==============================] - 0s 4ms/step - loss: 44564.8906 - mae: 44564.8906\n",
      "Epoch 42/100\n",
      "10/10 [==============================] - 0s 4ms/step - loss: 46172.0469 - mae: 46172.0469\n",
      "Epoch 43/100\n",
      "10/10 [==============================] - 0s 4ms/step - loss: 44867.0508 - mae: 44867.0508\n",
      "Epoch 44/100\n",
      "10/10 [==============================] - 0s 4ms/step - loss: 44930.8398 - mae: 44930.8398\n",
      "Epoch 45/100\n",
      "10/10 [==============================] - 0s 4ms/step - loss: 44518.4570 - mae: 44518.4570\n",
      "Epoch 46/100\n",
      "10/10 [==============================] - 0s 4ms/step - loss: 44778.5117 - mae: 44778.5117\n",
      "Epoch 47/100\n",
      "10/10 [==============================] - 0s 4ms/step - loss: 45194.2734 - mae: 45194.2734\n",
      "Epoch 48/100\n",
      "10/10 [==============================] - 0s 4ms/step - loss: 44895.2422 - mae: 44895.2422\n",
      "Epoch 49/100\n",
      "10/10 [==============================] - 0s 4ms/step - loss: 44502.2695 - mae: 44502.2695\n",
      "Epoch 50/100\n",
      "10/10 [==============================] - 0s 4ms/step - loss: 44541.8594 - mae: 44541.8555\n",
      "Epoch 51/100\n",
      "10/10 [==============================] - 0s 4ms/step - loss: 44674.1836 - mae: 44674.1836\n",
      "Epoch 52/100\n",
      "10/10 [==============================] - 0s 4ms/step - loss: 44486.3984 - mae: 44486.3945\n",
      "Epoch 53/100\n",
      "10/10 [==============================] - 0s 4ms/step - loss: 44647.8047 - mae: 44647.8047\n",
      "Epoch 54/100\n",
      "10/10 [==============================] - 0s 4ms/step - loss: 44341.9688 - mae: 44341.9688\n",
      "Epoch 55/100\n",
      "10/10 [==============================] - 0s 4ms/step - loss: 44278.6328 - mae: 44278.6328\n",
      "Epoch 56/100\n",
      "10/10 [==============================] - 0s 4ms/step - loss: 44878.5664 - mae: 44878.5664\n",
      "Epoch 57/100\n",
      "10/10 [==============================] - 0s 4ms/step - loss: 44344.0117 - mae: 44344.0117\n",
      "Epoch 58/100\n",
      "10/10 [==============================] - 0s 4ms/step - loss: 44282.5625 - mae: 44282.5625\n",
      "Epoch 59/100\n",
      "10/10 [==============================] - 0s 4ms/step - loss: 44422.8672 - mae: 44422.8672\n",
      "Epoch 60/100\n",
      "10/10 [==============================] - 0s 4ms/step - loss: 44681.3867 - mae: 44681.3867\n",
      "Epoch 61/100\n",
      "10/10 [==============================] - 0s 4ms/step - loss: 44585.7070 - mae: 44585.7070\n",
      "Epoch 62/100\n",
      "10/10 [==============================] - 0s 4ms/step - loss: 44766.9766 - mae: 44766.9766\n",
      "Epoch 63/100\n",
      "10/10 [==============================] - 0s 4ms/step - loss: 44851.2695 - mae: 44851.2695\n",
      "Epoch 64/100\n",
      "10/10 [==============================] - 0s 4ms/step - loss: 44152.0117 - mae: 44152.0117\n",
      "Epoch 65/100\n",
      "10/10 [==============================] - 0s 4ms/step - loss: 43567.5469 - mae: 43567.5469\n",
      "Epoch 66/100\n",
      "10/10 [==============================] - 0s 4ms/step - loss: 47039.7461 - mae: 47039.7461\n",
      "Epoch 67/100\n",
      "10/10 [==============================] - 0s 4ms/step - loss: 46202.7188 - mae: 46202.7188\n",
      "Epoch 68/100\n",
      "10/10 [==============================] - 0s 4ms/step - loss: 45470.8945 - mae: 45470.8945\n",
      "Epoch 69/100\n",
      "10/10 [==============================] - 0s 4ms/step - loss: 45610.9805 - mae: 45610.9805\n",
      "Epoch 70/100\n",
      "10/10 [==============================] - 0s 4ms/step - loss: 44419.0898 - mae: 44419.0898\n",
      "Epoch 71/100\n",
      "10/10 [==============================] - 0s 4ms/step - loss: 46277.9023 - mae: 46277.9023\n",
      "Epoch 72/100\n",
      "10/10 [==============================] - 0s 4ms/step - loss: 44490.6758 - mae: 44490.6758\n",
      "Epoch 73/100\n",
      "10/10 [==============================] - 0s 4ms/step - loss: 44275.5156 - mae: 44275.5156\n",
      "Epoch 74/100\n",
      "10/10 [==============================] - 0s 4ms/step - loss: 46312.2305 - mae: 46312.2305\n",
      "Epoch 75/100\n",
      "10/10 [==============================] - 0s 4ms/step - loss: 47327.1523 - mae: 47327.1523\n",
      "Epoch 76/100\n",
      "10/10 [==============================] - 0s 4ms/step - loss: 43787.3320 - mae: 43787.3320\n",
      "Epoch 77/100\n",
      "10/10 [==============================] - 0s 4ms/step - loss: 47763.5234 - mae: 47763.5234\n",
      "Epoch 78/100\n",
      "10/10 [==============================] - 0s 4ms/step - loss: 44815.0977 - mae: 44815.0977\n",
      "Epoch 79/100\n",
      "10/10 [==============================] - 0s 4ms/step - loss: 45049.9258 - mae: 45049.9258\n",
      "Epoch 80/100\n",
      "10/10 [==============================] - 0s 4ms/step - loss: 46741.9102 - mae: 46741.9102\n",
      "Epoch 81/100\n",
      "10/10 [==============================] - 0s 4ms/step - loss: 44741.8086 - mae: 44741.8086\n",
      "Epoch 82/100\n",
      "10/10 [==============================] - 0s 4ms/step - loss: 44545.8047 - mae: 44545.8047\n",
      "Epoch 83/100\n",
      "10/10 [==============================] - 0s 4ms/step - loss: 44319.8242 - mae: 44319.8242\n",
      "Epoch 84/100\n",
      "10/10 [==============================] - 0s 4ms/step - loss: 44117.5781 - mae: 44117.5781\n",
      "Epoch 85/100\n",
      "10/10 [==============================] - 0s 4ms/step - loss: 44264.3047 - mae: 44264.3047\n",
      "Epoch 86/100\n",
      "10/10 [==============================] - 0s 4ms/step - loss: 44853.8242 - mae: 44853.8242\n",
      "Epoch 87/100\n",
      "10/10 [==============================] - 0s 4ms/step - loss: 45844.3125 - mae: 45844.3125\n",
      "Epoch 88/100\n",
      "10/10 [==============================] - 0s 3ms/step - loss: 45274.9102 - mae: 45274.9102\n",
      "Epoch 89/100\n",
      "10/10 [==============================] - 0s 4ms/step - loss: 45767.7695 - mae: 45767.7695\n",
      "Epoch 90/100\n",
      "10/10 [==============================] - 0s 4ms/step - loss: 46072.7305 - mae: 46072.7305\n",
      "Epoch 91/100\n",
      "10/10 [==============================] - 0s 4ms/step - loss: 44708.7891 - mae: 44708.7891\n",
      "Epoch 92/100\n",
      "10/10 [==============================] - 0s 4ms/step - loss: 46301.4219 - mae: 46301.4219\n",
      "Epoch 93/100\n",
      "10/10 [==============================] - 0s 4ms/step - loss: 46123.1172 - mae: 46123.1172\n",
      "Epoch 94/100\n",
      "10/10 [==============================] - 0s 4ms/step - loss: 46355.0312 - mae: 46355.0312\n",
      "Epoch 95/100\n",
      "10/10 [==============================] - 0s 4ms/step - loss: 45105.3828 - mae: 45105.3828\n",
      "Epoch 96/100\n",
      "10/10 [==============================] - 0s 4ms/step - loss: 44161.9844 - mae: 44161.9844\n",
      "Epoch 97/100\n",
      "10/10 [==============================] - 0s 4ms/step - loss: 46902.1758 - mae: 46902.1758\n",
      "Epoch 98/100\n",
      "10/10 [==============================] - 0s 4ms/step - loss: 45542.0625 - mae: 45542.0625\n",
      "Epoch 99/100\n",
      "10/10 [==============================] - 0s 4ms/step - loss: 46250.7031 - mae: 46250.7031\n",
      "Epoch 100/100\n",
      "10/10 [==============================] - 0s 4ms/step - loss: 45939.5352 - mae: 45939.5352\n"
     ]
    },
    {
     "data": {
      "text/plain": "<Figure size 640x480 with 1 Axes>",
      "image/png": "[encoded data removed]"
     },
     "metadata": {},
     "output_type": "display_data"
    },
    {
     "name": "stdout",
     "output_type": "stream",
     "text": [
      "10/10 - 0s - loss: 79401.4922 - mae: 79401.4922 - 78ms/epoch - 8ms/step\n",
      "{'linear regression': [67.99369049072266, 67.99369049072266], 'multilinear regression': [79401.4921875, 79401.4921875]}\n"
     ]
    }
   ],
   "source": [
    "# build the model\n",
    "model = tf.keras.Sequential([\n",
    "    tf.keras.layers.Dense(units=1)\n",
    "])\n",
    "\n",
    "# compile the model\n",
    "model.compile(optimizer='sgd',\n",
    "              loss='mae',\n",
    "              metrics=['mae'])\n",
    "\n",
    "# fit the model\n",
    "model.fit(multilinear_features, train_labels, epochs=100, callbacks=[tensorboard_callback])\n",
    "\n",
    "# plot the evolution of the loss function\n",
    "plt.plot(model.history.history['loss'])\n",
    "plt.xlabel('Epochs')\n",
    "plt.ylabel('Loss')\n",
    "plt.show()\n",
    "\n",
    "# evaluate the model\n",
    "results['multilinear regression'] = model.evaluate(multilinear_features, train_labels, verbose=2)\n",
    "\n",
    "# print the results\n",
    "print(results)"
   ],
   "metadata": {
    "collapsed": false,
    "ExecuteTime": {
     "start_time": "2023-04-14T11:53:53.354679Z",
     "end_time": "2023-04-14T11:53:57.679446Z"
    }
   }
  },
  {
   "cell_type": "code",
   "execution_count": 20,
   "outputs": [
    {
     "name": "stdout",
     "output_type": "stream",
     "text": [
      "===== Optimization results =====\n",
      "Linear regression:  67.99369049072266\n",
      "Multilinear regression:  79401.4921875\n",
      "===== Performance results =====\n",
      "Linear regression:  67.99369049072266\n",
      "Multilinear regression:  79401.4921875\n"
     ]
    }
   ],
   "source": [
    "# optimization\n",
    "print('===== Optimization results =====')\n",
    "print('Linear regression: ', results['linear regression'][1])\n",
    "print('Multilinear regression: ', results['multilinear regression'][1])\n",
    "print('===== Performance results =====')\n",
    "print('Linear regression: ', results['linear regression'][0])\n",
    "print('Multilinear regression: ', results['multilinear regression'][0])"
   ],
   "metadata": {
    "collapsed": false,
    "ExecuteTime": {
     "start_time": "2023-04-14T11:53:57.681698Z",
     "end_time": "2023-04-14T11:53:57.684617Z"
    }
   }
  },
  {
   "cell_type": "markdown",
   "metadata": {
    "id": "kpcYeLok5xZM"
   },
   "source": [
    "# 4. Fully-connected multi-layer neural network model"
   ]
  },
  {
   "cell_type": "markdown",
   "metadata": {
    "id": "A2JoIAjU6KvY"
   },
   "source": [
    "**Question 4.1**: write a function `def build_and_compile_model(input, nber_layer, nber_neurons_per_layer, activation):` able to build a fully-connected multi-layer neural network architecture with `nber_layer` layers, each containing `nber_neurons_per_layer` neurons with an activaton stored in the list `activation`."
   ]
  },
  {
   "cell_type": "code",
   "execution_count": 21,
   "outputs": [],
   "source": [
    "def build_and_compile_model(input, nber_layer, nber_neurons_per_layer, activation):\n",
    "    # build a fully-connected multi-layer neural network architecture\n",
    "    model = tf.keras.Sequential()\n",
    "    model.add(tf.keras.layers.Dense(nber_neurons_per_layer, activation=activation, input_shape=(input,)))\n",
    "    for i in range(nber_layer-1):\n",
    "        model.add(tf.keras.layers.Dense(nber_neurons_per_layer, activation=activation))\n",
    "    model.add(tf.keras.layers.Dense(1))\n",
    "    model.compile(optimizer='sgd',\n",
    "                  loss='mae',\n",
    "                  metrics=['mae'])\n",
    "    return model"
   ],
   "metadata": {
    "collapsed": false,
    "ExecuteTime": {
     "start_time": "2023-04-14T11:53:57.686045Z",
     "end_time": "2023-04-14T11:53:57.688934Z"
    }
   }
  },
  {
   "cell_type": "markdown",
   "metadata": {
    "id": "aOqrOm7wCYYl"
   },
   "source": [
    "**Question 4.2**: using this fonction, build and compile a DNN model with two layers of 64 and 32 neurons with `relu` activations to predict MPG from all other variables"
   ]
  },
  {
   "cell_type": "code",
   "execution_count": 22,
   "outputs": [],
   "source": [
    "# build and compile the model (2 layers of 64 and 32 neurons with relu activations)\n",
    "model = build_and_compile_model(multilinear_features.shape[1], 2, 64, 'relu')"
   ],
   "metadata": {
    "collapsed": false,
    "ExecuteTime": {
     "start_time": "2023-04-14T11:53:57.690792Z",
     "end_time": "2023-04-14T11:53:57.743950Z"
    }
   }
  },
  {
   "cell_type": "markdown",
   "metadata": {
    "id": "gclbtX7hpkaz"
   },
   "source": [
    "**Question 4.3**: display a result table showing the MAE for the two models"
   ]
  },
  {
   "cell_type": "code",
   "execution_count": 23,
   "outputs": [
    {
     "name": "stdout",
     "output_type": "stream",
     "text": [
      "Epoch 1/100\n",
      "10/10 [==============================] - 0s 8ms/step - loss: 158600.7344 - mae: 158600.7344\n",
      "Epoch 2/100\n",
      "10/10 [==============================] - 0s 6ms/step - loss: 6.6052 - mae: 6.6052\n",
      "Epoch 3/100\n",
      "10/10 [==============================] - 0s 5ms/step - loss: 6.5384 - mae: 6.5384\n",
      "Epoch 4/100\n",
      "10/10 [==============================] - 0s 5ms/step - loss: 6.5872 - mae: 6.5872\n",
      "Epoch 5/100\n",
      "10/10 [==============================] - 0s 5ms/step - loss: 6.6314 - mae: 6.6314\n",
      "Epoch 6/100\n",
      "10/10 [==============================] - 0s 4ms/step - loss: 6.8394 - mae: 6.8394\n",
      "Epoch 7/100\n",
      "10/10 [==============================] - 0s 5ms/step - loss: 6.5490 - mae: 6.5490\n",
      "Epoch 8/100\n",
      "10/10 [==============================] - 0s 5ms/step - loss: 6.6638 - mae: 6.6638\n",
      "Epoch 9/100\n",
      "10/10 [==============================] - 0s 4ms/step - loss: 6.6888 - mae: 6.6888\n",
      "Epoch 10/100\n",
      "10/10 [==============================] - 0s 4ms/step - loss: 6.5107 - mae: 6.5107\n",
      "Epoch 11/100\n",
      "10/10 [==============================] - 0s 5ms/step - loss: 6.5007 - mae: 6.5007\n",
      "Epoch 12/100\n",
      "10/10 [==============================] - 0s 5ms/step - loss: 6.4035 - mae: 6.4035\n",
      "Epoch 13/100\n",
      "10/10 [==============================] - 0s 5ms/step - loss: 6.5154 - mae: 6.5154\n",
      "Epoch 14/100\n",
      "10/10 [==============================] - 0s 5ms/step - loss: 6.6115 - mae: 6.6115\n",
      "Epoch 15/100\n",
      "10/10 [==============================] - 0s 5ms/step - loss: 6.5872 - mae: 6.5872\n",
      "Epoch 16/100\n",
      "10/10 [==============================] - 0s 4ms/step - loss: 6.5844 - mae: 6.5844\n",
      "Epoch 17/100\n",
      "10/10 [==============================] - 0s 4ms/step - loss: 6.7134 - mae: 6.7134\n",
      "Epoch 18/100\n",
      "10/10 [==============================] - 0s 4ms/step - loss: 6.5242 - mae: 6.5242\n",
      "Epoch 19/100\n",
      "10/10 [==============================] - 0s 5ms/step - loss: 6.5079 - mae: 6.5079\n",
      "Epoch 20/100\n",
      "10/10 [==============================] - 0s 6ms/step - loss: 6.5888 - mae: 6.5888\n",
      "Epoch 21/100\n",
      "10/10 [==============================] - 0s 6ms/step - loss: 6.4819 - mae: 6.4819\n",
      "Epoch 22/100\n",
      "10/10 [==============================] - 0s 4ms/step - loss: 6.5687 - mae: 6.5687\n",
      "Epoch 23/100\n",
      "10/10 [==============================] - 0s 4ms/step - loss: 6.6238 - mae: 6.6238\n",
      "Epoch 24/100\n",
      "10/10 [==============================] - 0s 4ms/step - loss: 6.5227 - mae: 6.5227\n",
      "Epoch 25/100\n",
      "10/10 [==============================] - 0s 4ms/step - loss: 6.6553 - mae: 6.6553\n",
      "Epoch 26/100\n",
      "10/10 [==============================] - 0s 4ms/step - loss: 6.4633 - mae: 6.4633\n",
      "Epoch 27/100\n",
      "10/10 [==============================] - 0s 4ms/step - loss: 6.5999 - mae: 6.5999\n",
      "Epoch 28/100\n",
      "10/10 [==============================] - 0s 4ms/step - loss: 6.4412 - mae: 6.4412\n",
      "Epoch 29/100\n",
      "10/10 [==============================] - 0s 5ms/step - loss: 6.4657 - mae: 6.4657\n",
      "Epoch 30/100\n",
      "10/10 [==============================] - 0s 6ms/step - loss: 6.4693 - mae: 6.4693\n",
      "Epoch 31/100\n",
      "10/10 [==============================] - 0s 5ms/step - loss: 6.5793 - mae: 6.5793\n",
      "Epoch 32/100\n",
      "10/10 [==============================] - 0s 5ms/step - loss: 6.5830 - mae: 6.5830\n",
      "Epoch 33/100\n",
      "10/10 [==============================] - 0s 4ms/step - loss: 6.4405 - mae: 6.4405\n",
      "Epoch 34/100\n",
      "10/10 [==============================] - 0s 4ms/step - loss: 6.5583 - mae: 6.5583\n",
      "Epoch 35/100\n",
      "10/10 [==============================] - 0s 4ms/step - loss: 6.5119 - mae: 6.5119\n",
      "Epoch 36/100\n",
      "10/10 [==============================] - 0s 4ms/step - loss: 6.4445 - mae: 6.4445\n",
      "Epoch 37/100\n",
      "10/10 [==============================] - 0s 4ms/step - loss: 6.7479 - mae: 6.7479\n",
      "Epoch 38/100\n",
      "10/10 [==============================] - 0s 4ms/step - loss: 6.5478 - mae: 6.5478\n",
      "Epoch 39/100\n",
      "10/10 [==============================] - 0s 4ms/step - loss: 6.5083 - mae: 6.5083\n",
      "Epoch 40/100\n",
      "10/10 [==============================] - 0s 5ms/step - loss: 6.4427 - mae: 6.4427\n",
      "Epoch 41/100\n",
      "10/10 [==============================] - 0s 5ms/step - loss: 6.4947 - mae: 6.4947\n",
      "Epoch 42/100\n",
      "10/10 [==============================] - 0s 4ms/step - loss: 6.4974 - mae: 6.4974\n",
      "Epoch 43/100\n",
      "10/10 [==============================] - 0s 4ms/step - loss: 6.4630 - mae: 6.4630\n",
      "Epoch 44/100\n",
      "10/10 [==============================] - 0s 4ms/step - loss: 6.5232 - mae: 6.5232\n",
      "Epoch 45/100\n",
      "10/10 [==============================] - 0s 4ms/step - loss: 6.5241 - mae: 6.5241\n",
      "Epoch 46/100\n",
      "10/10 [==============================] - 0s 4ms/step - loss: 6.4845 - mae: 6.4845\n",
      "Epoch 47/100\n",
      "10/10 [==============================] - 0s 4ms/step - loss: 6.6099 - mae: 6.6099\n",
      "Epoch 48/100\n",
      "10/10 [==============================] - 0s 4ms/step - loss: 6.8591 - mae: 6.8591\n",
      "Epoch 49/100\n",
      "10/10 [==============================] - 0s 4ms/step - loss: 6.5449 - mae: 6.5449\n",
      "Epoch 50/100\n",
      "10/10 [==============================] - 0s 4ms/step - loss: 6.6185 - mae: 6.6185\n",
      "Epoch 51/100\n",
      "10/10 [==============================] - 0s 4ms/step - loss: 6.5709 - mae: 6.5709\n",
      "Epoch 52/100\n",
      "10/10 [==============================] - 0s 4ms/step - loss: 6.5672 - mae: 6.5672\n",
      "Epoch 53/100\n",
      "10/10 [==============================] - 0s 4ms/step - loss: 6.6609 - mae: 6.6609\n",
      "Epoch 54/100\n",
      "10/10 [==============================] - 0s 4ms/step - loss: 6.6408 - mae: 6.6408\n",
      "Epoch 55/100\n",
      "10/10 [==============================] - 0s 4ms/step - loss: 6.6673 - mae: 6.6673\n",
      "Epoch 56/100\n",
      "10/10 [==============================] - 0s 4ms/step - loss: 6.4768 - mae: 6.4768\n",
      "Epoch 57/100\n",
      "10/10 [==============================] - 0s 4ms/step - loss: 6.6081 - mae: 6.6081\n",
      "Epoch 58/100\n",
      "10/10 [==============================] - 0s 4ms/step - loss: 6.4422 - mae: 6.4422\n",
      "Epoch 59/100\n",
      "10/10 [==============================] - 0s 4ms/step - loss: 6.4622 - mae: 6.4622\n",
      "Epoch 60/100\n",
      "10/10 [==============================] - 0s 4ms/step - loss: 6.4600 - mae: 6.4600\n",
      "Epoch 61/100\n",
      "10/10 [==============================] - 0s 4ms/step - loss: 6.6883 - mae: 6.6883\n",
      "Epoch 62/100\n",
      "10/10 [==============================] - 0s 4ms/step - loss: 6.5772 - mae: 6.5772\n",
      "Epoch 63/100\n",
      "10/10 [==============================] - 0s 4ms/step - loss: 6.5881 - mae: 6.5881\n",
      "Epoch 64/100\n",
      "10/10 [==============================] - 0s 4ms/step - loss: 6.5189 - mae: 6.5189\n",
      "Epoch 65/100\n",
      "10/10 [==============================] - 0s 4ms/step - loss: 6.6769 - mae: 6.6769\n",
      "Epoch 66/100\n",
      "10/10 [==============================] - 0s 4ms/step - loss: 6.5029 - mae: 6.5029\n",
      "Epoch 67/100\n",
      "10/10 [==============================] - 0s 4ms/step - loss: 6.6212 - mae: 6.6212\n",
      "Epoch 68/100\n",
      "10/10 [==============================] - 0s 4ms/step - loss: 6.4220 - mae: 6.4220\n",
      "Epoch 69/100\n",
      "10/10 [==============================] - 0s 4ms/step - loss: 6.5661 - mae: 6.5661\n",
      "Epoch 70/100\n",
      "10/10 [==============================] - 0s 4ms/step - loss: 6.4849 - mae: 6.4849\n",
      "Epoch 71/100\n",
      "10/10 [==============================] - 0s 4ms/step - loss: 6.6490 - mae: 6.6490\n",
      "Epoch 72/100\n",
      "10/10 [==============================] - 0s 4ms/step - loss: 6.4249 - mae: 6.4249\n",
      "Epoch 73/100\n",
      "10/10 [==============================] - 0s 4ms/step - loss: 6.4930 - mae: 6.4930\n",
      "Epoch 74/100\n",
      "10/10 [==============================] - 0s 4ms/step - loss: 6.4471 - mae: 6.4471\n",
      "Epoch 75/100\n",
      "10/10 [==============================] - 0s 4ms/step - loss: 6.5212 - mae: 6.5212\n",
      "Epoch 76/100\n",
      "10/10 [==============================] - 0s 4ms/step - loss: 6.3627 - mae: 6.3627\n",
      "Epoch 77/100\n",
      "10/10 [==============================] - 0s 4ms/step - loss: 6.6603 - mae: 6.6603\n",
      "Epoch 78/100\n",
      "10/10 [==============================] - 0s 4ms/step - loss: 6.5009 - mae: 6.5009\n",
      "Epoch 79/100\n",
      "10/10 [==============================] - 0s 4ms/step - loss: 6.5880 - mae: 6.5880\n",
      "Epoch 80/100\n",
      "10/10 [==============================] - 0s 4ms/step - loss: 6.5016 - mae: 6.5016\n",
      "Epoch 81/100\n",
      "10/10 [==============================] - 0s 4ms/step - loss: 6.6418 - mae: 6.6418\n",
      "Epoch 82/100\n",
      "10/10 [==============================] - 0s 5ms/step - loss: 6.5068 - mae: 6.5068\n",
      "Epoch 83/100\n",
      "10/10 [==============================] - 0s 4ms/step - loss: 6.4752 - mae: 6.4752\n",
      "Epoch 84/100\n",
      "10/10 [==============================] - 0s 4ms/step - loss: 6.5096 - mae: 6.5096\n",
      "Epoch 85/100\n",
      "10/10 [==============================] - 0s 4ms/step - loss: 6.5142 - mae: 6.5142\n",
      "Epoch 86/100\n",
      "10/10 [==============================] - 0s 4ms/step - loss: 6.7621 - mae: 6.7621\n",
      "Epoch 87/100\n",
      "10/10 [==============================] - 0s 4ms/step - loss: 6.5396 - mae: 6.5396\n",
      "Epoch 88/100\n",
      "10/10 [==============================] - 0s 4ms/step - loss: 6.9349 - mae: 6.9349\n",
      "Epoch 89/100\n",
      "10/10 [==============================] - 0s 4ms/step - loss: 6.4901 - mae: 6.4901\n",
      "Epoch 90/100\n",
      "10/10 [==============================] - 0s 4ms/step - loss: 6.6510 - mae: 6.6510\n",
      "Epoch 91/100\n",
      "10/10 [==============================] - 0s 5ms/step - loss: 6.5925 - mae: 6.5925\n",
      "Epoch 92/100\n",
      "10/10 [==============================] - 0s 4ms/step - loss: 6.5194 - mae: 6.5194\n",
      "Epoch 93/100\n",
      "10/10 [==============================] - 0s 4ms/step - loss: 6.8956 - mae: 6.8956\n",
      "Epoch 94/100\n",
      "10/10 [==============================] - 0s 4ms/step - loss: 6.4346 - mae: 6.4346\n",
      "Epoch 95/100\n",
      "10/10 [==============================] - 0s 4ms/step - loss: 6.4739 - mae: 6.4739\n",
      "Epoch 96/100\n",
      "10/10 [==============================] - 0s 4ms/step - loss: 6.9038 - mae: 6.9038\n",
      "Epoch 97/100\n",
      "10/10 [==============================] - 0s 4ms/step - loss: 6.5438 - mae: 6.5438\n",
      "Epoch 98/100\n",
      "10/10 [==============================] - 0s 4ms/step - loss: 6.5112 - mae: 6.5112\n",
      "Epoch 99/100\n",
      "10/10 [==============================] - 0s 4ms/step - loss: 6.4597 - mae: 6.4597\n",
      "Epoch 100/100\n",
      "10/10 [==============================] - 0s 4ms/step - loss: 6.5455 - mae: 6.5455\n"
     ]
    },
    {
     "data": {
      "text/plain": "<Figure size 640x480 with 1 Axes>",
      "image/png": "[encoded data removed]"
     },
     "metadata": {},
     "output_type": "display_data"
    },
    {
     "name": "stdout",
     "output_type": "stream",
     "text": [
      "10/10 - 0s - loss: 6.7642 - mae: 6.7642 - 88ms/epoch - 9ms/step\n",
      "{'linear regression': [67.99369049072266, 67.99369049072266], 'multilinear regression': [79401.4921875, 79401.4921875], 'DNN': [6.76416015625, 6.76416015625]}\n"
     ]
    }
   ],
   "source": [
    "# fit the model\n",
    "model.fit(multilinear_features, train_labels, epochs=100, callbacks=[tensorboard_callback])\n",
    "\n",
    "# plot the evolution of the loss function\n",
    "plt.plot(model.history.history['loss'])\n",
    "plt.xlabel('Epochs')\n",
    "plt.ylabel('Loss')\n",
    "plt.show()\n",
    "\n",
    "# evaluate the model\n",
    "results['DNN'] = model.evaluate(multilinear_features, train_labels, verbose=2)\n",
    "\n",
    "# print the results\n",
    "print(results)"
   ],
   "metadata": {
    "collapsed": false,
    "ExecuteTime": {
     "start_time": "2023-04-14T11:53:57.743251Z",
     "end_time": "2023-04-14T11:54:02.797980Z"
    }
   }
  },
  {
   "cell_type": "markdown",
   "metadata": {
    "id": "lAMyVFvra5ZD"
   },
   "source": [
    "# 5. Logistic regression model "
   ]
  },
  {
   "cell_type": "markdown",
   "metadata": {
    "id": "tmXH4BwrgrT8"
   },
   "source": [
    "After having performed our model benchmark on a regression task, we will now address a binary classification task using a logistic regression model."
   ]
  },
  {
   "cell_type": "markdown",
   "metadata": {
    "id": "yVQ9Yn_lqlsZ"
   },
   "source": [
    "**Question 5.1**: let's start building a dataset suited for this classification task. From the variable `Cylinders`, build a new binary variable with a value of 0 for cylinders values inferior to 5, and 1 otherwise"
   ]
  },
  {
   "cell_type": "code",
   "execution_count": 24,
   "outputs": [],
   "source": [
    "# build a binary variable from the variable Cylinders\n",
    "binary_cylinders = np.where(train_features['Cylinders'] < 5, 0, 1)"
   ],
   "metadata": {
    "collapsed": false,
    "ExecuteTime": {
     "start_time": "2023-04-14T11:54:02.797454Z",
     "end_time": "2023-04-14T11:54:02.800489Z"
    }
   }
  },
  {
   "cell_type": "markdown",
   "metadata": {
    "id": "zFLPUjiHvLsb"
   },
   "source": [
    "**Question 5.2**: based on the neural network architecture of a linear regression model (part 2), build a neural network architecture performing a logistic regression model\n",
    "\n",
    "*tips : think about the neuron activation*"
   ]
  },
  {
   "cell_type": "code",
   "execution_count": 25,
   "outputs": [],
   "source": [
    "# build the model\n",
    "model = tf.keras.Sequential([\n",
    "    tf.keras.layers.Dense(units=1, activation='sigmoid')\n",
    "])\n"
   ],
   "metadata": {
    "collapsed": false,
    "ExecuteTime": {
     "start_time": "2023-04-14T11:54:02.802352Z",
     "end_time": "2023-04-14T11:54:02.804351Z"
    }
   }
  },
  {
   "cell_type": "markdown",
   "metadata": {
    "id": "lDxWnxsevxSE"
   },
   "source": [
    "**Question 5.3**: compile and fit your model with the proper [loss](https://keras.io/api/losses/), and visualize the evolutions of loss and accuracy metrics"
   ]
  },
  {
   "cell_type": "code",
   "execution_count": 26,
   "outputs": [
    {
     "name": "stdout",
     "output_type": "stream",
     "text": [
      "Epoch 1/100\n",
      "10/10 [==============================] - 0s 8ms/step - loss: 11.9033 - accuracy: 0.5191\n",
      "Epoch 2/100\n",
      "10/10 [==============================] - 0s 5ms/step - loss: 14.7476 - accuracy: 0.4682\n",
      "Epoch 3/100\n",
      "10/10 [==============================] - 0s 5ms/step - loss: 11.1343 - accuracy: 0.5127\n",
      "Epoch 4/100\n",
      "10/10 [==============================] - 0s 5ms/step - loss: 13.3144 - accuracy: 0.4809\n",
      "Epoch 5/100\n",
      "10/10 [==============================] - 0s 5ms/step - loss: 12.4783 - accuracy: 0.5064\n",
      "Epoch 6/100\n",
      "10/10 [==============================] - 0s 5ms/step - loss: 11.2760 - accuracy: 0.5318\n",
      "Epoch 7/100\n",
      "10/10 [==============================] - 0s 5ms/step - loss: 14.9623 - accuracy: 0.4618\n",
      "Epoch 8/100\n",
      "10/10 [==============================] - 0s 5ms/step - loss: 13.3533 - accuracy: 0.4936\n",
      "Epoch 9/100\n",
      "10/10 [==============================] - 0s 5ms/step - loss: 14.0453 - accuracy: 0.4936\n",
      "Epoch 10/100\n",
      "10/10 [==============================] - 0s 4ms/step - loss: 16.0913 - accuracy: 0.4108\n",
      "Epoch 11/100\n",
      "10/10 [==============================] - 0s 4ms/step - loss: 13.3124 - accuracy: 0.4936\n",
      "Epoch 12/100\n",
      "10/10 [==============================] - 0s 5ms/step - loss: 10.5743 - accuracy: 0.5000\n",
      "Epoch 13/100\n",
      "10/10 [==============================] - 0s 4ms/step - loss: 12.6197 - accuracy: 0.4873\n",
      "Epoch 14/100\n",
      "10/10 [==============================] - 0s 5ms/step - loss: 13.0697 - accuracy: 0.5127\n",
      "Epoch 15/100\n",
      "10/10 [==============================] - 0s 4ms/step - loss: 12.8329 - accuracy: 0.4873\n",
      "Epoch 16/100\n",
      "10/10 [==============================] - 0s 4ms/step - loss: 12.9471 - accuracy: 0.4936\n",
      "Epoch 17/100\n",
      "10/10 [==============================] - 0s 4ms/step - loss: 10.3773 - accuracy: 0.5510\n",
      "Epoch 18/100\n",
      "10/10 [==============================] - 0s 4ms/step - loss: 12.3964 - accuracy: 0.5064\n",
      "Epoch 19/100\n",
      "10/10 [==============================] - 0s 4ms/step - loss: 8.4532 - accuracy: 0.5573\n",
      "Epoch 20/100\n",
      "10/10 [==============================] - 0s 4ms/step - loss: 12.2488 - accuracy: 0.5191\n",
      "Epoch 21/100\n",
      "10/10 [==============================] - 0s 5ms/step - loss: 14.5199 - accuracy: 0.4745\n",
      "Epoch 22/100\n",
      "10/10 [==============================] - 0s 5ms/step - loss: 11.1959 - accuracy: 0.5255\n",
      "Epoch 23/100\n",
      "10/10 [==============================] - 0s 4ms/step - loss: 14.0930 - accuracy: 0.4809\n",
      "Epoch 24/100\n",
      "10/10 [==============================] - 0s 4ms/step - loss: 10.4914 - accuracy: 0.5032\n",
      "Epoch 25/100\n",
      "10/10 [==============================] - 0s 5ms/step - loss: 14.1755 - accuracy: 0.4745\n",
      "Epoch 26/100\n",
      "10/10 [==============================] - 0s 4ms/step - loss: 16.8619 - accuracy: 0.4618\n",
      "Epoch 27/100\n",
      "10/10 [==============================] - 0s 4ms/step - loss: 11.1111 - accuracy: 0.5382\n",
      "Epoch 28/100\n",
      "10/10 [==============================] - 0s 4ms/step - loss: 13.2410 - accuracy: 0.4618\n",
      "Epoch 29/100\n",
      "10/10 [==============================] - 0s 4ms/step - loss: 12.0612 - accuracy: 0.5255\n",
      "Epoch 30/100\n",
      "10/10 [==============================] - 0s 5ms/step - loss: 13.2873 - accuracy: 0.4745\n",
      "Epoch 31/100\n",
      "10/10 [==============================] - 0s 4ms/step - loss: 13.4192 - accuracy: 0.5064\n",
      "Epoch 32/100\n",
      "10/10 [==============================] - 0s 4ms/step - loss: 15.6999 - accuracy: 0.4427\n",
      "Epoch 33/100\n",
      "10/10 [==============================] - 0s 4ms/step - loss: 13.0850 - accuracy: 0.5064\n",
      "Epoch 34/100\n",
      "10/10 [==============================] - 0s 4ms/step - loss: 12.6793 - accuracy: 0.5191\n",
      "Epoch 35/100\n",
      "10/10 [==============================] - 0s 5ms/step - loss: 11.5624 - accuracy: 0.5510\n",
      "Epoch 36/100\n",
      "10/10 [==============================] - 0s 5ms/step - loss: 19.5239 - accuracy: 0.4045\n",
      "Epoch 37/100\n",
      "10/10 [==============================] - 0s 4ms/step - loss: 14.1430 - accuracy: 0.4745\n",
      "Epoch 38/100\n",
      "10/10 [==============================] - 0s 4ms/step - loss: 14.3648 - accuracy: 0.4618\n",
      "Epoch 39/100\n",
      "10/10 [==============================] - 0s 5ms/step - loss: 13.9781 - accuracy: 0.4682\n",
      "Epoch 40/100\n",
      "10/10 [==============================] - 0s 4ms/step - loss: 13.1485 - accuracy: 0.4936\n",
      "Epoch 41/100\n",
      "10/10 [==============================] - 0s 4ms/step - loss: 12.2397 - accuracy: 0.5064\n",
      "Epoch 42/100\n",
      "10/10 [==============================] - 0s 4ms/step - loss: 11.7202 - accuracy: 0.5127\n",
      "Epoch 43/100\n",
      "10/10 [==============================] - 0s 4ms/step - loss: 12.8646 - accuracy: 0.5000\n",
      "Epoch 44/100\n",
      "10/10 [==============================] - 0s 5ms/step - loss: 13.3297 - accuracy: 0.4873\n",
      "Epoch 45/100\n",
      "10/10 [==============================] - 0s 4ms/step - loss: 10.9234 - accuracy: 0.5318\n",
      "Epoch 46/100\n",
      "10/10 [==============================] - 0s 4ms/step - loss: 14.9230 - accuracy: 0.4873\n",
      "Epoch 47/100\n",
      "10/10 [==============================] - 0s 4ms/step - loss: 15.1169 - accuracy: 0.4936\n",
      "Epoch 48/100\n",
      "10/10 [==============================] - 0s 4ms/step - loss: 12.6311 - accuracy: 0.4936\n",
      "Epoch 49/100\n",
      "10/10 [==============================] - 0s 4ms/step - loss: 13.5863 - accuracy: 0.4809\n",
      "Epoch 50/100\n",
      "10/10 [==============================] - 0s 4ms/step - loss: 14.4655 - accuracy: 0.4936\n",
      "Epoch 51/100\n",
      "10/10 [==============================] - 0s 4ms/step - loss: 11.8627 - accuracy: 0.4873\n",
      "Epoch 52/100\n",
      "10/10 [==============================] - 0s 4ms/step - loss: 14.9512 - accuracy: 0.4873\n",
      "Epoch 53/100\n",
      "10/10 [==============================] - 0s 4ms/step - loss: 13.0677 - accuracy: 0.5000\n",
      "Epoch 54/100\n",
      "10/10 [==============================] - 0s 4ms/step - loss: 11.4379 - accuracy: 0.5191\n",
      "Epoch 55/100\n",
      "10/10 [==============================] - 0s 5ms/step - loss: 13.7273 - accuracy: 0.5064\n",
      "Epoch 56/100\n",
      "10/10 [==============================] - 0s 5ms/step - loss: 12.0109 - accuracy: 0.5064\n",
      "Epoch 57/100\n",
      "10/10 [==============================] - 0s 5ms/step - loss: 11.0604 - accuracy: 0.5255\n",
      "Epoch 58/100\n",
      "10/10 [==============================] - 0s 4ms/step - loss: 12.8784 - accuracy: 0.4682\n",
      "Epoch 59/100\n",
      "10/10 [==============================] - 0s 4ms/step - loss: 12.8909 - accuracy: 0.4809\n",
      "Epoch 60/100\n",
      "10/10 [==============================] - 0s 4ms/step - loss: 12.8250 - accuracy: 0.5000\n",
      "Epoch 61/100\n",
      "10/10 [==============================] - 0s 4ms/step - loss: 13.4282 - accuracy: 0.5000\n",
      "Epoch 62/100\n",
      "10/10 [==============================] - 0s 5ms/step - loss: 9.2246 - accuracy: 0.5541\n",
      "Epoch 63/100\n",
      "10/10 [==============================] - 0s 5ms/step - loss: 13.9702 - accuracy: 0.4618\n",
      "Epoch 64/100\n",
      "10/10 [==============================] - 0s 5ms/step - loss: 11.9663 - accuracy: 0.5127\n",
      "Epoch 65/100\n",
      "10/10 [==============================] - 0s 4ms/step - loss: 14.9181 - accuracy: 0.4745\n",
      "Epoch 66/100\n",
      "10/10 [==============================] - 0s 4ms/step - loss: 12.7223 - accuracy: 0.4809\n",
      "Epoch 67/100\n",
      "10/10 [==============================] - 0s 5ms/step - loss: 11.2789 - accuracy: 0.4968\n",
      "Epoch 68/100\n",
      "10/10 [==============================] - 0s 4ms/step - loss: 15.9647 - accuracy: 0.4363\n",
      "Epoch 69/100\n",
      "10/10 [==============================] - 0s 4ms/step - loss: 13.2187 - accuracy: 0.4809\n",
      "Epoch 70/100\n",
      "10/10 [==============================] - 0s 4ms/step - loss: 11.4518 - accuracy: 0.5446\n",
      "Epoch 71/100\n",
      "10/10 [==============================] - 0s 4ms/step - loss: 13.3901 - accuracy: 0.4809\n",
      "Epoch 72/100\n",
      "10/10 [==============================] - 0s 5ms/step - loss: 10.6412 - accuracy: 0.5446\n",
      "Epoch 73/100\n",
      "10/10 [==============================] - 0s 4ms/step - loss: 11.2608 - accuracy: 0.5573\n",
      "Epoch 74/100\n",
      "10/10 [==============================] - 0s 4ms/step - loss: 10.6574 - accuracy: 0.5255\n",
      "Epoch 75/100\n",
      "10/10 [==============================] - 0s 5ms/step - loss: 16.8876 - accuracy: 0.4554\n",
      "Epoch 76/100\n",
      "10/10 [==============================] - 0s 4ms/step - loss: 16.2120 - accuracy: 0.4554\n",
      "Epoch 77/100\n",
      "10/10 [==============================] - 0s 4ms/step - loss: 13.7472 - accuracy: 0.4873\n",
      "Epoch 78/100\n",
      "10/10 [==============================] - 0s 5ms/step - loss: 12.4016 - accuracy: 0.5064\n",
      "Epoch 79/100\n",
      "10/10 [==============================] - 0s 5ms/step - loss: 13.0476 - accuracy: 0.4873\n",
      "Epoch 80/100\n",
      "10/10 [==============================] - 0s 5ms/step - loss: 10.8864 - accuracy: 0.5255\n",
      "Epoch 81/100\n",
      "10/10 [==============================] - 0s 4ms/step - loss: 13.0996 - accuracy: 0.5000\n",
      "Epoch 82/100\n",
      "10/10 [==============================] - 0s 4ms/step - loss: 10.7704 - accuracy: 0.5318\n",
      "Epoch 83/100\n",
      "10/10 [==============================] - 0s 5ms/step - loss: 13.4029 - accuracy: 0.4936\n",
      "Epoch 84/100\n",
      "10/10 [==============================] - 0s 4ms/step - loss: 13.7315 - accuracy: 0.4745\n",
      "Epoch 85/100\n",
      "10/10 [==============================] - 0s 4ms/step - loss: 14.0541 - accuracy: 0.4745\n",
      "Epoch 86/100\n",
      "10/10 [==============================] - 0s 5ms/step - loss: 11.9417 - accuracy: 0.5127\n",
      "Epoch 87/100\n",
      "10/10 [==============================] - 0s 5ms/step - loss: 12.8024 - accuracy: 0.4873\n",
      "Epoch 88/100\n",
      "10/10 [==============================] - 0s 5ms/step - loss: 12.9090 - accuracy: 0.5000\n",
      "Epoch 89/100\n",
      "10/10 [==============================] - 0s 5ms/step - loss: 14.6919 - accuracy: 0.4682\n",
      "Epoch 90/100\n",
      "10/10 [==============================] - 0s 4ms/step - loss: 12.2936 - accuracy: 0.4873\n",
      "Epoch 91/100\n",
      "10/10 [==============================] - 0s 4ms/step - loss: 12.1886 - accuracy: 0.5064\n",
      "Epoch 92/100\n",
      "10/10 [==============================] - 0s 4ms/step - loss: 10.6898 - accuracy: 0.5159\n",
      "Epoch 93/100\n",
      "10/10 [==============================] - 0s 5ms/step - loss: 12.2388 - accuracy: 0.4936\n",
      "Epoch 94/100\n",
      "10/10 [==============================] - 0s 5ms/step - loss: 13.7304 - accuracy: 0.4713\n",
      "Epoch 95/100\n",
      "10/10 [==============================] - 0s 5ms/step - loss: 13.2019 - accuracy: 0.4745\n",
      "Epoch 96/100\n",
      "10/10 [==============================] - 0s 4ms/step - loss: 10.3616 - accuracy: 0.5446\n",
      "Epoch 97/100\n",
      "10/10 [==============================] - 0s 4ms/step - loss: 10.6404 - accuracy: 0.5382\n",
      "Epoch 98/100\n",
      "10/10 [==============================] - 0s 5ms/step - loss: 13.7262 - accuracy: 0.4682\n",
      "Epoch 99/100\n",
      "10/10 [==============================] - 0s 5ms/step - loss: 10.1534 - accuracy: 0.5732\n",
      "Epoch 100/100\n",
      "10/10 [==============================] - 0s 5ms/step - loss: 11.0979 - accuracy: 0.5064\n"
     ]
    },
    {
     "data": {
      "text/plain": "<Figure size 640x480 with 1 Axes>",
      "image/png": "[encoded data removed]"
     },
     "metadata": {},
     "output_type": "display_data"
    },
    {
     "name": "stdout",
     "output_type": "stream",
     "text": [
      "10/10 - 0s - loss: 18.8487 - accuracy: 0.5127 - 110ms/epoch - 11ms/step\n",
      "{'linear regression': [67.99369049072266, 67.99369049072266], 'multilinear regression': [79401.4921875, 79401.4921875], 'DNN': [6.76416015625, 6.76416015625], 'logistic regression': [18.84871482849121, 0.5127388834953308]}\n"
     ]
    }
   ],
   "source": [
    "# compile the model\n",
    "model.compile(optimizer='sgd',\n",
    "              loss='binary_crossentropy',\n",
    "              metrics=['accuracy'])\n",
    "\n",
    "# fit the model\n",
    "model.fit(horsepower, binary_cylinders, epochs=100, callbacks=[tensorboard_callback])\n",
    "\n",
    "# plot the evolution of the loss function\n",
    "plt.plot(model.history.history['loss'])\n",
    "plt.xlabel('Epochs')\n",
    "plt.ylabel('Loss')\n",
    "plt.show()\n",
    "\n",
    "# evaluate the model\n",
    "results['logistic regression'] = model.evaluate(horsepower, binary_cylinders, verbose=2)\n",
    "\n",
    "# print the results\n",
    "print(results)"
   ],
   "metadata": {
    "collapsed": false,
    "ExecuteTime": {
     "start_time": "2023-04-14T11:54:02.807230Z",
     "end_time": "2023-04-14T11:54:07.943781Z"
    }
   }
  },
  {
   "cell_type": "markdown",
   "metadata": {
    "id": "e-yZ4AkcuY_5"
   },
   "source": [
    "# 6. Visualizing model graphs with tensorboard (optional)"
   ]
  },
  {
   "cell_type": "code",
   "execution_count": 27,
   "outputs": [],
   "source": [
    "#%load_ext tensorboard"
   ],
   "metadata": {
    "collapsed": false,
    "ExecuteTime": {
     "start_time": "2023-04-14T11:54:07.945093Z",
     "end_time": "2023-04-14T11:54:07.946868Z"
    }
   }
  },
  {
   "cell_type": "markdown",
   "metadata": {
    "id": "tDGN-mlwuiC2"
   },
   "source": [
    "**Question 6:** use [tensorboard](https://www.tensorflow.org/tensorboard/graphs) to examine the graph of your last model"
   ]
  },
  {
   "cell_type": "markdown",
   "source": [
    "1) on écrit les logs dans le dossier `logs`"
   ],
   "metadata": {
    "collapsed": false
   }
  },
  {
   "cell_type": "code",
   "execution_count": 28,
   "outputs": [],
   "source": [
    "#%tensorboard --logdir logs"
   ],
   "metadata": {
    "collapsed": false,
    "ExecuteTime": {
     "start_time": "2023-04-14T11:54:07.947011Z",
     "end_time": "2023-04-14T11:54:07.978934Z"
    }
   }
  },
  {
   "cell_type": "markdown",
   "source": [
    "2) on publie le lien vers le dashboard tensorboard\n",
    "```bash\n",
    "$> ! tensorboard dev upload --logdir logs --name \"name\" --one_shot\n",
    "```\n"
   ],
   "metadata": {
    "collapsed": false
   }
  }
 ],
 "metadata": {
  "@webio": {
   "lastCommId": null,
   "lastKernelId": null
  },
  "colab": {
   "collapsed_sections": [
    "Sd23-3AbPiwF",
    "DNquB6IzUH1c",
    "KQS0eklsW9cd",
    "kpcYeLok5xZM",
    "lAMyVFvra5ZD",
    "e-yZ4AkcuY_5"
   ],
   "name": "TP4.ipynb",
   "provenance": []
  },
  "kernelspec": {
   "display_name": "Python 3",
   "language": "python",
   "name": "python3"
  },
  "language_info": {
   "codemirror_mode": {
    "name": "ipython",
    "version": 3
   },
   "file_extension": ".py",
   "mimetype": "text/x-python",
   "name": "python",
   "nbconvert_exporter": "python",
   "pygments_lexer": "ipython3",
   "version": "3.8.8"
  }
 },
 "nbformat": 4,
 "nbformat_minor": 1
}
