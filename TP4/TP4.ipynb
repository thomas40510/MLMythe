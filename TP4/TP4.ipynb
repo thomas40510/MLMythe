{
 "cells": [
  {
   "cell_type": "markdown",
   "metadata": {
    "id": "8HyF889xO8fp"
   },
   "source": [
    "# **TP4 : premiers vers les réseaux de neurones profonds**\n"
   ]
  },
  {
   "cell_type": "markdown",
   "metadata": {
    "id": "sWOuGHYGPKwC"
   },
   "source": [
    "# Context & Objectives\n",
    "\n",
    "In this TP, we propose to reformulate linear and logistic regression models as one-layered neural networks, and implement them in [Tensorflow](https://www.tensorflow.org/?hl=fr). We will also benchmark performance of several models, from a simple linear regression to a fully-connected deep learning model. \n",
    "\n"
   ]
  },
  {
   "cell_type": "markdown",
   "metadata": {
    "id": "A7jkmmFUgsGg"
   },
   "source": [
    "We will be using the AUTO-MPG dataset, downloaded as follows:"
   ]
  },
  {
   "cell_type": "code",
   "execution_count": 22,
   "metadata": {
    "ExecuteTime": {
     "start_time": "2023-04-12T21:56:30.324813Z",
     "end_time": "2023-04-12T21:56:30.396707Z"
    }
   },
   "outputs": [],
   "source": [
    "import matplotlib.pyplot as plt\n",
    "import numpy as np\n",
    "import pandas as pd\n",
    "import seaborn as sns"
   ]
  },
  {
   "cell_type": "code",
   "execution_count": 23,
   "metadata": {
    "ExecuteTime": {
     "start_time": "2023-04-12T21:56:30.329004Z",
     "end_time": "2023-04-12T21:56:30.397179Z"
    }
   },
   "outputs": [],
   "source": [
    "import tensorflow as tf"
   ]
  },
  {
   "cell_type": "code",
   "execution_count": 24,
   "metadata": {
    "ExecuteTime": {
     "start_time": "2023-04-12T21:56:30.397462Z",
     "end_time": "2023-04-12T21:56:30.397505Z"
    }
   },
   "outputs": [
    {
     "name": "stdout",
     "output_type": "stream",
     "text": [
      "2.12.0\n"
     ]
    }
   ],
   "source": [
    "from tensorflow import keras\n",
    "from tensorflow.keras import layers\n",
    "\n",
    "print(tf.__version__)"
   ]
  },
  {
   "cell_type": "code",
   "execution_count": null,
   "metadata": {
    "colab": {
     "base_uri": "https://localhost:8080/"
    },
    "id": "pyxsY7VtFGqV",
    "outputId": "f969fe83-04e2-49da-edd5-c787a040e41a",
    "ExecuteTime": {
     "start_time": "2023-04-12T21:51:54.177174Z",
     "end_time": "2023-04-12T21:51:54.310057Z"
    },
    "pycharm": {
     "is_executing": true
    }
   },
   "outputs": [
    {
     "name": "stdout",
     "output_type": "stream",
     "text": [
      "The tensorboard extension is already loaded. To reload it, use:\n",
      "  %reload_ext tensorboard\n",
      "TensorFlow version:  2.12.0\n"
     ]
    }
   ],
   "source": [
    "# Load the TensorBoard notebook extension.\n",
    "%load_ext tensorboard\n",
    "\n",
    "from datetime import datetime\n",
    "from packaging import version\n",
    "\n",
    "import tensorflow as tf\n",
    "from tensorflow import keras\n",
    "\n",
    "print(\"TensorFlow version: \", tf.__version__)\n",
    "assert version.parse(tf.__version__).release[0] >= 2, \\\n",
    "    \"This notebook requires TensorFlow 2.0 or above.\"\n",
    "\n",
    "import tensorboard\n",
    "tensorboard.__version__\n",
    "\n",
    "# Clear any logs from previous runs\n",
    "! rm -rf ./logs/\n",
    "\n",
    "# Define the Keras TensorBoard callback.\n",
    "logdir=\"logs/fit/\" + datetime.now().strftime(\"%Y%m%d-%H%M%S\")\n",
    "tensorboard_callback = keras.callbacks.TensorBoard(log_dir=logdir)"
   ]
  },
  {
   "cell_type": "code",
   "execution_count": null,
   "metadata": {
    "colab": {
     "base_uri": "https://localhost:8080/"
    },
    "id": "2wucxMaUv5q2",
    "outputId": "c5c28d6f-721f-47db-9762-b8337a02e5f8",
    "ExecuteTime": {
     "start_time": "2023-04-12T21:51:55.702036Z",
     "end_time": "2023-04-12T21:51:56.721732Z"
    },
    "pycharm": {
     "is_executing": true
    }
   },
   "outputs": [
    {
     "data": {
      "text/plain": "(398, 8)"
     },
     "execution_count": 26,
     "metadata": {},
     "output_type": "execute_result"
    }
   ],
   "source": [
    "url = 'http://archive.ics.uci.edu/ml/machine-learning-databases/auto-mpg/auto-mpg.data'\n",
    "column_names = ['MPG', 'Cylinders', 'Displacement', 'Horsepower', 'Weight',\n",
    "                'Acceleration', 'Model Year', 'Origin']\n",
    "\n",
    "raw_dataset = pd.read_csv(url, names=column_names,\n",
    "                          na_values='?', comment='\\t',\n",
    "                          sep=' ', skipinitialspace=True)\n",
    "\n",
    "dataset = raw_dataset.copy()\n",
    "\n",
    "dataset.tail()\n",
    "dataset.shape"
   ]
  },
  {
   "cell_type": "code",
   "execution_count": null,
   "metadata": {
    "colab": {
     "base_uri": "https://localhost:8080/",
     "height": 300
    },
    "id": "SvIvpsIlL1F2",
    "outputId": "07880236-086f-4382-b5a1-318f921a99be",
    "ExecuteTime": {
     "start_time": "2023-04-12T21:51:58.797456Z",
     "end_time": "2023-04-12T21:51:58.835740Z"
    },
    "pycharm": {
     "is_executing": true
    }
   },
   "outputs": [
    {
     "data": {
      "text/plain": "                     mean         std\nMPG             23.514573    7.815984\nCylinders        5.454774    1.701004\nDisplacement   193.425879  104.269838\nHorsepower     104.469388   38.491160\nWeight        2970.424623  846.841774\nAcceleration    15.568090    2.757689\nModel Year      76.010050    3.697627\nOrigin           1.572864    0.802055",
      "text/html": "<div>\n<style scoped>\n    .dataframe tbody tr th:only-of-type {\n        vertical-align: middle;\n    }\n\n    .dataframe tbody tr th {\n        vertical-align: top;\n    }\n\n    .dataframe thead th {\n        text-align: right;\n    }\n</style>\n<table border=\"1\" class=\"dataframe\">\n  <thead>\n    <tr style=\"text-align: right;\">\n      <th></th>\n      <th>mean</th>\n      <th>std</th>\n    </tr>\n  </thead>\n  <tbody>\n    <tr>\n      <th>MPG</th>\n      <td>23.514573</td>\n      <td>7.815984</td>\n    </tr>\n    <tr>\n      <th>Cylinders</th>\n      <td>5.454774</td>\n      <td>1.701004</td>\n    </tr>\n    <tr>\n      <th>Displacement</th>\n      <td>193.425879</td>\n      <td>104.269838</td>\n    </tr>\n    <tr>\n      <th>Horsepower</th>\n      <td>104.469388</td>\n      <td>38.491160</td>\n    </tr>\n    <tr>\n      <th>Weight</th>\n      <td>2970.424623</td>\n      <td>846.841774</td>\n    </tr>\n    <tr>\n      <th>Acceleration</th>\n      <td>15.568090</td>\n      <td>2.757689</td>\n    </tr>\n    <tr>\n      <th>Model Year</th>\n      <td>76.010050</td>\n      <td>3.697627</td>\n    </tr>\n    <tr>\n      <th>Origin</th>\n      <td>1.572864</td>\n      <td>0.802055</td>\n    </tr>\n  </tbody>\n</table>\n</div>"
     },
     "execution_count": 27,
     "metadata": {},
     "output_type": "execute_result"
    }
   ],
   "source": [
    "dataset.describe().T[['mean', 'std']]"
   ]
  },
  {
   "cell_type": "markdown",
   "metadata": {
    "id": "Sd23-3AbPiwF"
   },
   "source": [
    "# 1. Dataset preparation"
   ]
  },
  {
   "cell_type": "markdown",
   "metadata": {
    "id": "HGCf5x85Pmyx"
   },
   "source": [
    "**Question 1.1 (BONUS, the solution is given..)** : using the pandas library, count and remove all NaN values. Also, the variable `Origin` refers to different countries, ie 1, 2 and 3 correspond to the country names 'USA', 'Europe' and 'Japan'. Replace these numerical values by these names. One-hot encode these values with [pd.get_dummies](https://pandas.pydata.org/docs/reference/api/pandas.get_dummies.html).\n"
   ]
  },
  {
   "cell_type": "code",
   "execution_count": null,
   "metadata": {
    "colab": {
     "base_uri": "https://localhost:8080/",
     "height": 423
    },
    "id": "BW20Tv4NP3WP",
    "outputId": "93cc4b39-a682-4f65-e438-821209009580",
    "ExecuteTime": {
     "start_time": "2023-04-12T21:52:02.801517Z",
     "end_time": "2023-04-12T21:52:02.807891Z"
    },
    "pycharm": {
     "is_executing": true
    }
   },
   "outputs": [
    {
     "data": {
      "text/plain": "     Europe  Japan  USA\n0         0      0    1\n1         0      0    1\n2         0      0    1\n3         0      0    1\n4         0      0    1\n..      ...    ...  ...\n393       0      0    1\n394       1      0    0\n395       0      0    1\n396       0      0    1\n397       0      0    1\n\n[398 rows x 3 columns]",
      "text/html": "<div>\n<style scoped>\n    .dataframe tbody tr th:only-of-type {\n        vertical-align: middle;\n    }\n\n    .dataframe tbody tr th {\n        vertical-align: top;\n    }\n\n    .dataframe thead th {\n        text-align: right;\n    }\n</style>\n<table border=\"1\" class=\"dataframe\">\n  <thead>\n    <tr style=\"text-align: right;\">\n      <th></th>\n      <th>Europe</th>\n      <th>Japan</th>\n      <th>USA</th>\n    </tr>\n  </thead>\n  <tbody>\n    <tr>\n      <th>0</th>\n      <td>0</td>\n      <td>0</td>\n      <td>1</td>\n    </tr>\n    <tr>\n      <th>1</th>\n      <td>0</td>\n      <td>0</td>\n      <td>1</td>\n    </tr>\n    <tr>\n      <th>2</th>\n      <td>0</td>\n      <td>0</td>\n      <td>1</td>\n    </tr>\n    <tr>\n      <th>3</th>\n      <td>0</td>\n      <td>0</td>\n      <td>1</td>\n    </tr>\n    <tr>\n      <th>4</th>\n      <td>0</td>\n      <td>0</td>\n      <td>1</td>\n    </tr>\n    <tr>\n      <th>...</th>\n      <td>...</td>\n      <td>...</td>\n      <td>...</td>\n    </tr>\n    <tr>\n      <th>393</th>\n      <td>0</td>\n      <td>0</td>\n      <td>1</td>\n    </tr>\n    <tr>\n      <th>394</th>\n      <td>1</td>\n      <td>0</td>\n      <td>0</td>\n    </tr>\n    <tr>\n      <th>395</th>\n      <td>0</td>\n      <td>0</td>\n      <td>1</td>\n    </tr>\n    <tr>\n      <th>396</th>\n      <td>0</td>\n      <td>0</td>\n      <td>1</td>\n    </tr>\n    <tr>\n      <th>397</th>\n      <td>0</td>\n      <td>0</td>\n      <td>1</td>\n    </tr>\n  </tbody>\n</table>\n<p>398 rows × 3 columns</p>\n</div>"
     },
     "execution_count": 28,
     "metadata": {},
     "output_type": "execute_result"
    }
   ],
   "source": [
    "# here is what a one-hot encoding looks like\n",
    "pd.get_dummies(dataset['Origin'].map({1: 'USA', 2: 'Europe', 3: 'Japan'}), columns=['Origin'], prefix='', prefix_sep='')"
   ]
  },
  {
   "cell_type": "code",
   "execution_count": null,
   "metadata": {
    "colab": {
     "base_uri": "https://localhost:8080/"
    },
    "id": "E2_2l-4GQdVl",
    "outputId": "91610831-f2c6-4cef-d854-ac3402a02261",
    "ExecuteTime": {
     "start_time": "2023-04-12T21:52:03.559735Z",
     "end_time": "2023-04-12T21:52:03.567207Z"
    },
    "pycharm": {
     "is_executing": true
    }
   },
   "outputs": [],
   "source": [
    "# just count the number of nans in the dataset\n",
    "number_nans = dataset.isna().sum()\n",
    "\n",
    "# remove all rows containing at least one nan\n",
    "dataset = dataset.dropna()\n",
    "\n",
    "# write the names of countries in the variable Origin\n",
    "dataset['Origin'] = dataset['Origin'].map({1: 'USA', 2: 'Europe', 3: 'Japan'})\n",
    "\n",
    "# perform one-hot encoding that replaces the variable Origin\n",
    "dataset = pd.get_dummies(dataset, columns=['Origin'], prefix='', prefix_sep='')"
   ]
  },
  {
   "cell_type": "markdown",
   "metadata": {
    "id": "1g30X5nyRLO2"
   },
   "source": [
    "**Question 1.2 (BONUS, the solution is given..)** : create the train/test partition with a ratio of 0.8/0.2, using the variable `MPG` as label vector.\n",
    "\n",
    "*tips : to keep working with pandas objects, you can use the [`sample`](https://pandas.pydata.org/pandas-docs/stable/reference/api/pandas.DataFrame.sample.html) method*"
   ]
  },
  {
   "cell_type": "code",
   "execution_count": null,
   "metadata": {
    "id": "yZuspU7zB366",
    "ExecuteTime": {
     "start_time": "2023-04-12T21:52:05.427664Z",
     "end_time": "2023-04-12T21:52:05.444463Z"
    },
    "pycharm": {
     "is_executing": true
    }
   },
   "outputs": [],
   "source": [
    "train_dataset = dataset.sample(frac=0.8, random_state=0)\n",
    "test_dataset = dataset.drop(train_dataset.index)\n",
    "\n",
    "train_features = train_dataset.copy()\n",
    "test_features = test_dataset.copy()\n",
    "\n",
    "train_labels = train_features.pop('MPG') # this will define train_labels as the column MPG of train_features while removing this column in train_features\n",
    "test_labels = test_features.pop('MPG')"
   ]
  },
  {
   "cell_type": "markdown",
   "metadata": {
    "id": "mQ1UnRr-S6v6"
   },
   "source": [
    "**Question 1.3**: create a numpy array `X` by normalizing your training features using [`tf.keras.layers.Normalization`](https://www.tensorflow.org/api_docs/python/tf/keras/layers/Normalization)\n",
    "\n",
    "In the following, we will not use this variable as this normalization will directly take the form of a neural network layer."
   ]
  },
  {
   "cell_type": "code",
   "execution_count": 31,
   "metadata": {
    "ExecuteTime": {
     "start_time": "2023-04-12T21:56:31.020470Z",
     "end_time": "2023-04-12T21:56:31.029361Z"
    }
   },
   "outputs": [],
   "source": [
    "# create a numpy array X by normalizing training features with tf\n",
    "X = tf.keras.layers.Normalization()(train_features)"
   ]
  },
  {
   "cell_type": "markdown",
   "metadata": {
    "id": "DNquB6IzUH1c"
   },
   "source": [
    "# 2. Linear regression model (using a neural network)\n",
    "\n"
   ]
  },
  {
   "cell_type": "markdown",
   "metadata": {
    "id": "YKdVUjuCUfNs"
   },
   "source": [
    "In this section we will try to predict the variable `MPG` with the single predictive variable `Horsepower`\n",
    "\n"
   ]
  },
  {
   "cell_type": "code",
   "execution_count": 32,
   "metadata": {
    "id": "DQvzwG6YUeLt",
    "ExecuteTime": {
     "start_time": "2023-04-12T21:56:31.030084Z",
     "end_time": "2023-04-12T21:56:31.032437Z"
    }
   },
   "outputs": [],
   "source": [
    "horsepower = np.array(train_features['Horsepower'])[:,np.newaxis]"
   ]
  },
  {
   "cell_type": "markdown",
   "metadata": {
    "id": "xlUrB-Y-Uawy"
   },
   "source": [
    "**Question 2.1**: build a neural network architecture for a linear regression using the `tf.keras.Sequential` tool. Re-use [`tf.keras.layers.Normalization`](https://www.tensorflow.org/api_docs/python/tf/keras/layers/Normalization) to integrate your normalization to the architecture. Visualize the model with the `summary()` method and comment output shapes and numbers of parameters."
   ]
  },
  {
   "cell_type": "markdown",
   "metadata": {
    "id": "g0yC_qQ4VWov"
   },
   "source": [
    "**Question 2.2**: [compile](https://www.tensorflow.org/api_docs/python/tf/keras/Model#compile) the model using a Stochastic Gradient Descent optimizer and a Mean Absolute Error both as loss and accuracy metric. [Fit](https://www.tensorflow.org/api_docs/python/tf/keras/Model#fit) it to your data."
   ]
  },
  {
   "cell_type": "markdown",
   "metadata": {
    "id": "EufH4DTBVsSn"
   },
   "source": [
    "**Question 2.3**: visualize the evolution of your loss function"
   ]
  },
  {
   "cell_type": "markdown",
   "metadata": {
    "id": "NgXpZlUNWGRz"
   },
   "source": [
    "**Question 2.4**: plot the regression line on your data \n",
    "\n",
    "*tips : two possible solutions, 1) based on your model predictions with the method using [predict](https://www.tensorflow.org/api_docs/python/tf/keras/Model#predict), 2) based on your model coefficients using [get_weights](https://www.tensorflow.org/api_docs/python/tf/keras/layers/Layer#get_weights)*\n"
   ]
  },
  {
   "cell_type": "markdown",
   "metadata": {
    "id": "d5fDH33smZ-O"
   },
   "source": [
    "**Question 2.5**: [evaluate](https://www.tensorflow.org/api_docs/python/tf/keras/Model#evaluate) your performance model, and store them into a dictionary having model names as keys"
   ]
  },
  {
   "cell_type": "markdown",
   "metadata": {
    "id": "KQS0eklsW9cd"
   },
   "source": [
    "# 3. Multilinear regression model (using a neural network)"
   ]
  },
  {
   "cell_type": "markdown",
   "metadata": {
    "id": "zyxYzK8cpmuH"
   },
   "source": [
    "**Question 3.1**: answer all previous questions for a multilinear regression model taking as inputs all available variables. Comment optimization and performance results."
   ]
  },
  {
   "cell_type": "markdown",
   "metadata": {
    "id": "kpcYeLok5xZM"
   },
   "source": [
    "# 4. Fully-connected multi-layer neural network model"
   ]
  },
  {
   "cell_type": "markdown",
   "metadata": {
    "id": "A2JoIAjU6KvY"
   },
   "source": [
    "**Question 4.1**: write a function `def build_and_compile_model(input, nber_layer, nber_neurons_per_layer, activation):` able to build a fully-connected multi-layer neural network architecture with `nber_layer` layers, each containing `nber_neurons_per_layer` neurons with an activaton stored in the list `activation`."
   ]
  },
  {
   "cell_type": "markdown",
   "metadata": {
    "id": "aOqrOm7wCYYl"
   },
   "source": [
    "**Question 4.2**: using this fonction, build and compile a DNN model with two layers of 64 and 32 neurons with `relu` activations to predict MPG from all other variables"
   ]
  },
  {
   "cell_type": "markdown",
   "metadata": {
    "id": "gclbtX7hpkaz"
   },
   "source": [
    "**Question 4.3**: display a result table showing the MAE for the two models"
   ]
  },
  {
   "cell_type": "markdown",
   "metadata": {
    "id": "lAMyVFvra5ZD"
   },
   "source": [
    "# 5. Logistic regression model "
   ]
  },
  {
   "cell_type": "markdown",
   "metadata": {
    "id": "tmXH4BwrgrT8"
   },
   "source": [
    "After having performed our model benchmark on a regression task, we will now address a binary classification task using a logistic regression model."
   ]
  },
  {
   "cell_type": "markdown",
   "metadata": {
    "id": "yVQ9Yn_lqlsZ"
   },
   "source": [
    "**Question 5.1**: let's start building a dataset suited for this classification task. From the variable `Cylinders`, build a new binary variable with a value of 0 for cylinders values inferior to 5, and 1 otherwise"
   ]
  },
  {
   "cell_type": "markdown",
   "metadata": {
    "id": "zFLPUjiHvLsb"
   },
   "source": [
    "**Question 5.2**: based on the neural network architecture of a linear regression model (part 2), build a neural network architecture performing a logistic regression model\n",
    "\n",
    "*tips : think about the neuron activation*"
   ]
  },
  {
   "cell_type": "markdown",
   "metadata": {
    "id": "lDxWnxsevxSE"
   },
   "source": [
    "**Question 5.3**: compile and fit your model with the proper [loss](https://keras.io/api/losses/), and visualize the evolutions of loss and accuracy metrics"
   ]
  },
  {
   "cell_type": "markdown",
   "metadata": {
    "id": "e-yZ4AkcuY_5"
   },
   "source": [
    "# 6. Visualizing model graphs with tensorboard (optional)"
   ]
  },
  {
   "cell_type": "markdown",
   "metadata": {
    "id": "tDGN-mlwuiC2"
   },
   "source": [
    "**Question 6:** use [tensorboard](https://www.tensorflow.org/tensorboard/graphs) to examine the graph of your last model"
   ]
  }
 ],
 "metadata": {
  "@webio": {
   "lastCommId": null,
   "lastKernelId": null
  },
  "colab": {
   "collapsed_sections": [
    "Sd23-3AbPiwF",
    "DNquB6IzUH1c",
    "KQS0eklsW9cd",
    "kpcYeLok5xZM",
    "lAMyVFvra5ZD",
    "e-yZ4AkcuY_5"
   ],
   "name": "TP4.ipynb",
   "provenance": []
  },
  "kernelspec": {
   "display_name": "Python 3",
   "language": "python",
   "name": "python3"
  },
  "language_info": {
   "codemirror_mode": {
    "name": "ipython",
    "version": 3
   },
   "file_extension": ".py",
   "mimetype": "text/x-python",
   "name": "python",
   "nbconvert_exporter": "python",
   "pygments_lexer": "ipython3",
   "version": "3.8.8"
  }
 },
 "nbformat": 4,
 "nbformat_minor": 1
}
